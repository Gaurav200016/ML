{
 "cells": [
  {
   "cell_type": "code",
   "execution_count": 2,
   "id": "e8f1ad77-70f6-4436-a791-7227830696de",
   "metadata": {},
   "outputs": [
    {
     "name": "stdout",
     "output_type": "stream",
     "text": [
      "DF1 (Student Details):\n",
      "    StudentID    Name\n",
      "0          1    Ravi\n",
      "1          2  Anjali\n",
      "2          3   Kiran\n",
      "\n",
      "DF2 (Science Marks):\n",
      "    StudentID  Science\n",
      "0          1       80\n",
      "1          2       75\n",
      "2          4       90\n"
     ]
    }
   ],
   "source": [
    "import pandas as pd\n",
    "\n",
    "# Left DataFrame: Student details\n",
    "df1 = pd.DataFrame({\n",
    "    \"StudentID\": [1, 2, 3],\n",
    "    \"Name\": [\"Ravi\", \"Anjali\", \"Kiran\"]\n",
    "})\n",
    "\n",
    "# Right DataFrame: Science Marks\n",
    "df2 = pd.DataFrame({\n",
    "    \"StudentID\": [1, 2, 4],\n",
    "    \"Science\": [80, 75, 90]\n",
    "})\n",
    "\n",
    "print(\"DF1 (Student Details):\\n\", df1)\n",
    "print(\"\\nDF2 (Science Marks):\\n\", df2)\n"
   ]
  },
  {
   "cell_type": "code",
   "execution_count": 4,
   "id": "78796fd4-ce6e-4c2a-b8c8-8f7f168b1893",
   "metadata": {},
   "outputs": [],
   "source": [
    "#Inner Join\n",
    "inner= pd.merge(df1,df2,on=\"StudentID\", how=\"inner\")"
   ]
  },
  {
   "cell_type": "code",
   "execution_count": 5,
   "id": "7c105065-457f-40a2-9eee-7aed38f5e444",
   "metadata": {},
   "outputs": [
    {
     "data": {
      "text/html": [
       "<div>\n",
       "<style scoped>\n",
       "    .dataframe tbody tr th:only-of-type {\n",
       "        vertical-align: middle;\n",
       "    }\n",
       "\n",
       "    .dataframe tbody tr th {\n",
       "        vertical-align: top;\n",
       "    }\n",
       "\n",
       "    .dataframe thead th {\n",
       "        text-align: right;\n",
       "    }\n",
       "</style>\n",
       "<table border=\"1\" class=\"dataframe\">\n",
       "  <thead>\n",
       "    <tr style=\"text-align: right;\">\n",
       "      <th></th>\n",
       "      <th>StudentID</th>\n",
       "      <th>Name</th>\n",
       "      <th>Science</th>\n",
       "    </tr>\n",
       "  </thead>\n",
       "  <tbody>\n",
       "    <tr>\n",
       "      <th>0</th>\n",
       "      <td>1</td>\n",
       "      <td>Ravi</td>\n",
       "      <td>80</td>\n",
       "    </tr>\n",
       "    <tr>\n",
       "      <th>1</th>\n",
       "      <td>2</td>\n",
       "      <td>Anjali</td>\n",
       "      <td>75</td>\n",
       "    </tr>\n",
       "  </tbody>\n",
       "</table>\n",
       "</div>"
      ],
      "text/plain": [
       "   StudentID    Name  Science\n",
       "0          1    Ravi       80\n",
       "1          2  Anjali       75"
      ]
     },
     "execution_count": 5,
     "metadata": {},
     "output_type": "execute_result"
    }
   ],
   "source": [
    "inner"
   ]
  },
  {
   "cell_type": "code",
   "execution_count": 6,
   "id": "d8d70610-d609-40ff-9dd8-e2f1b291faee",
   "metadata": {},
   "outputs": [],
   "source": [
    "left= pd.merge(df1,df2, on=\"StudentID\", how=\"left\")"
   ]
  },
  {
   "cell_type": "code",
   "execution_count": 7,
   "id": "750c7264-41ab-42e9-90f9-4f37ae907aa0",
   "metadata": {},
   "outputs": [
    {
     "data": {
      "text/html": [
       "<div>\n",
       "<style scoped>\n",
       "    .dataframe tbody tr th:only-of-type {\n",
       "        vertical-align: middle;\n",
       "    }\n",
       "\n",
       "    .dataframe tbody tr th {\n",
       "        vertical-align: top;\n",
       "    }\n",
       "\n",
       "    .dataframe thead th {\n",
       "        text-align: right;\n",
       "    }\n",
       "</style>\n",
       "<table border=\"1\" class=\"dataframe\">\n",
       "  <thead>\n",
       "    <tr style=\"text-align: right;\">\n",
       "      <th></th>\n",
       "      <th>StudentID</th>\n",
       "      <th>Name</th>\n",
       "      <th>Science</th>\n",
       "    </tr>\n",
       "  </thead>\n",
       "  <tbody>\n",
       "    <tr>\n",
       "      <th>0</th>\n",
       "      <td>1</td>\n",
       "      <td>Ravi</td>\n",
       "      <td>80.0</td>\n",
       "    </tr>\n",
       "    <tr>\n",
       "      <th>1</th>\n",
       "      <td>2</td>\n",
       "      <td>Anjali</td>\n",
       "      <td>75.0</td>\n",
       "    </tr>\n",
       "    <tr>\n",
       "      <th>2</th>\n",
       "      <td>3</td>\n",
       "      <td>Kiran</td>\n",
       "      <td>NaN</td>\n",
       "    </tr>\n",
       "  </tbody>\n",
       "</table>\n",
       "</div>"
      ],
      "text/plain": [
       "   StudentID    Name  Science\n",
       "0          1    Ravi     80.0\n",
       "1          2  Anjali     75.0\n",
       "2          3   Kiran      NaN"
      ]
     },
     "execution_count": 7,
     "metadata": {},
     "output_type": "execute_result"
    }
   ],
   "source": [
    "left"
   ]
  },
  {
   "cell_type": "code",
   "execution_count": 8,
   "id": "191a2872-6c60-4473-b799-a45893aa8bae",
   "metadata": {},
   "outputs": [],
   "source": [
    "right=pd.merge(df1,df2,on=\"StudentID\",how=\"right\")"
   ]
  },
  {
   "cell_type": "code",
   "execution_count": 9,
   "id": "edea61c7-7af2-44e8-b676-857a0cd339c8",
   "metadata": {},
   "outputs": [
    {
     "data": {
      "text/html": [
       "<div>\n",
       "<style scoped>\n",
       "    .dataframe tbody tr th:only-of-type {\n",
       "        vertical-align: middle;\n",
       "    }\n",
       "\n",
       "    .dataframe tbody tr th {\n",
       "        vertical-align: top;\n",
       "    }\n",
       "\n",
       "    .dataframe thead th {\n",
       "        text-align: right;\n",
       "    }\n",
       "</style>\n",
       "<table border=\"1\" class=\"dataframe\">\n",
       "  <thead>\n",
       "    <tr style=\"text-align: right;\">\n",
       "      <th></th>\n",
       "      <th>StudentID</th>\n",
       "      <th>Name</th>\n",
       "      <th>Science</th>\n",
       "    </tr>\n",
       "  </thead>\n",
       "  <tbody>\n",
       "    <tr>\n",
       "      <th>0</th>\n",
       "      <td>1</td>\n",
       "      <td>Ravi</td>\n",
       "      <td>80</td>\n",
       "    </tr>\n",
       "    <tr>\n",
       "      <th>1</th>\n",
       "      <td>2</td>\n",
       "      <td>Anjali</td>\n",
       "      <td>75</td>\n",
       "    </tr>\n",
       "    <tr>\n",
       "      <th>2</th>\n",
       "      <td>4</td>\n",
       "      <td>NaN</td>\n",
       "      <td>90</td>\n",
       "    </tr>\n",
       "  </tbody>\n",
       "</table>\n",
       "</div>"
      ],
      "text/plain": [
       "   StudentID    Name  Science\n",
       "0          1    Ravi       80\n",
       "1          2  Anjali       75\n",
       "2          4     NaN       90"
      ]
     },
     "execution_count": 9,
     "metadata": {},
     "output_type": "execute_result"
    }
   ],
   "source": [
    "right"
   ]
  },
  {
   "cell_type": "code",
   "execution_count": 10,
   "id": "b95a7197-a26f-464a-9f0c-12a8e32a9e5a",
   "metadata": {},
   "outputs": [],
   "source": [
    "outer= pd.merge(df1,df2,on=\"StudentID\",how=\"outer\")\n"
   ]
  },
  {
   "cell_type": "code",
   "execution_count": 11,
   "id": "0eb000a2-4b64-4046-b424-14ac6d0a2ff1",
   "metadata": {},
   "outputs": [
    {
     "data": {
      "text/html": [
       "<div>\n",
       "<style scoped>\n",
       "    .dataframe tbody tr th:only-of-type {\n",
       "        vertical-align: middle;\n",
       "    }\n",
       "\n",
       "    .dataframe tbody tr th {\n",
       "        vertical-align: top;\n",
       "    }\n",
       "\n",
       "    .dataframe thead th {\n",
       "        text-align: right;\n",
       "    }\n",
       "</style>\n",
       "<table border=\"1\" class=\"dataframe\">\n",
       "  <thead>\n",
       "    <tr style=\"text-align: right;\">\n",
       "      <th></th>\n",
       "      <th>StudentID</th>\n",
       "      <th>Name</th>\n",
       "      <th>Science</th>\n",
       "    </tr>\n",
       "  </thead>\n",
       "  <tbody>\n",
       "    <tr>\n",
       "      <th>0</th>\n",
       "      <td>1</td>\n",
       "      <td>Ravi</td>\n",
       "      <td>80.0</td>\n",
       "    </tr>\n",
       "    <tr>\n",
       "      <th>1</th>\n",
       "      <td>2</td>\n",
       "      <td>Anjali</td>\n",
       "      <td>75.0</td>\n",
       "    </tr>\n",
       "    <tr>\n",
       "      <th>2</th>\n",
       "      <td>3</td>\n",
       "      <td>Kiran</td>\n",
       "      <td>NaN</td>\n",
       "    </tr>\n",
       "    <tr>\n",
       "      <th>3</th>\n",
       "      <td>4</td>\n",
       "      <td>NaN</td>\n",
       "      <td>90.0</td>\n",
       "    </tr>\n",
       "  </tbody>\n",
       "</table>\n",
       "</div>"
      ],
      "text/plain": [
       "   StudentID    Name  Science\n",
       "0          1    Ravi     80.0\n",
       "1          2  Anjali     75.0\n",
       "2          3   Kiran      NaN\n",
       "3          4     NaN     90.0"
      ]
     },
     "execution_count": 11,
     "metadata": {},
     "output_type": "execute_result"
    }
   ],
   "source": [
    "outer"
   ]
  },
  {
   "cell_type": "code",
   "execution_count": 12,
   "id": "06a4eac5-c501-448c-80a0-f1669ccde12c",
   "metadata": {},
   "outputs": [],
   "source": [
    "#Merging — quick advanced moves (theory + hands-on)\n"
   ]
  },
  {
   "cell_type": "code",
   "execution_count": 13,
   "id": "5c8d0b24-b2da-47cb-bb61-5c7be0f7ff8a",
   "metadata": {},
   "outputs": [],
   "source": [
    "#1) Different key names\n",
    "dfA = pd.DataFrame({\"ID\":[1,2,3], \"Name\":[\"Ravi\",\"Anjali\",\"Kiran\"]})\n",
    "dfB = pd.DataFrame({\"student_id\":[1,2,4], \"Maths\":[81,76,90]})\n",
    "\n",
    "merged = pd.merge(dfA, dfB, left_on=\"ID\", right_on=\"student_id\", how=\"left\")\n",
    "merged = merged.drop(columns=\"student_id\")\n"
   ]
  },
  {
   "cell_type": "code",
   "execution_count": 14,
   "id": "47adffd3-e859-4ac1-b02d-fc80f7b72fbe",
   "metadata": {},
   "outputs": [
    {
     "data": {
      "text/html": [
       "<div>\n",
       "<style scoped>\n",
       "    .dataframe tbody tr th:only-of-type {\n",
       "        vertical-align: middle;\n",
       "    }\n",
       "\n",
       "    .dataframe tbody tr th {\n",
       "        vertical-align: top;\n",
       "    }\n",
       "\n",
       "    .dataframe thead th {\n",
       "        text-align: right;\n",
       "    }\n",
       "</style>\n",
       "<table border=\"1\" class=\"dataframe\">\n",
       "  <thead>\n",
       "    <tr style=\"text-align: right;\">\n",
       "      <th></th>\n",
       "      <th>ID</th>\n",
       "      <th>Name</th>\n",
       "      <th>Maths</th>\n",
       "    </tr>\n",
       "  </thead>\n",
       "  <tbody>\n",
       "    <tr>\n",
       "      <th>0</th>\n",
       "      <td>1</td>\n",
       "      <td>Ravi</td>\n",
       "      <td>81.0</td>\n",
       "    </tr>\n",
       "    <tr>\n",
       "      <th>1</th>\n",
       "      <td>2</td>\n",
       "      <td>Anjali</td>\n",
       "      <td>76.0</td>\n",
       "    </tr>\n",
       "    <tr>\n",
       "      <th>2</th>\n",
       "      <td>3</td>\n",
       "      <td>Kiran</td>\n",
       "      <td>NaN</td>\n",
       "    </tr>\n",
       "  </tbody>\n",
       "</table>\n",
       "</div>"
      ],
      "text/plain": [
       "   ID    Name  Maths\n",
       "0   1    Ravi   81.0\n",
       "1   2  Anjali   76.0\n",
       "2   3   Kiran    NaN"
      ]
     },
     "execution_count": 14,
     "metadata": {},
     "output_type": "execute_result"
    }
   ],
   "source": [
    "merged"
   ]
  },
  {
   "cell_type": "code",
   "execution_count": 15,
   "id": "052f3da9-f5af-4106-b71d-b0c996f10aaa",
   "metadata": {},
   "outputs": [],
   "source": [
    "#2) Overlapping column names → use suffixes\n",
    "dfC = pd.DataFrame({\"StudentID\":[1,2,3], \"City\":[\"Pune\",\"Delhi\",\"Goa\"]})\n",
    "dfD = pd.DataFrame({\"StudentID\":[2,3,4], \"City\":[\"Noida\",\"Panaji\",\"Hyderabad\"]})\n",
    "\n",
    "city_merge = pd.merge(dfC, dfD, on=\"StudentID\", how=\"outer\", suffixes=(\"_old\",\"_new\"))\n"
   ]
  },
  {
   "cell_type": "code",
   "execution_count": 16,
   "id": "9da53cb7-5237-42bc-9db6-ab4b8142201a",
   "metadata": {},
   "outputs": [
    {
     "data": {
      "text/html": [
       "<div>\n",
       "<style scoped>\n",
       "    .dataframe tbody tr th:only-of-type {\n",
       "        vertical-align: middle;\n",
       "    }\n",
       "\n",
       "    .dataframe tbody tr th {\n",
       "        vertical-align: top;\n",
       "    }\n",
       "\n",
       "    .dataframe thead th {\n",
       "        text-align: right;\n",
       "    }\n",
       "</style>\n",
       "<table border=\"1\" class=\"dataframe\">\n",
       "  <thead>\n",
       "    <tr style=\"text-align: right;\">\n",
       "      <th></th>\n",
       "      <th>StudentID</th>\n",
       "      <th>City_old</th>\n",
       "      <th>City_new</th>\n",
       "    </tr>\n",
       "  </thead>\n",
       "  <tbody>\n",
       "    <tr>\n",
       "      <th>0</th>\n",
       "      <td>1</td>\n",
       "      <td>Pune</td>\n",
       "      <td>NaN</td>\n",
       "    </tr>\n",
       "    <tr>\n",
       "      <th>1</th>\n",
       "      <td>2</td>\n",
       "      <td>Delhi</td>\n",
       "      <td>Noida</td>\n",
       "    </tr>\n",
       "    <tr>\n",
       "      <th>2</th>\n",
       "      <td>3</td>\n",
       "      <td>Goa</td>\n",
       "      <td>Panaji</td>\n",
       "    </tr>\n",
       "    <tr>\n",
       "      <th>3</th>\n",
       "      <td>4</td>\n",
       "      <td>NaN</td>\n",
       "      <td>Hyderabad</td>\n",
       "    </tr>\n",
       "  </tbody>\n",
       "</table>\n",
       "</div>"
      ],
      "text/plain": [
       "   StudentID City_old   City_new\n",
       "0          1     Pune        NaN\n",
       "1          2    Delhi      Noida\n",
       "2          3      Goa     Panaji\n",
       "3          4      NaN  Hyderabad"
      ]
     },
     "execution_count": 16,
     "metadata": {},
     "output_type": "execute_result"
    }
   ],
   "source": [
    "city_merge"
   ]
  },
  {
   "cell_type": "code",
   "execution_count": 17,
   "id": "9d2a7e5d-a851-47a1-8221-d61da8fa4b65",
   "metadata": {},
   "outputs": [],
   "source": [
    "#3) See which rows matched (debugging!) → indicator=True\n",
    "dbg = pd.merge(dfA, dfB, left_on=\"ID\", right_on=\"student_id\",\n",
    "               how=\"outer\", indicator=True)\n",
    "# Rows that didn’t match on both sides\n",
    "unmatched = dbg[dbg[\"_merge\"] != \"both\"]\n"
   ]
  },
  {
   "cell_type": "code",
   "execution_count": 18,
   "id": "c02d7740-688c-4efc-841b-3e49dd3d7bb6",
   "metadata": {},
   "outputs": [
    {
     "data": {
      "text/html": [
       "<div>\n",
       "<style scoped>\n",
       "    .dataframe tbody tr th:only-of-type {\n",
       "        vertical-align: middle;\n",
       "    }\n",
       "\n",
       "    .dataframe tbody tr th {\n",
       "        vertical-align: top;\n",
       "    }\n",
       "\n",
       "    .dataframe thead th {\n",
       "        text-align: right;\n",
       "    }\n",
       "</style>\n",
       "<table border=\"1\" class=\"dataframe\">\n",
       "  <thead>\n",
       "    <tr style=\"text-align: right;\">\n",
       "      <th></th>\n",
       "      <th>ID</th>\n",
       "      <th>Name</th>\n",
       "      <th>student_id</th>\n",
       "      <th>Maths</th>\n",
       "      <th>_merge</th>\n",
       "    </tr>\n",
       "  </thead>\n",
       "  <tbody>\n",
       "    <tr>\n",
       "      <th>2</th>\n",
       "      <td>3.0</td>\n",
       "      <td>Kiran</td>\n",
       "      <td>NaN</td>\n",
       "      <td>NaN</td>\n",
       "      <td>left_only</td>\n",
       "    </tr>\n",
       "    <tr>\n",
       "      <th>3</th>\n",
       "      <td>NaN</td>\n",
       "      <td>NaN</td>\n",
       "      <td>4.0</td>\n",
       "      <td>90.0</td>\n",
       "      <td>right_only</td>\n",
       "    </tr>\n",
       "  </tbody>\n",
       "</table>\n",
       "</div>"
      ],
      "text/plain": [
       "    ID   Name  student_id  Maths      _merge\n",
       "2  3.0  Kiran         NaN    NaN   left_only\n",
       "3  NaN    NaN         4.0   90.0  right_only"
      ]
     },
     "execution_count": 18,
     "metadata": {},
     "output_type": "execute_result"
    }
   ],
   "source": [
    "unmatched"
   ]
  },
  {
   "cell_type": "code",
   "execution_count": 19,
   "id": "4e8a20e6-fd05-4dca-a3ec-b52f2bb933b6",
   "metadata": {},
   "outputs": [
    {
     "data": {
      "text/html": [
       "<div>\n",
       "<style scoped>\n",
       "    .dataframe tbody tr th:only-of-type {\n",
       "        vertical-align: middle;\n",
       "    }\n",
       "\n",
       "    .dataframe tbody tr th {\n",
       "        vertical-align: top;\n",
       "    }\n",
       "\n",
       "    .dataframe thead th {\n",
       "        text-align: right;\n",
       "    }\n",
       "</style>\n",
       "<table border=\"1\" class=\"dataframe\">\n",
       "  <thead>\n",
       "    <tr style=\"text-align: right;\">\n",
       "      <th></th>\n",
       "      <th>ID</th>\n",
       "      <th>Name</th>\n",
       "      <th>student_id</th>\n",
       "      <th>Maths</th>\n",
       "      <th>_merge</th>\n",
       "    </tr>\n",
       "  </thead>\n",
       "  <tbody>\n",
       "    <tr>\n",
       "      <th>0</th>\n",
       "      <td>1.0</td>\n",
       "      <td>Ravi</td>\n",
       "      <td>1.0</td>\n",
       "      <td>81.0</td>\n",
       "      <td>both</td>\n",
       "    </tr>\n",
       "    <tr>\n",
       "      <th>1</th>\n",
       "      <td>2.0</td>\n",
       "      <td>Anjali</td>\n",
       "      <td>2.0</td>\n",
       "      <td>76.0</td>\n",
       "      <td>both</td>\n",
       "    </tr>\n",
       "    <tr>\n",
       "      <th>2</th>\n",
       "      <td>3.0</td>\n",
       "      <td>Kiran</td>\n",
       "      <td>NaN</td>\n",
       "      <td>NaN</td>\n",
       "      <td>left_only</td>\n",
       "    </tr>\n",
       "    <tr>\n",
       "      <th>3</th>\n",
       "      <td>NaN</td>\n",
       "      <td>NaN</td>\n",
       "      <td>4.0</td>\n",
       "      <td>90.0</td>\n",
       "      <td>right_only</td>\n",
       "    </tr>\n",
       "  </tbody>\n",
       "</table>\n",
       "</div>"
      ],
      "text/plain": [
       "    ID    Name  student_id  Maths      _merge\n",
       "0  1.0    Ravi         1.0   81.0        both\n",
       "1  2.0  Anjali         2.0   76.0        both\n",
       "2  3.0   Kiran         NaN    NaN   left_only\n",
       "3  NaN     NaN         4.0   90.0  right_only"
      ]
     },
     "execution_count": 19,
     "metadata": {},
     "output_type": "execute_result"
    }
   ],
   "source": [
    "dbg"
   ]
  },
  {
   "cell_type": "code",
   "execution_count": 20,
   "id": "685fae25-86c1-4497-9f05-faef5ef2be65",
   "metadata": {},
   "outputs": [],
   "source": [
    "#) Guard against accidental cartesian explosions → validate=\n",
    "# Expect strict one-to-one key match:\n",
    "clean = pd.merge(dfA, dfB, left_on=\"ID\", right_on=\"student_id\",\n",
    "                 how=\"inner\", validate=\"one_to_one\")\n",
    "# Valid options: \"one_to_one\", \"one_to_many\", \"many_to_one\", \"many_to_many\"\n"
   ]
  },
  {
   "cell_type": "code",
   "execution_count": 21,
   "id": "88ed7bbf-7ece-4666-87a2-148fa7bce3b6",
   "metadata": {},
   "outputs": [
    {
     "data": {
      "text/html": [
       "<div>\n",
       "<style scoped>\n",
       "    .dataframe tbody tr th:only-of-type {\n",
       "        vertical-align: middle;\n",
       "    }\n",
       "\n",
       "    .dataframe tbody tr th {\n",
       "        vertical-align: top;\n",
       "    }\n",
       "\n",
       "    .dataframe thead th {\n",
       "        text-align: right;\n",
       "    }\n",
       "</style>\n",
       "<table border=\"1\" class=\"dataframe\">\n",
       "  <thead>\n",
       "    <tr style=\"text-align: right;\">\n",
       "      <th></th>\n",
       "      <th>ID</th>\n",
       "      <th>Name</th>\n",
       "      <th>student_id</th>\n",
       "      <th>Maths</th>\n",
       "    </tr>\n",
       "  </thead>\n",
       "  <tbody>\n",
       "    <tr>\n",
       "      <th>0</th>\n",
       "      <td>1</td>\n",
       "      <td>Ravi</td>\n",
       "      <td>1</td>\n",
       "      <td>81</td>\n",
       "    </tr>\n",
       "    <tr>\n",
       "      <th>1</th>\n",
       "      <td>2</td>\n",
       "      <td>Anjali</td>\n",
       "      <td>2</td>\n",
       "      <td>76</td>\n",
       "    </tr>\n",
       "  </tbody>\n",
       "</table>\n",
       "</div>"
      ],
      "text/plain": [
       "   ID    Name  student_id  Maths\n",
       "0   1    Ravi           1     81\n",
       "1   2  Anjali           2     76"
      ]
     },
     "execution_count": 21,
     "metadata": {},
     "output_type": "execute_result"
    }
   ],
   "source": [
    "clean"
   ]
  },
  {
   "cell_type": "code",
   "execution_count": 22,
   "id": "9ed4a940-3737-464a-94c1-b16715d0ed7e",
   "metadata": {},
   "outputs": [],
   "source": [
    "#5) Concatenation (stacking same-schema tables)\n",
    "term1 = pd.DataFrame({\"StudentID\":[1,2], \"Science\":[80,75]})\n",
    "term2 = pd.DataFrame({\"StudentID\":[3,4], \"Science\":[68,90]})\n",
    "\n",
    "stacked = pd.concat([term1, term2], ignore_index=True)  # row-wise\n"
   ]
  },
  {
   "cell_type": "code",
   "execution_count": 23,
   "id": "d1b558cf-01cd-4e41-adb3-cf630202be62",
   "metadata": {},
   "outputs": [
    {
     "data": {
      "text/html": [
       "<div>\n",
       "<style scoped>\n",
       "    .dataframe tbody tr th:only-of-type {\n",
       "        vertical-align: middle;\n",
       "    }\n",
       "\n",
       "    .dataframe tbody tr th {\n",
       "        vertical-align: top;\n",
       "    }\n",
       "\n",
       "    .dataframe thead th {\n",
       "        text-align: right;\n",
       "    }\n",
       "</style>\n",
       "<table border=\"1\" class=\"dataframe\">\n",
       "  <thead>\n",
       "    <tr style=\"text-align: right;\">\n",
       "      <th></th>\n",
       "      <th>StudentID</th>\n",
       "      <th>Science</th>\n",
       "    </tr>\n",
       "  </thead>\n",
       "  <tbody>\n",
       "    <tr>\n",
       "      <th>0</th>\n",
       "      <td>1</td>\n",
       "      <td>80</td>\n",
       "    </tr>\n",
       "    <tr>\n",
       "      <th>1</th>\n",
       "      <td>2</td>\n",
       "      <td>75</td>\n",
       "    </tr>\n",
       "    <tr>\n",
       "      <th>2</th>\n",
       "      <td>3</td>\n",
       "      <td>68</td>\n",
       "    </tr>\n",
       "    <tr>\n",
       "      <th>3</th>\n",
       "      <td>4</td>\n",
       "      <td>90</td>\n",
       "    </tr>\n",
       "  </tbody>\n",
       "</table>\n",
       "</div>"
      ],
      "text/plain": [
       "   StudentID  Science\n",
       "0          1       80\n",
       "1          2       75\n",
       "2          3       68\n",
       "3          4       90"
      ]
     },
     "execution_count": 23,
     "metadata": {},
     "output_type": "execute_result"
    }
   ],
   "source": [
    "stacked"
   ]
  },
  {
   "cell_type": "markdown",
   "id": "0a215674-95e4-4d04-84eb-0d7dfb9dcc35",
   "metadata": {},
   "source": [
    "Mini Practicals"
   ]
  },
  {
   "cell_type": "code",
   "execution_count": 24,
   "id": "1dd9cced-cd02-4627-a05a-b2c2281bd348",
   "metadata": {},
   "outputs": [],
   "source": [
    "#p1) Merge dfA & dfB (different key names) with a left join, keep only [\"ID\",\"Name\",\"Maths\"]."
   ]
  },
  {
   "cell_type": "code",
   "execution_count": 38,
   "id": "4101f232-3055-46c4-b00c-f226caaf30c9",
   "metadata": {},
   "outputs": [],
   "source": [
    "p1merge=pd.merge(dfA,dfB, left_on=\"ID\", right_on=\"student_id\", how =\"left\")\n",
    "p1merge=p1merge.drop(columns=\"student_id\")"
   ]
  },
  {
   "cell_type": "code",
   "execution_count": 39,
   "id": "01b9575a-e43c-4b7b-a40c-9db54aede9b7",
   "metadata": {},
   "outputs": [
    {
     "data": {
      "text/html": [
       "<div>\n",
       "<style scoped>\n",
       "    .dataframe tbody tr th:only-of-type {\n",
       "        vertical-align: middle;\n",
       "    }\n",
       "\n",
       "    .dataframe tbody tr th {\n",
       "        vertical-align: top;\n",
       "    }\n",
       "\n",
       "    .dataframe thead th {\n",
       "        text-align: right;\n",
       "    }\n",
       "</style>\n",
       "<table border=\"1\" class=\"dataframe\">\n",
       "  <thead>\n",
       "    <tr style=\"text-align: right;\">\n",
       "      <th></th>\n",
       "      <th>ID</th>\n",
       "      <th>Name</th>\n",
       "      <th>Maths</th>\n",
       "    </tr>\n",
       "  </thead>\n",
       "  <tbody>\n",
       "    <tr>\n",
       "      <th>0</th>\n",
       "      <td>1</td>\n",
       "      <td>Ravi</td>\n",
       "      <td>81.0</td>\n",
       "    </tr>\n",
       "    <tr>\n",
       "      <th>1</th>\n",
       "      <td>2</td>\n",
       "      <td>Anjali</td>\n",
       "      <td>76.0</td>\n",
       "    </tr>\n",
       "    <tr>\n",
       "      <th>2</th>\n",
       "      <td>3</td>\n",
       "      <td>Kiran</td>\n",
       "      <td>NaN</td>\n",
       "    </tr>\n",
       "  </tbody>\n",
       "</table>\n",
       "</div>"
      ],
      "text/plain": [
       "   ID    Name  Maths\n",
       "0   1    Ravi   81.0\n",
       "1   2  Anjali   76.0\n",
       "2   3   Kiran    NaN"
      ]
     },
     "execution_count": 39,
     "metadata": {},
     "output_type": "execute_result"
    }
   ],
   "source": [
    "p1merge"
   ]
  },
  {
   "cell_type": "code",
   "execution_count": 43,
   "id": "16959a99-3a05-4e53-93ae-2cd96d26a428",
   "metadata": {},
   "outputs": [],
   "source": [
    "#P2) Using city_merge above, show only rows where the city changed \n",
    "#(i.e., City_old != City_new and neither is NaN)."
   ]
  },
  {
   "cell_type": "code",
   "execution_count": 50,
   "id": "85675f42-24b4-4857-9831-480bc24356ac",
   "metadata": {},
   "outputs": [
    {
     "data": {
      "text/html": [
       "<div>\n",
       "<style scoped>\n",
       "    .dataframe tbody tr th:only-of-type {\n",
       "        vertical-align: middle;\n",
       "    }\n",
       "\n",
       "    .dataframe tbody tr th {\n",
       "        vertical-align: top;\n",
       "    }\n",
       "\n",
       "    .dataframe thead th {\n",
       "        text-align: right;\n",
       "    }\n",
       "</style>\n",
       "<table border=\"1\" class=\"dataframe\">\n",
       "  <thead>\n",
       "    <tr style=\"text-align: right;\">\n",
       "      <th></th>\n",
       "      <th>StudentID</th>\n",
       "      <th>City_old</th>\n",
       "      <th>City_new</th>\n",
       "    </tr>\n",
       "  </thead>\n",
       "  <tbody>\n",
       "    <tr>\n",
       "      <th>1</th>\n",
       "      <td>2</td>\n",
       "      <td>Delhi</td>\n",
       "      <td>Noida</td>\n",
       "    </tr>\n",
       "    <tr>\n",
       "      <th>2</th>\n",
       "      <td>3</td>\n",
       "      <td>Goa</td>\n",
       "      <td>Panaji</td>\n",
       "    </tr>\n",
       "  </tbody>\n",
       "</table>\n",
       "</div>"
      ],
      "text/plain": [
       "   StudentID City_old City_new\n",
       "1          2    Delhi    Noida\n",
       "2          3      Goa   Panaji"
      ]
     },
     "execution_count": 50,
     "metadata": {},
     "output_type": "execute_result"
    }
   ],
   "source": [
    "filter_city=city_merge[city_merge[\"City_old\"]!=city_merge[\"City_new\"]].dropna()\n",
    "filter_city"
   ]
  },
  {
   "cell_type": "code",
   "execution_count": 52,
   "id": "d83d0f1a-93cb-4e76-9bc1-0b4f304a87ff",
   "metadata": {},
   "outputs": [],
   "source": [
    "#P3. Do an outer merge of dfA & dfB \n",
    "#with indicator=True, and print only the rows coming from right_only."
   ]
  },
  {
   "cell_type": "code",
   "execution_count": 61,
   "id": "1d6ccfd1-65fb-45f3-b2c6-0b7c2d06408f",
   "metadata": {},
   "outputs": [
    {
     "data": {
      "text/html": [
       "<div>\n",
       "<style scoped>\n",
       "    .dataframe tbody tr th:only-of-type {\n",
       "        vertical-align: middle;\n",
       "    }\n",
       "\n",
       "    .dataframe tbody tr th {\n",
       "        vertical-align: top;\n",
       "    }\n",
       "\n",
       "    .dataframe thead th {\n",
       "        text-align: right;\n",
       "    }\n",
       "</style>\n",
       "<table border=\"1\" class=\"dataframe\">\n",
       "  <thead>\n",
       "    <tr style=\"text-align: right;\">\n",
       "      <th></th>\n",
       "      <th>ID</th>\n",
       "      <th>Name</th>\n",
       "      <th>student_id</th>\n",
       "      <th>Maths</th>\n",
       "      <th>_merge</th>\n",
       "    </tr>\n",
       "  </thead>\n",
       "  <tbody>\n",
       "    <tr>\n",
       "      <th>3</th>\n",
       "      <td>NaN</td>\n",
       "      <td>NaN</td>\n",
       "      <td>4.0</td>\n",
       "      <td>90.0</td>\n",
       "      <td>right_only</td>\n",
       "    </tr>\n",
       "  </tbody>\n",
       "</table>\n",
       "</div>"
      ],
      "text/plain": [
       "   ID Name  student_id  Maths      _merge\n",
       "3 NaN  NaN         4.0   90.0  right_only"
      ]
     },
     "execution_count": 61,
     "metadata": {},
     "output_type": "execute_result"
    }
   ],
   "source": [
    "p3m= pd.merge(dfA, dfB, left_on=\"ID\", right_on=\"student_id\", how=\"outer\", indicator=True)\n",
    "p3m =p3m[p3m[\"_merge\"]==\"right_only\"]\n",
    "p3m"
   ]
  },
  {
   "cell_type": "code",
   "execution_count": 62,
   "id": "4ac94ef3-e6ea-4978-8290-4d954c1d7a65",
   "metadata": {},
   "outputs": [],
   "source": [
    "#P4. Create dfDup = pd.DataFrame({\"ID\":[1,1,2], \"Hobby\":[\"Chess\",\"Cricket\",\"Music\"]})\n",
    "#Merge dfA with dfDup on ID using validate=\"one_to_one\" and observe what happens; \n",
    "#then fix it with the correct validate mode."
   ]
  },
  {
   "cell_type": "code",
   "execution_count": 63,
   "id": "dd4482bf-2f8e-4502-a0cf-acb7293403c7",
   "metadata": {},
   "outputs": [],
   "source": [
    "dfDup = pd.DataFrame({\"ID\":[1,1,2], \"Hobby\":[\"Chess\",\"Cricket\",\"Music\"]})"
   ]
  },
  {
   "cell_type": "code",
   "execution_count": 72,
   "id": "eb2fb799-7e66-43a3-a4cd-49ce04417223",
   "metadata": {},
   "outputs": [
    {
     "data": {
      "text/html": [
       "<div>\n",
       "<style scoped>\n",
       "    .dataframe tbody tr th:only-of-type {\n",
       "        vertical-align: middle;\n",
       "    }\n",
       "\n",
       "    .dataframe tbody tr th {\n",
       "        vertical-align: top;\n",
       "    }\n",
       "\n",
       "    .dataframe thead th {\n",
       "        text-align: right;\n",
       "    }\n",
       "</style>\n",
       "<table border=\"1\" class=\"dataframe\">\n",
       "  <thead>\n",
       "    <tr style=\"text-align: right;\">\n",
       "      <th></th>\n",
       "      <th>ID</th>\n",
       "      <th>Name</th>\n",
       "      <th>Hobby</th>\n",
       "    </tr>\n",
       "  </thead>\n",
       "  <tbody>\n",
       "    <tr>\n",
       "      <th>0</th>\n",
       "      <td>1</td>\n",
       "      <td>Ravi</td>\n",
       "      <td>Chess</td>\n",
       "    </tr>\n",
       "    <tr>\n",
       "      <th>1</th>\n",
       "      <td>1</td>\n",
       "      <td>Ravi</td>\n",
       "      <td>Cricket</td>\n",
       "    </tr>\n",
       "    <tr>\n",
       "      <th>2</th>\n",
       "      <td>2</td>\n",
       "      <td>Anjali</td>\n",
       "      <td>Music</td>\n",
       "    </tr>\n",
       "  </tbody>\n",
       "</table>\n",
       "</div>"
      ],
      "text/plain": [
       "   ID    Name    Hobby\n",
       "0   1    Ravi    Chess\n",
       "1   1    Ravi  Cricket\n",
       "2   2  Anjali    Music"
      ]
     },
     "execution_count": 72,
     "metadata": {},
     "output_type": "execute_result"
    }
   ],
   "source": [
    "dp4= pd.merge(dfA, dfDup, on=\"ID\", how=\"inner\", validate=\"one_to_many\")\n",
    "dp4"
   ]
  },
  {
   "cell_type": "code",
   "execution_count": 73,
   "id": "d4008d40-eb2b-4855-9b4d-143996c8a2f0",
   "metadata": {},
   "outputs": [],
   "source": [
    "dfe = pd.DataFrame({\"ID\":[1,1,2], \"Hobby\":[\"Chess\",\"Cricket\",\"Music\"]})\n",
    "dff = pd.DataFrame({\"ID\":[1,1,2], \"Hobby\":[\"Chess\",\"Cricket\",\"Music\"]})"
   ]
  },
  {
   "cell_type": "code",
   "execution_count": 75,
   "id": "df7fdbf3-bafc-4295-bcc3-0fdc6de21c7d",
   "metadata": {},
   "outputs": [
    {
     "data": {
      "text/html": [
       "<div>\n",
       "<style scoped>\n",
       "    .dataframe tbody tr th:only-of-type {\n",
       "        vertical-align: middle;\n",
       "    }\n",
       "\n",
       "    .dataframe tbody tr th {\n",
       "        vertical-align: top;\n",
       "    }\n",
       "\n",
       "    .dataframe thead th {\n",
       "        text-align: right;\n",
       "    }\n",
       "</style>\n",
       "<table border=\"1\" class=\"dataframe\">\n",
       "  <thead>\n",
       "    <tr style=\"text-align: right;\">\n",
       "      <th></th>\n",
       "      <th>ID</th>\n",
       "      <th>Hobby_x</th>\n",
       "      <th>Hobby_y</th>\n",
       "    </tr>\n",
       "  </thead>\n",
       "  <tbody>\n",
       "    <tr>\n",
       "      <th>0</th>\n",
       "      <td>1</td>\n",
       "      <td>Chess</td>\n",
       "      <td>Chess</td>\n",
       "    </tr>\n",
       "    <tr>\n",
       "      <th>1</th>\n",
       "      <td>1</td>\n",
       "      <td>Chess</td>\n",
       "      <td>Cricket</td>\n",
       "    </tr>\n",
       "    <tr>\n",
       "      <th>2</th>\n",
       "      <td>1</td>\n",
       "      <td>Cricket</td>\n",
       "      <td>Chess</td>\n",
       "    </tr>\n",
       "    <tr>\n",
       "      <th>3</th>\n",
       "      <td>1</td>\n",
       "      <td>Cricket</td>\n",
       "      <td>Cricket</td>\n",
       "    </tr>\n",
       "    <tr>\n",
       "      <th>4</th>\n",
       "      <td>2</td>\n",
       "      <td>Music</td>\n",
       "      <td>Music</td>\n",
       "    </tr>\n",
       "  </tbody>\n",
       "</table>\n",
       "</div>"
      ],
      "text/plain": [
       "   ID  Hobby_x  Hobby_y\n",
       "0   1    Chess    Chess\n",
       "1   1    Chess  Cricket\n",
       "2   1  Cricket    Chess\n",
       "3   1  Cricket  Cricket\n",
       "4   2    Music    Music"
      ]
     },
     "execution_count": 75,
     "metadata": {},
     "output_type": "execute_result"
    }
   ],
   "source": [
    "dp5= pd.merge(dfe, dff, on=\"ID\", how=\"inner\")\n",
    "dp5"
   ]
  },
  {
   "cell_type": "code",
   "execution_count": 1,
   "id": "9984d6b6-9e75-4d1a-96ae-2247175a072b",
   "metadata": {},
   "outputs": [],
   "source": [
    "import pandas as pd\n",
    "\n",
    "# Students\n",
    "students = pd.DataFrame({\n",
    "    \"ID\": [1, 2, 3, 4],\n",
    "    \"Name\": [\"Alice\", \"Bob\", \"Charlie\", \"David\"]\n",
    "})\n",
    "\n",
    "# Marks\n",
    "marks = pd.DataFrame({\n",
    "    \"student_id\": [1, 2, 2, 3],\n",
    "    \"Subject\": [\"Maths\", \"Maths\", \"Science\", \"English\"],\n",
    "    \"Score\": [85, 90, 78, 88]\n",
    "})\n",
    "\n",
    "# Teachers\n",
    "teachers = pd.DataFrame({\n",
    "    \"Subject\": [\"Maths\", \"Science\", \"English\", \"History\"],\n",
    "    \"Teacher\": [\"Mr. Smith\", \"Mrs. Lee\", \"Mr. Brown\", \"Dr. Green\"]\n",
    "})\n"
   ]
  },
  {
   "cell_type": "code",
   "execution_count": 5,
   "id": "7f7735f6-73f6-4c46-957f-d36bdb0309a4",
   "metadata": {},
   "outputs": [],
   "source": [
    "#Show all students with their marks (if present).\n",
    "#(Hint: left join students with marks.)"
   ]
  },
  {
   "cell_type": "code",
   "execution_count": 18,
   "id": "dfc1b050-d2e0-405c-84fa-0cf7cbbc2678",
   "metadata": {},
   "outputs": [
    {
     "data": {
      "text/html": [
       "<div>\n",
       "<style scoped>\n",
       "    .dataframe tbody tr th:only-of-type {\n",
       "        vertical-align: middle;\n",
       "    }\n",
       "\n",
       "    .dataframe tbody tr th {\n",
       "        vertical-align: top;\n",
       "    }\n",
       "\n",
       "    .dataframe thead th {\n",
       "        text-align: right;\n",
       "    }\n",
       "</style>\n",
       "<table border=\"1\" class=\"dataframe\">\n",
       "  <thead>\n",
       "    <tr style=\"text-align: right;\">\n",
       "      <th></th>\n",
       "      <th>ID</th>\n",
       "      <th>Name</th>\n",
       "      <th>Subject</th>\n",
       "      <th>Score</th>\n",
       "    </tr>\n",
       "  </thead>\n",
       "  <tbody>\n",
       "    <tr>\n",
       "      <th>0</th>\n",
       "      <td>1</td>\n",
       "      <td>Alice</td>\n",
       "      <td>Maths</td>\n",
       "      <td>85.0</td>\n",
       "    </tr>\n",
       "    <tr>\n",
       "      <th>1</th>\n",
       "      <td>2</td>\n",
       "      <td>Bob</td>\n",
       "      <td>Maths</td>\n",
       "      <td>90.0</td>\n",
       "    </tr>\n",
       "    <tr>\n",
       "      <th>2</th>\n",
       "      <td>2</td>\n",
       "      <td>Bob</td>\n",
       "      <td>Science</td>\n",
       "      <td>78.0</td>\n",
       "    </tr>\n",
       "    <tr>\n",
       "      <th>3</th>\n",
       "      <td>3</td>\n",
       "      <td>Charlie</td>\n",
       "      <td>English</td>\n",
       "      <td>88.0</td>\n",
       "    </tr>\n",
       "  </tbody>\n",
       "</table>\n",
       "</div>"
      ],
      "text/plain": [
       "   ID     Name  Subject  Score\n",
       "0   1    Alice    Maths   85.0\n",
       "1   2      Bob    Maths   90.0\n",
       "2   2      Bob  Science   78.0\n",
       "3   3  Charlie  English   88.0"
      ]
     },
     "execution_count": 18,
     "metadata": {},
     "output_type": "execute_result"
    }
   ],
   "source": [
    "studentmarks=pd.merge(students,marks,how=\"left\", left_on=\"ID\", right_on=\"student_id\")\n",
    "studentmarks=studentmarks.drop(columns=['student_id'])\n",
    "studentmarks=studentmarks[~studentmarks.isnull().any(axis=1)]\n",
    "studentmarks"
   ]
  },
  {
   "cell_type": "code",
   "execution_count": 20,
   "id": "8d3a5372-cbc9-49a1-bd37-c57151f1c910",
   "metadata": {},
   "outputs": [],
   "source": [
    "# Show only the rows where student and marks both exist.\n",
    "# (Hint: inner join.)"
   ]
  },
  {
   "cell_type": "code",
   "execution_count": 57,
   "id": "7e0446f8-298a-4fd2-a5be-660b76f524a2",
   "metadata": {},
   "outputs": [
    {
     "data": {
      "text/html": [
       "<div>\n",
       "<style scoped>\n",
       "    .dataframe tbody tr th:only-of-type {\n",
       "        vertical-align: middle;\n",
       "    }\n",
       "\n",
       "    .dataframe tbody tr th {\n",
       "        vertical-align: top;\n",
       "    }\n",
       "\n",
       "    .dataframe thead th {\n",
       "        text-align: right;\n",
       "    }\n",
       "</style>\n",
       "<table border=\"1\" class=\"dataframe\">\n",
       "  <thead>\n",
       "    <tr style=\"text-align: right;\">\n",
       "      <th></th>\n",
       "      <th>ID</th>\n",
       "      <th>Name</th>\n",
       "      <th>Subject</th>\n",
       "      <th>Score</th>\n",
       "    </tr>\n",
       "  </thead>\n",
       "  <tbody>\n",
       "    <tr>\n",
       "      <th>0</th>\n",
       "      <td>1</td>\n",
       "      <td>Alice</td>\n",
       "      <td>Maths</td>\n",
       "      <td>85</td>\n",
       "    </tr>\n",
       "    <tr>\n",
       "      <th>1</th>\n",
       "      <td>2</td>\n",
       "      <td>Bob</td>\n",
       "      <td>Maths</td>\n",
       "      <td>90</td>\n",
       "    </tr>\n",
       "    <tr>\n",
       "      <th>2</th>\n",
       "      <td>2</td>\n",
       "      <td>Bob</td>\n",
       "      <td>Science</td>\n",
       "      <td>78</td>\n",
       "    </tr>\n",
       "    <tr>\n",
       "      <th>3</th>\n",
       "      <td>3</td>\n",
       "      <td>Charlie</td>\n",
       "      <td>English</td>\n",
       "      <td>88</td>\n",
       "    </tr>\n",
       "  </tbody>\n",
       "</table>\n",
       "</div>"
      ],
      "text/plain": [
       "   ID     Name  Subject  Score\n",
       "0   1    Alice    Maths     85\n",
       "1   2      Bob    Maths     90\n",
       "2   2      Bob  Science     78\n",
       "3   3  Charlie  English     88"
      ]
     },
     "execution_count": 57,
     "metadata": {},
     "output_type": "execute_result"
    }
   ],
   "source": [
    "stmb=pd.merge(students,marks,how=\"inner\", left_on=\"ID\", right_on=\"student_id\")\n",
    "stmb.drop(columns=['student_id'])"
   ]
  },
  {
   "cell_type": "code",
   "execution_count": 25,
   "id": "4f3ae21e-8a5d-4033-8c0e-6c49b784189d",
   "metadata": {},
   "outputs": [],
   "source": [
    "# Show students with subjects and their teachers, even if the teacher doesn’t exist in teachers.\n",
    "# (Hint: join marks with teachers.)"
   ]
  },
  {
   "cell_type": "code",
   "execution_count": 28,
   "id": "1e077dfd-dfb2-491b-94fe-beb5f156d431",
   "metadata": {},
   "outputs": [],
   "source": [
    "srm=pd.merge(marks,teachers,how=\"left\",on=\"Subject\")"
   ]
  },
  {
   "cell_type": "code",
   "execution_count": 29,
   "id": "55a55f4b-350d-4fa0-964d-157e22405a51",
   "metadata": {},
   "outputs": [
    {
     "data": {
      "text/html": [
       "<div>\n",
       "<style scoped>\n",
       "    .dataframe tbody tr th:only-of-type {\n",
       "        vertical-align: middle;\n",
       "    }\n",
       "\n",
       "    .dataframe tbody tr th {\n",
       "        vertical-align: top;\n",
       "    }\n",
       "\n",
       "    .dataframe thead th {\n",
       "        text-align: right;\n",
       "    }\n",
       "</style>\n",
       "<table border=\"1\" class=\"dataframe\">\n",
       "  <thead>\n",
       "    <tr style=\"text-align: right;\">\n",
       "      <th></th>\n",
       "      <th>student_id</th>\n",
       "      <th>Subject</th>\n",
       "      <th>Score</th>\n",
       "      <th>Teacher</th>\n",
       "    </tr>\n",
       "  </thead>\n",
       "  <tbody>\n",
       "    <tr>\n",
       "      <th>0</th>\n",
       "      <td>1</td>\n",
       "      <td>Maths</td>\n",
       "      <td>85</td>\n",
       "      <td>Mr. Smith</td>\n",
       "    </tr>\n",
       "    <tr>\n",
       "      <th>1</th>\n",
       "      <td>2</td>\n",
       "      <td>Maths</td>\n",
       "      <td>90</td>\n",
       "      <td>Mr. Smith</td>\n",
       "    </tr>\n",
       "    <tr>\n",
       "      <th>2</th>\n",
       "      <td>2</td>\n",
       "      <td>Science</td>\n",
       "      <td>78</td>\n",
       "      <td>Mrs. Lee</td>\n",
       "    </tr>\n",
       "    <tr>\n",
       "      <th>3</th>\n",
       "      <td>3</td>\n",
       "      <td>English</td>\n",
       "      <td>88</td>\n",
       "      <td>Mr. Brown</td>\n",
       "    </tr>\n",
       "  </tbody>\n",
       "</table>\n",
       "</div>"
      ],
      "text/plain": [
       "   student_id  Subject  Score    Teacher\n",
       "0           1    Maths     85  Mr. Smith\n",
       "1           2    Maths     90  Mr. Smith\n",
       "2           2  Science     78   Mrs. Lee\n",
       "3           3  English     88  Mr. Brown"
      ]
     },
     "execution_count": 29,
     "metadata": {},
     "output_type": "execute_result"
    }
   ],
   "source": [
    "srm"
   ]
  },
  {
   "cell_type": "code",
   "execution_count": 31,
   "id": "26eef56e-ad40-4097-944d-5e769de7d2bb",
   "metadata": {},
   "outputs": [],
   "source": [
    "# Show all students, their subjects, and their teachers in one table.\n",
    "# (Hint: chain joins: students → marks → teachers.)"
   ]
  },
  {
   "cell_type": "code",
   "execution_count": 56,
   "id": "d2f7d2ba-a54f-40ef-a4b3-ebc5ad3463d0",
   "metadata": {},
   "outputs": [
    {
     "data": {
      "text/html": [
       "<div>\n",
       "<style scoped>\n",
       "    .dataframe tbody tr th:only-of-type {\n",
       "        vertical-align: middle;\n",
       "    }\n",
       "\n",
       "    .dataframe tbody tr th {\n",
       "        vertical-align: top;\n",
       "    }\n",
       "\n",
       "    .dataframe thead th {\n",
       "        text-align: right;\n",
       "    }\n",
       "</style>\n",
       "<table border=\"1\" class=\"dataframe\">\n",
       "  <thead>\n",
       "    <tr style=\"text-align: right;\">\n",
       "      <th></th>\n",
       "      <th>ID</th>\n",
       "      <th>Name</th>\n",
       "      <th>student_id</th>\n",
       "      <th>Subject</th>\n",
       "      <th>Score</th>\n",
       "      <th>Teacher</th>\n",
       "    </tr>\n",
       "  </thead>\n",
       "  <tbody>\n",
       "    <tr>\n",
       "      <th>0</th>\n",
       "      <td>1</td>\n",
       "      <td>Alice</td>\n",
       "      <td>1.0</td>\n",
       "      <td>Maths</td>\n",
       "      <td>85.0</td>\n",
       "      <td>Mr. Smith</td>\n",
       "    </tr>\n",
       "    <tr>\n",
       "      <th>1</th>\n",
       "      <td>2</td>\n",
       "      <td>Bob</td>\n",
       "      <td>2.0</td>\n",
       "      <td>Maths</td>\n",
       "      <td>90.0</td>\n",
       "      <td>Mr. Smith</td>\n",
       "    </tr>\n",
       "    <tr>\n",
       "      <th>2</th>\n",
       "      <td>2</td>\n",
       "      <td>Bob</td>\n",
       "      <td>2.0</td>\n",
       "      <td>Science</td>\n",
       "      <td>78.0</td>\n",
       "      <td>Mrs. Lee</td>\n",
       "    </tr>\n",
       "    <tr>\n",
       "      <th>3</th>\n",
       "      <td>3</td>\n",
       "      <td>Charlie</td>\n",
       "      <td>3.0</td>\n",
       "      <td>English</td>\n",
       "      <td>88.0</td>\n",
       "      <td>Mr. Brown</td>\n",
       "    </tr>\n",
       "    <tr>\n",
       "      <th>4</th>\n",
       "      <td>4</td>\n",
       "      <td>David</td>\n",
       "      <td>NaN</td>\n",
       "      <td>NaN</td>\n",
       "      <td>NaN</td>\n",
       "      <td>NaN</td>\n",
       "    </tr>\n",
       "  </tbody>\n",
       "</table>\n",
       "</div>"
      ],
      "text/plain": [
       "   ID     Name  student_id  Subject  Score    Teacher\n",
       "0   1    Alice         1.0    Maths   85.0  Mr. Smith\n",
       "1   2      Bob         2.0    Maths   90.0  Mr. Smith\n",
       "2   2      Bob         2.0  Science   78.0   Mrs. Lee\n",
       "3   3  Charlie         3.0  English   88.0  Mr. Brown\n",
       "4   4    David         NaN      NaN    NaN        NaN"
      ]
     },
     "execution_count": 56,
     "metadata": {},
     "output_type": "execute_result"
    }
   ],
   "source": [
    "smt= pd.merge(pd.merge(students, marks,how=\"left\",left_on=\"ID\",right_on=\"student_id\"),teachers,on=\"Subject\",how=\"left\")\n",
    "smt.drop(columns=['student_id'])\n",
    "smt"
   ]
  },
  {
   "cell_type": "code",
   "execution_count": 45,
   "id": "7192061e-285e-4623-bcb2-167e636c60f2",
   "metadata": {},
   "outputs": [],
   "source": [
    "# Find the students who have no marks at all.\n",
    "# (Hint: outer/left join + filter NaN in Score.)"
   ]
  },
  {
   "cell_type": "code",
   "execution_count": 55,
   "id": "5f1f4c99-873a-41cb-9756-f141c1f2c66c",
   "metadata": {},
   "outputs": [
    {
     "data": {
      "text/html": [
       "<div>\n",
       "<style scoped>\n",
       "    .dataframe tbody tr th:only-of-type {\n",
       "        vertical-align: middle;\n",
       "    }\n",
       "\n",
       "    .dataframe tbody tr th {\n",
       "        vertical-align: top;\n",
       "    }\n",
       "\n",
       "    .dataframe thead th {\n",
       "        text-align: right;\n",
       "    }\n",
       "</style>\n",
       "<table border=\"1\" class=\"dataframe\">\n",
       "  <thead>\n",
       "    <tr style=\"text-align: right;\">\n",
       "      <th></th>\n",
       "      <th>ID</th>\n",
       "      <th>Name</th>\n",
       "      <th>student_id</th>\n",
       "      <th>Subject</th>\n",
       "      <th>Score</th>\n",
       "    </tr>\n",
       "  </thead>\n",
       "  <tbody>\n",
       "    <tr>\n",
       "      <th>4</th>\n",
       "      <td>4</td>\n",
       "      <td>David</td>\n",
       "      <td>NaN</td>\n",
       "      <td>NaN</td>\n",
       "      <td>NaN</td>\n",
       "    </tr>\n",
       "  </tbody>\n",
       "</table>\n",
       "</div>"
      ],
      "text/plain": [
       "   ID   Name  student_id Subject  Score\n",
       "4   4  David         NaN     NaN    NaN"
      ]
     },
     "execution_count": 55,
     "metadata": {},
     "output_type": "execute_result"
    }
   ],
   "source": [
    "snm= pd.merge(students,marks,how=\"left\", left_on=\"ID\", right_on=\"student_id\")\n",
    "snm=snm[snm.isnull().any(axis=1)]\n",
    "snm"
   ]
  },
  {
   "cell_type": "code",
   "execution_count": null,
   "id": "50f2b83c-1216-4957-a705-e5f1f0dba88c",
   "metadata": {},
   "outputs": [],
   "source": []
  },
  {
   "cell_type": "code",
   "execution_count": null,
   "id": "3c6c2fe1-b5cc-45e3-a2af-b7145bf58f9c",
   "metadata": {},
   "outputs": [],
   "source": []
  },
  {
   "cell_type": "code",
   "execution_count": null,
   "id": "500ba957-719d-4c37-8bcb-1cf5b602cda9",
   "metadata": {},
   "outputs": [],
   "source": []
  }
 ],
 "metadata": {
  "kernelspec": {
   "display_name": "Python 3 (ipykernel)",
   "language": "python",
   "name": "python3"
  },
  "language_info": {
   "codemirror_mode": {
    "name": "ipython",
    "version": 3
   },
   "file_extension": ".py",
   "mimetype": "text/x-python",
   "name": "python",
   "nbconvert_exporter": "python",
   "pygments_lexer": "ipython3",
   "version": "3.13.6"
  }
 },
 "nbformat": 4,
 "nbformat_minor": 5
}
