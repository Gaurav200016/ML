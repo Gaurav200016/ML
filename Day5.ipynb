{
 "cells": [
  {
   "cell_type": "markdown",
   "id": "d19e2b2f-5dbd-4798-848a-81342440579c",
   "metadata": {},
   "source": [
    "Pivot Tables and Crosstabs"
   ]
  },
  {
   "cell_type": "markdown",
   "id": "69ad5ef8-ef94-4153-9511-ac0702d04b0c",
   "metadata": {},
   "source": [
    "groupby --> great for aggregations but results in a series or a long DataFrame\n",
    "pivot_table --> reshapes the data into a matrix from "
   ]
  },
  {
   "cell_type": "code",
   "execution_count": 1,
   "id": "ddb89765-236c-44fe-9c49-9a62c59fee92",
   "metadata": {},
   "outputs": [
    {
     "name": "stdout",
     "output_type": "stream",
     "text": [
      "     Name    City  Subject  Score\n",
      "0    Amit   Delhi     Math     85\n",
      "1    Bina  Mumbai     Math     92\n",
      "2  Chetan   Delhi  English     88\n",
      "3   Divya   Delhi     Math     76\n",
      "4    Esha  Mumbai  English     78\n",
      "5  Farhan   Delhi  English     95\n"
     ]
    }
   ],
   "source": [
    "import pandas as pd\n",
    "\n",
    "data = {\n",
    "    \"Name\": [\"Amit\", \"Bina\", \"Chetan\", \"Divya\", \"Esha\", \"Farhan\"],\n",
    "    \"City\": [\"Delhi\", \"Mumbai\", \"Delhi\", \"Delhi\", \"Mumbai\", \"Delhi\"],\n",
    "    \"Subject\": [\"Math\", \"Math\", \"English\", \"Math\", \"English\", \"English\"],\n",
    "    \"Score\": [85, 92, 88, 76, 78, 95]\n",
    "}\n",
    "df = pd.DataFrame(data)\n",
    "print(df)\n"
   ]
  },
  {
   "cell_type": "code",
   "execution_count": 2,
   "id": "38f268d3-6081-486a-99bd-f135b368f735",
   "metadata": {},
   "outputs": [],
   "source": [
    "# Task 1: Find the average score of each subject in each city."
   ]
  },
  {
   "cell_type": "code",
   "execution_count": 3,
   "id": "79aabb29-ba13-485c-b697-0261a444145a",
   "metadata": {},
   "outputs": [
    {
     "data": {
      "text/plain": [
       "City    Subject\n",
       "Delhi   English    91.5\n",
       "        Math       80.5\n",
       "Mumbai  English    78.0\n",
       "        Math       92.0\n",
       "Name: Score, dtype: float64"
      ]
     },
     "execution_count": 3,
     "metadata": {},
     "output_type": "execute_result"
    }
   ],
   "source": [
    "# Using groupby\n",
    "df.groupby([\"City\",\"Subject\"])[\"Score\"].mean()pd"
   ]
  },
  {
   "cell_type": "code",
   "execution_count": 5,
   "id": "09332a11-12cf-4e16-84c7-b8d150d2a2ca",
   "metadata": {},
   "outputs": [
    {
     "data": {
      "text/html": [
       "<div>\n",
       "<style scoped>\n",
       "    .dataframe tbody tr th:only-of-type {\n",
       "        vertical-align: middle;\n",
       "    }\n",
       "\n",
       "    .dataframe tbody tr th {\n",
       "        vertical-align: top;\n",
       "    }\n",
       "\n",
       "    .dataframe thead th {\n",
       "        text-align: right;\n",
       "    }\n",
       "</style>\n",
       "<table border=\"1\" class=\"dataframe\">\n",
       "  <thead>\n",
       "    <tr style=\"text-align: right;\">\n",
       "      <th>Subject</th>\n",
       "      <th>English</th>\n",
       "      <th>Math</th>\n",
       "    </tr>\n",
       "    <tr>\n",
       "      <th>City</th>\n",
       "      <th></th>\n",
       "      <th></th>\n",
       "    </tr>\n",
       "  </thead>\n",
       "  <tbody>\n",
       "    <tr>\n",
       "      <th>Delhi</th>\n",
       "      <td>91.5</td>\n",
       "      <td>80.5</td>\n",
       "    </tr>\n",
       "    <tr>\n",
       "      <th>Mumbai</th>\n",
       "      <td>78.0</td>\n",
       "      <td>92.0</td>\n",
       "    </tr>\n",
       "  </tbody>\n",
       "</table>\n",
       "</div>"
      ],
      "text/plain": [
       "Subject  English  Math\n",
       "City                  \n",
       "Delhi       91.5  80.5\n",
       "Mumbai      78.0  92.0"
      ]
     },
     "execution_count": 5,
     "metadata": {},
     "output_type": "execute_result"
    }
   ],
   "source": [
    "#Using pivot Table\n",
    "pd.pivot_table(df, index=\"City\", columns= \"Subject\", values=\"Score\", aggfunc=\"mean\")"
   ]
  },
  {
   "cell_type": "code",
   "execution_count": 7,
   "id": "07a62e1d-4999-44b3-99c6-2037392f840d",
   "metadata": {},
   "outputs": [
    {
     "data": {
      "text/html": [
       "<div>\n",
       "<style scoped>\n",
       "    .dataframe tbody tr th:only-of-type {\n",
       "        vertical-align: middle;\n",
       "    }\n",
       "\n",
       "    .dataframe tbody tr th {\n",
       "        vertical-align: top;\n",
       "    }\n",
       "\n",
       "    .dataframe thead th {\n",
       "        text-align: right;\n",
       "    }\n",
       "</style>\n",
       "<table border=\"1\" class=\"dataframe\">\n",
       "  <thead>\n",
       "    <tr style=\"text-align: right;\">\n",
       "      <th></th>\n",
       "      <th>City</th>\n",
       "      <th>English</th>\n",
       "      <th>Math</th>\n",
       "    </tr>\n",
       "  </thead>\n",
       "  <tbody>\n",
       "    <tr>\n",
       "      <th>0</th>\n",
       "      <td>Delhi</td>\n",
       "      <td>91.5</td>\n",
       "      <td>80.5</td>\n",
       "    </tr>\n",
       "    <tr>\n",
       "      <th>1</th>\n",
       "      <td>Mumbai</td>\n",
       "      <td>78.0</td>\n",
       "      <td>92.0</td>\n",
       "    </tr>\n",
       "  </tbody>\n",
       "</table>\n",
       "</div>"
      ],
      "text/plain": [
       "     City  English  Math\n",
       "0   Delhi     91.5  80.5\n",
       "1  Mumbai     78.0  92.0"
      ]
     },
     "execution_count": 7,
     "metadata": {},
     "output_type": "execute_result"
    }
   ],
   "source": [
    "pivot = pd.pivot_table(\n",
    "    df,\n",
    "    index=\"City\",\n",
    "    columns=\"Subject\",\n",
    "    values=\"Score\",\n",
    "    aggfunc=\"mean\"\n",
    ")\n",
    "\n",
    "pivot = pivot.reset_index()     # moves City back as a column\n",
    "pivot.columns.name = None       # removes that extra \"Score\" label\n",
    "pivot\n"
   ]
  },
  {
   "cell_type": "code",
   "execution_count": null,
   "id": "2d07684f-18c9-4f72-ab2c-17eabfe7a093",
   "metadata": {},
   "outputs": [],
   "source": []
  }
 ],
 "metadata": {
  "kernelspec": {
   "display_name": "Python 3 (ipykernel)",
   "language": "python",
   "name": "python3"
  },
  "language_info": {
   "codemirror_mode": {
    "name": "ipython",
    "version": 3
   },
   "file_extension": ".py",
   "mimetype": "text/x-python",
   "name": "python",
   "nbconvert_exporter": "python",
   "pygments_lexer": "ipython3",
   "version": "3.13.6"
  }
 },
 "nbformat": 4,
 "nbformat_minor": 5
}
