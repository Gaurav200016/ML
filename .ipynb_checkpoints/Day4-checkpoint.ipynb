{
 "cells": [
  {
   "cell_type": "code",
   "execution_count": 3,
   "id": "9f39e16c-abca-4cfa-b992-f5fe9b79733c",
   "metadata": {},
   "outputs": [],
   "source": [
    "import pandas as pd\n",
    "\n",
    "# Students table\n",
    "students = pd.DataFrame({\n",
    "    \"ID\": [1, 2, 3, 4, 5],\n",
    "    \"Name\": [\"Alice\", \"Bob\", \"Charlie\", \"David\", \"Eva\"]\n",
    "})\n",
    "\n",
    "# Marks table\n",
    "marks = pd.DataFrame({\n",
    "    \"student_id\": [1, 2, 2, 3, 4, 5, 5],\n",
    "    \"Subject\": [\"Math\", \"Math\", \"English\", \"Math\", \"English\", \"Math\", \"English\"],\n",
    "    \"Score\": [85, 90, 78, 92, 88, 76, 80]\n",
    "})\n",
    "\n",
    "# Teachers table\n",
    "teachers = pd.DataFrame({\n",
    "    \"Subject\": [\"Math\", \"English\", \"Science\"],\n",
    "    \"Teacher\": [\"Mr. Smith\", \"Ms. Johnson\", \"Dr. Lee\"]\n",
    "})\n"
   ]
  },
  {
   "cell_type": "code",
   "execution_count": 3,
   "id": "754e01c7-ba6e-483e-818b-926e334a93db",
   "metadata": {},
   "outputs": [],
   "source": [
    "# agg()- Summaries per group\n",
    "# Show average, min score per subject"
   ]
  },
  {
   "cell_type": "code",
   "execution_count": 4,
   "id": "bfc698dd-c202-4fa7-9273-c30021cabf9c",
   "metadata": {},
   "outputs": [
    {
     "data": {
      "text/html": [
       "<div>\n",
       "<style scoped>\n",
       "    .dataframe tbody tr th:only-of-type {\n",
       "        vertical-align: middle;\n",
       "    }\n",
       "\n",
       "    .dataframe tbody tr th {\n",
       "        vertical-align: top;\n",
       "    }\n",
       "\n",
       "    .dataframe thead th {\n",
       "        text-align: right;\n",
       "    }\n",
       "</style>\n",
       "<table border=\"1\" class=\"dataframe\">\n",
       "  <thead>\n",
       "    <tr style=\"text-align: right;\">\n",
       "      <th></th>\n",
       "      <th>avg</th>\n",
       "      <th>top</th>\n",
       "      <th>low</th>\n",
       "    </tr>\n",
       "    <tr>\n",
       "      <th>Subject</th>\n",
       "      <th></th>\n",
       "      <th></th>\n",
       "      <th></th>\n",
       "    </tr>\n",
       "  </thead>\n",
       "  <tbody>\n",
       "    <tr>\n",
       "      <th>English</th>\n",
       "      <td>82.00</td>\n",
       "      <td>88</td>\n",
       "      <td>78</td>\n",
       "    </tr>\n",
       "    <tr>\n",
       "      <th>Math</th>\n",
       "      <td>85.75</td>\n",
       "      <td>92</td>\n",
       "      <td>76</td>\n",
       "    </tr>\n",
       "  </tbody>\n",
       "</table>\n",
       "</div>"
      ],
      "text/plain": [
       "           avg  top  low\n",
       "Subject                 \n",
       "English  82.00   88   78\n",
       "Math     85.75   92   76"
      ]
     },
     "execution_count": 4,
     "metadata": {},
     "output_type": "execute_result"
    }
   ],
   "source": [
    "marks.groupby(\"Subject\")[\"Score\"].agg(\n",
    "    avg=\"mean\",\n",
    "    top=\"max\",\n",
    "    low=\"min\")\n"
   ]
  },
  {
   "cell_type": "code",
   "execution_count": 5,
   "id": "4dbb209e-938a-4312-878e-b533786fe76b",
   "metadata": {},
   "outputs": [],
   "source": [
    "# transform()- Add group info back to rows\n",
    "# Add each student's subject average next to their score"
   ]
  },
  {
   "cell_type": "code",
   "execution_count": 6,
   "id": "bbd393d9-9299-4447-9296-f7e692101907",
   "metadata": {},
   "outputs": [],
   "source": [
    "marks[\"avg_subject_score\"]= marks.groupby(\"Subject\")[\"Score\"].transform(\"mean\")"
   ]
  },
  {
   "cell_type": "code",
   "execution_count": 9,
   "id": "f16a8666-24ac-4b2b-97a2-7f577606abc4",
   "metadata": {},
   "outputs": [
    {
     "data": {
      "text/html": [
       "<div>\n",
       "<style scoped>\n",
       "    .dataframe tbody tr th:only-of-type {\n",
       "        vertical-align: middle;\n",
       "    }\n",
       "\n",
       "    .dataframe tbody tr th {\n",
       "        vertical-align: top;\n",
       "    }\n",
       "\n",
       "    .dataframe thead th {\n",
       "        text-align: right;\n",
       "    }\n",
       "</style>\n",
       "<table border=\"1\" class=\"dataframe\">\n",
       "  <thead>\n",
       "    <tr style=\"text-align: right;\">\n",
       "      <th></th>\n",
       "      <th>student_id</th>\n",
       "      <th>Subject</th>\n",
       "      <th>Score</th>\n",
       "      <th>avg_subject_score</th>\n",
       "    </tr>\n",
       "  </thead>\n",
       "  <tbody>\n",
       "    <tr>\n",
       "      <th>0</th>\n",
       "      <td>1</td>\n",
       "      <td>Math</td>\n",
       "      <td>85</td>\n",
       "      <td>85.75</td>\n",
       "    </tr>\n",
       "    <tr>\n",
       "      <th>1</th>\n",
       "      <td>2</td>\n",
       "      <td>Math</td>\n",
       "      <td>90</td>\n",
       "      <td>85.75</td>\n",
       "    </tr>\n",
       "    <tr>\n",
       "      <th>2</th>\n",
       "      <td>2</td>\n",
       "      <td>English</td>\n",
       "      <td>78</td>\n",
       "      <td>82.00</td>\n",
       "    </tr>\n",
       "    <tr>\n",
       "      <th>3</th>\n",
       "      <td>3</td>\n",
       "      <td>Math</td>\n",
       "      <td>92</td>\n",
       "      <td>85.75</td>\n",
       "    </tr>\n",
       "    <tr>\n",
       "      <th>4</th>\n",
       "      <td>4</td>\n",
       "      <td>English</td>\n",
       "      <td>88</td>\n",
       "      <td>82.00</td>\n",
       "    </tr>\n",
       "    <tr>\n",
       "      <th>5</th>\n",
       "      <td>5</td>\n",
       "      <td>Math</td>\n",
       "      <td>76</td>\n",
       "      <td>85.75</td>\n",
       "    </tr>\n",
       "    <tr>\n",
       "      <th>6</th>\n",
       "      <td>5</td>\n",
       "      <td>English</td>\n",
       "      <td>80</td>\n",
       "      <td>82.00</td>\n",
       "    </tr>\n",
       "  </tbody>\n",
       "</table>\n",
       "</div>"
      ],
      "text/plain": [
       "   student_id  Subject  Score  avg_subject_score\n",
       "0           1     Math     85              85.75\n",
       "1           2     Math     90              85.75\n",
       "2           2  English     78              82.00\n",
       "3           3     Math     92              85.75\n",
       "4           4  English     88              82.00\n",
       "5           5     Math     76              85.75\n",
       "6           5  English     80              82.00"
      ]
     },
     "execution_count": 9,
     "metadata": {},
     "output_type": "execute_result"
    }
   ],
   "source": [
    "marks"
   ]
  },
  {
   "cell_type": "code",
   "execution_count": 10,
   "id": "f10dbb77-c978-4207-922f-9e99241ba307",
   "metadata": {},
   "outputs": [],
   "source": [
    "# apply() - Custom group logic\n",
    "# Show only top 2 scorers per subject"
   ]
  },
  {
   "cell_type": "code",
   "execution_count": 11,
   "id": "ab6949f9-0b61-4145-ba30-d2772c4dacf0",
   "metadata": {},
   "outputs": [
    {
     "name": "stderr",
     "output_type": "stream",
     "text": [
      "C:\\Users\\gaura\\AppData\\Local\\Temp\\ipykernel_33864\\1608239816.py:1: FutureWarning: DataFrameGroupBy.apply operated on the grouping columns. This behavior is deprecated, and in a future version of pandas the grouping columns will be excluded from the operation. Either pass `include_groups=False` to exclude the groupings or explicitly select the grouping columns after groupby to silence this warning.\n",
      "  marks.groupby(\"Subject\").apply(lambda x: x.nlargest(2, \"Score\"))\n"
     ]
    },
    {
     "data": {
      "text/html": [
       "<div>\n",
       "<style scoped>\n",
       "    .dataframe tbody tr th:only-of-type {\n",
       "        vertical-align: middle;\n",
       "    }\n",
       "\n",
       "    .dataframe tbody tr th {\n",
       "        vertical-align: top;\n",
       "    }\n",
       "\n",
       "    .dataframe thead th {\n",
       "        text-align: right;\n",
       "    }\n",
       "</style>\n",
       "<table border=\"1\" class=\"dataframe\">\n",
       "  <thead>\n",
       "    <tr style=\"text-align: right;\">\n",
       "      <th></th>\n",
       "      <th></th>\n",
       "      <th>student_id</th>\n",
       "      <th>Subject</th>\n",
       "      <th>Score</th>\n",
       "      <th>avg_subject_score</th>\n",
       "    </tr>\n",
       "    <tr>\n",
       "      <th>Subject</th>\n",
       "      <th></th>\n",
       "      <th></th>\n",
       "      <th></th>\n",
       "      <th></th>\n",
       "      <th></th>\n",
       "    </tr>\n",
       "  </thead>\n",
       "  <tbody>\n",
       "    <tr>\n",
       "      <th rowspan=\"2\" valign=\"top\">English</th>\n",
       "      <th>4</th>\n",
       "      <td>4</td>\n",
       "      <td>English</td>\n",
       "      <td>88</td>\n",
       "      <td>82.00</td>\n",
       "    </tr>\n",
       "    <tr>\n",
       "      <th>6</th>\n",
       "      <td>5</td>\n",
       "      <td>English</td>\n",
       "      <td>80</td>\n",
       "      <td>82.00</td>\n",
       "    </tr>\n",
       "    <tr>\n",
       "      <th rowspan=\"2\" valign=\"top\">Math</th>\n",
       "      <th>3</th>\n",
       "      <td>3</td>\n",
       "      <td>Math</td>\n",
       "      <td>92</td>\n",
       "      <td>85.75</td>\n",
       "    </tr>\n",
       "    <tr>\n",
       "      <th>1</th>\n",
       "      <td>2</td>\n",
       "      <td>Math</td>\n",
       "      <td>90</td>\n",
       "      <td>85.75</td>\n",
       "    </tr>\n",
       "  </tbody>\n",
       "</table>\n",
       "</div>"
      ],
      "text/plain": [
       "           student_id  Subject  Score  avg_subject_score\n",
       "Subject                                                 \n",
       "English 4           4  English     88              82.00\n",
       "        6           5  English     80              82.00\n",
       "Math    3           3     Math     92              85.75\n",
       "        1           2     Math     90              85.75"
      ]
     },
     "execution_count": 11,
     "metadata": {},
     "output_type": "execute_result"
    }
   ],
   "source": [
    "marks.groupby(\"Subject\").apply(lambda x: x.nlargest(2, \"Score\"))"
   ]
  },
  {
   "cell_type": "code",
   "execution_count": 15,
   "id": "afd2b06e-a7f3-4d42-8594-4d57311d1175",
   "metadata": {},
   "outputs": [
    {
     "ename": "TypeError",
     "evalue": "DataFrame.groupby() got an unexpected keyword argument 'include_groups'",
     "output_type": "error",
     "traceback": [
      "\u001b[31m---------------------------------------------------------------------------\u001b[39m",
      "\u001b[31mTypeError\u001b[39m                                 Traceback (most recent call last)",
      "\u001b[36mCell\u001b[39m\u001b[36m \u001b[39m\u001b[32mIn[15]\u001b[39m\u001b[32m, line 1\u001b[39m\n\u001b[32m----> \u001b[39m\u001b[32m1\u001b[39m \u001b[43mmarks\u001b[49m\u001b[43m.\u001b[49m\u001b[43mgroupby\u001b[49m\u001b[43m(\u001b[49m\u001b[33;43m\"\u001b[39;49m\u001b[33;43mSubject\u001b[39;49m\u001b[33;43m\"\u001b[39;49m\u001b[43m,\u001b[49m\u001b[43m \u001b[49m\u001b[43mgroup_keys\u001b[49m\u001b[43m=\u001b[49m\u001b[38;5;28;43;01mTrue\u001b[39;49;00m\u001b[43m,\u001b[49m\u001b[43m \u001b[49m\u001b[43minclude_groups\u001b[49m\u001b[43m=\u001b[49m\u001b[38;5;28;43;01mFalse\u001b[39;49;00m\u001b[43m)\u001b[49m.apply(\u001b[38;5;28;01mlambda\u001b[39;00m x: x.nlargest(\u001b[32m2\u001b[39m, \u001b[33m\"\u001b[39m\u001b[33mScore\u001b[39m\u001b[33m\"\u001b[39m))\n",
      "\u001b[31mTypeError\u001b[39m: DataFrame.groupby() got an unexpected keyword argument 'include_groups'"
     ]
    }
   ],
   "source": [
    "marks.groupby(\"Subject\", group_keys=True, include_groups=False).apply(lambda x: x.nlargest(2, \"Score\"))"
   ]
  },
  {
   "cell_type": "code",
   "execution_count": 18,
   "id": "dc283d54-9a10-40c8-a46f-bc6b0e39bb18",
   "metadata": {},
   "outputs": [
    {
     "name": "stderr",
     "output_type": "stream",
     "text": [
      "C:\\Users\\gaura\\AppData\\Local\\Temp\\ipykernel_33864\\764150923.py:1: FutureWarning: DataFrameGroupBy.apply operated on the grouping columns. This behavior is deprecated, and in a future version of pandas the grouping columns will be excluded from the operation. Either pass `include_groups=False` to exclude the groupings or explicitly select the grouping columns after groupby to silence this warning.\n",
      "  marks.groupby(\"Subject\", group_keys=True).apply(\n"
     ]
    },
    {
     "data": {
      "text/html": [
       "<div>\n",
       "<style scoped>\n",
       "    .dataframe tbody tr th:only-of-type {\n",
       "        vertical-align: middle;\n",
       "    }\n",
       "\n",
       "    .dataframe tbody tr th {\n",
       "        vertical-align: top;\n",
       "    }\n",
       "\n",
       "    .dataframe thead th {\n",
       "        text-align: right;\n",
       "    }\n",
       "</style>\n",
       "<table border=\"1\" class=\"dataframe\">\n",
       "  <thead>\n",
       "    <tr style=\"text-align: right;\">\n",
       "      <th></th>\n",
       "      <th>Subject</th>\n",
       "      <th>student_id</th>\n",
       "      <th>Score</th>\n",
       "    </tr>\n",
       "  </thead>\n",
       "  <tbody>\n",
       "    <tr>\n",
       "      <th>0</th>\n",
       "      <td>English</td>\n",
       "      <td>4</td>\n",
       "      <td>88</td>\n",
       "    </tr>\n",
       "    <tr>\n",
       "      <th>1</th>\n",
       "      <td>English</td>\n",
       "      <td>5</td>\n",
       "      <td>80</td>\n",
       "    </tr>\n",
       "    <tr>\n",
       "      <th>2</th>\n",
       "      <td>Math</td>\n",
       "      <td>3</td>\n",
       "      <td>92</td>\n",
       "    </tr>\n",
       "    <tr>\n",
       "      <th>3</th>\n",
       "      <td>Math</td>\n",
       "      <td>2</td>\n",
       "      <td>90</td>\n",
       "    </tr>\n",
       "  </tbody>\n",
       "</table>\n",
       "</div>"
      ],
      "text/plain": [
       "   Subject  student_id  Score\n",
       "0  English           4     88\n",
       "1  English           5     80\n",
       "2     Math           3     92\n",
       "3     Math           2     90"
      ]
     },
     "execution_count": 18,
     "metadata": {},
     "output_type": "execute_result"
    }
   ],
   "source": [
    "marks.groupby(\"Subject\", group_keys=True).apply(\n",
    "    lambda x: x.nlargest(2, \"Score\")[[\"Subject\", \"student_id\", \"Score\"]]\n",
    ").reset_index(drop=True)"
   ]
  },
  {
   "cell_type": "code",
   "execution_count": 19,
   "id": "9a71d7b8-0a31-4a03-8f3d-0b9f3d2113e6",
   "metadata": {},
   "outputs": [],
   "source": [
    "#Aggregations and Advanced Grouping"
   ]
  },
  {
   "cell_type": "code",
   "execution_count": 20,
   "id": "495a6a7d-bb35-47f8-a05d-b8d720ecd666",
   "metadata": {},
   "outputs": [],
   "source": [
    "import pandas as pd\n",
    "\n",
    "students = pd.DataFrame({\n",
    "    \"ID\": [1, 2, 3, 4, 5],\n",
    "    \"Name\": [\"Alice\", \"Bob\", \"Charlie\", \"David\", \"Eva\"],\n",
    "    \"City\": [\"Delhi\", \"Mumbai\", \"Delhi\", \"Bangalore\", \"Mumbai\"]\n",
    "})\n",
    "\n",
    "marks = pd.DataFrame({\n",
    "    \"student_id\": [1, 2, 2, 3, 4, 5, 5],\n",
    "    \"Subject\": [\"Math\", \"Math\", \"Science\", \"Math\", \"Science\", \"Math\", \"Science\"],\n",
    "    \"Score\": [85, 90, 78, 92, 88, 76, 95]\n",
    "})\n"
   ]
  },
  {
   "cell_type": "code",
   "execution_count": 21,
   "id": "ceac8bbc-6305-4452-874f-f9be1b48845f",
   "metadata": {},
   "outputs": [],
   "source": [
    "#1) Find the average score per subject"
   ]
  },
  {
   "cell_type": "code",
   "execution_count": 22,
   "id": "4f22438a-a1df-4887-9e5c-d8c909eb91a7",
   "metadata": {},
   "outputs": [
    {
     "data": {
      "text/plain": [
       "Subject\n",
       "Math       85.75\n",
       "Science    87.00\n",
       "Name: Score, dtype: float64"
      ]
     },
     "execution_count": 22,
     "metadata": {},
     "output_type": "execute_result"
    }
   ],
   "source": [
    "marks.groupby(\"Subject\")[\"Score\"].mean()"
   ]
  },
  {
   "cell_type": "code",
   "execution_count": 23,
   "id": "945d5e17-bf90-4682-8a92-0d1bf4045280",
   "metadata": {},
   "outputs": [
    {
     "data": {
      "text/html": [
       "<div>\n",
       "<style scoped>\n",
       "    .dataframe tbody tr th:only-of-type {\n",
       "        vertical-align: middle;\n",
       "    }\n",
       "\n",
       "    .dataframe tbody tr th {\n",
       "        vertical-align: top;\n",
       "    }\n",
       "\n",
       "    .dataframe thead th {\n",
       "        text-align: right;\n",
       "    }\n",
       "</style>\n",
       "<table border=\"1\" class=\"dataframe\">\n",
       "  <thead>\n",
       "    <tr style=\"text-align: right;\">\n",
       "      <th></th>\n",
       "      <th>min</th>\n",
       "      <th>max</th>\n",
       "    </tr>\n",
       "    <tr>\n",
       "      <th>Subject</th>\n",
       "      <th></th>\n",
       "      <th></th>\n",
       "    </tr>\n",
       "  </thead>\n",
       "  <tbody>\n",
       "    <tr>\n",
       "      <th>Math</th>\n",
       "      <td>76</td>\n",
       "      <td>92</td>\n",
       "    </tr>\n",
       "    <tr>\n",
       "      <th>Science</th>\n",
       "      <td>78</td>\n",
       "      <td>95</td>\n",
       "    </tr>\n",
       "  </tbody>\n",
       "</table>\n",
       "</div>"
      ],
      "text/plain": [
       "         min  max\n",
       "Subject          \n",
       "Math      76   92\n",
       "Science   78   95"
      ]
     },
     "execution_count": 23,
     "metadata": {},
     "output_type": "execute_result"
    }
   ],
   "source": [
    "marks.groupby(\"Subject\")[\"Score\"].agg([\"min\",\"max\"])"
   ]
  },
  {
   "cell_type": "code",
   "execution_count": 24,
   "id": "4f11b5a9-b409-4a04-9bd6-e31962b90add",
   "metadata": {},
   "outputs": [],
   "source": [
    "#3) For each city, find the average scores of its students"
   ]
  },
  {
   "cell_type": "code",
   "execution_count": 25,
   "id": "49718eb6-a8e0-46f5-8842-43a717167c7c",
   "metadata": {},
   "outputs": [],
   "source": [
    "sc= pd.merge(students, marks, left_on=\"ID\", right_on=\"student_id\", how =\"inner\")"
   ]
  },
  {
   "cell_type": "code",
   "execution_count": 26,
   "id": "6697427d-0148-4b0d-82f1-8f058052a77e",
   "metadata": {},
   "outputs": [
    {
     "data": {
      "text/html": [
       "<div>\n",
       "<style scoped>\n",
       "    .dataframe tbody tr th:only-of-type {\n",
       "        vertical-align: middle;\n",
       "    }\n",
       "\n",
       "    .dataframe tbody tr th {\n",
       "        vertical-align: top;\n",
       "    }\n",
       "\n",
       "    .dataframe thead th {\n",
       "        text-align: right;\n",
       "    }\n",
       "</style>\n",
       "<table border=\"1\" class=\"dataframe\">\n",
       "  <thead>\n",
       "    <tr style=\"text-align: right;\">\n",
       "      <th></th>\n",
       "      <th>ID</th>\n",
       "      <th>Name</th>\n",
       "      <th>City</th>\n",
       "      <th>student_id</th>\n",
       "      <th>Subject</th>\n",
       "      <th>Score</th>\n",
       "    </tr>\n",
       "  </thead>\n",
       "  <tbody>\n",
       "    <tr>\n",
       "      <th>0</th>\n",
       "      <td>1</td>\n",
       "      <td>Alice</td>\n",
       "      <td>Delhi</td>\n",
       "      <td>1</td>\n",
       "      <td>Math</td>\n",
       "      <td>85</td>\n",
       "    </tr>\n",
       "    <tr>\n",
       "      <th>1</th>\n",
       "      <td>2</td>\n",
       "      <td>Bob</td>\n",
       "      <td>Mumbai</td>\n",
       "      <td>2</td>\n",
       "      <td>Math</td>\n",
       "      <td>90</td>\n",
       "    </tr>\n",
       "    <tr>\n",
       "      <th>2</th>\n",
       "      <td>2</td>\n",
       "      <td>Bob</td>\n",
       "      <td>Mumbai</td>\n",
       "      <td>2</td>\n",
       "      <td>Science</td>\n",
       "      <td>78</td>\n",
       "    </tr>\n",
       "    <tr>\n",
       "      <th>3</th>\n",
       "      <td>3</td>\n",
       "      <td>Charlie</td>\n",
       "      <td>Delhi</td>\n",
       "      <td>3</td>\n",
       "      <td>Math</td>\n",
       "      <td>92</td>\n",
       "    </tr>\n",
       "    <tr>\n",
       "      <th>4</th>\n",
       "      <td>4</td>\n",
       "      <td>David</td>\n",
       "      <td>Bangalore</td>\n",
       "      <td>4</td>\n",
       "      <td>Science</td>\n",
       "      <td>88</td>\n",
       "    </tr>\n",
       "    <tr>\n",
       "      <th>5</th>\n",
       "      <td>5</td>\n",
       "      <td>Eva</td>\n",
       "      <td>Mumbai</td>\n",
       "      <td>5</td>\n",
       "      <td>Math</td>\n",
       "      <td>76</td>\n",
       "    </tr>\n",
       "    <tr>\n",
       "      <th>6</th>\n",
       "      <td>5</td>\n",
       "      <td>Eva</td>\n",
       "      <td>Mumbai</td>\n",
       "      <td>5</td>\n",
       "      <td>Science</td>\n",
       "      <td>95</td>\n",
       "    </tr>\n",
       "  </tbody>\n",
       "</table>\n",
       "</div>"
      ],
      "text/plain": [
       "   ID     Name       City  student_id  Subject  Score\n",
       "0   1    Alice      Delhi           1     Math     85\n",
       "1   2      Bob     Mumbai           2     Math     90\n",
       "2   2      Bob     Mumbai           2  Science     78\n",
       "3   3  Charlie      Delhi           3     Math     92\n",
       "4   4    David  Bangalore           4  Science     88\n",
       "5   5      Eva     Mumbai           5     Math     76\n",
       "6   5      Eva     Mumbai           5  Science     95"
      ]
     },
     "execution_count": 26,
     "metadata": {},
     "output_type": "execute_result"
    }
   ],
   "source": [
    "sc"
   ]
  },
  {
   "cell_type": "code",
   "execution_count": 28,
   "id": "87b45bfd-e99e-4c06-9db7-761facbd3907",
   "metadata": {},
   "outputs": [
    {
     "data": {
      "text/plain": [
       "City\n",
       "Bangalore    88.00\n",
       "Delhi        88.50\n",
       "Mumbai       84.75\n",
       "Name: Score, dtype: float64"
      ]
     },
     "execution_count": 28,
     "metadata": {},
     "output_type": "execute_result"
    }
   ],
   "source": [
    "sc.groupby(\"City\")[\"Score\"].mean()"
   ]
  },
  {
   "cell_type": "code",
   "execution_count": 29,
   "id": "67a9b504-6353-4671-bec4-15dc820df946",
   "metadata": {},
   "outputs": [],
   "source": [
    "# Find the student with highest score in each subject"
   ]
  },
  {
   "cell_type": "code",
   "execution_count": 32,
   "id": "70eed57a-4bb2-4f62-a587-83567efd8b88",
   "metadata": {},
   "outputs": [
    {
     "data": {
      "text/html": [
       "<div>\n",
       "<style scoped>\n",
       "    .dataframe tbody tr th:only-of-type {\n",
       "        vertical-align: middle;\n",
       "    }\n",
       "\n",
       "    .dataframe tbody tr th {\n",
       "        vertical-align: top;\n",
       "    }\n",
       "\n",
       "    .dataframe thead th {\n",
       "        text-align: right;\n",
       "    }\n",
       "</style>\n",
       "<table border=\"1\" class=\"dataframe\">\n",
       "  <thead>\n",
       "    <tr style=\"text-align: right;\">\n",
       "      <th></th>\n",
       "      <th>student_id</th>\n",
       "      <th>Subject</th>\n",
       "      <th>Score</th>\n",
       "    </tr>\n",
       "  </thead>\n",
       "  <tbody>\n",
       "    <tr>\n",
       "      <th>3</th>\n",
       "      <td>3</td>\n",
       "      <td>Math</td>\n",
       "      <td>92</td>\n",
       "    </tr>\n",
       "    <tr>\n",
       "      <th>6</th>\n",
       "      <td>5</td>\n",
       "      <td>Science</td>\n",
       "      <td>95</td>\n",
       "    </tr>\n",
       "  </tbody>\n",
       "</table>\n",
       "</div>"
      ],
      "text/plain": [
       "   student_id  Subject  Score\n",
       "3           3     Math     92\n",
       "6           5  Science     95"
      ]
     },
     "execution_count": 32,
     "metadata": {},
     "output_type": "execute_result"
    }
   ],
   "source": [
    "marks.loc[marks.groupby(\"Subject\")[\"Score\"].idxmax()]"
   ]
  },
  {
   "cell_type": "code",
   "execution_count": 33,
   "id": "65a5bd23-281b-4d35-b3b7-816489c04d57",
   "metadata": {},
   "outputs": [],
   "source": [
    "#Count how many subjects each students has marks in"
   ]
  },
  {
   "cell_type": "code",
   "execution_count": 34,
   "id": "c8a299fb-7eb6-4c9a-93d2-0cfa2da18d69",
   "metadata": {},
   "outputs": [
    {
     "data": {
      "text/plain": [
       "student_id\n",
       "1    1\n",
       "2    2\n",
       "3    1\n",
       "4    1\n",
       "5    2\n",
       "Name: Subject, dtype: int64"
      ]
     },
     "execution_count": 34,
     "metadata": {},
     "output_type": "execute_result"
    }
   ],
   "source": [
    "marks.groupby(\"student_id\")[\"Subject\"].count()"
   ]
  },
  {
   "cell_type": "code",
   "execution_count": 35,
   "id": "60392bfa-eef8-4b22-843d-56facce2bcc0",
   "metadata": {},
   "outputs": [],
   "source": [
    "# Mini Quiz"
   ]
  },
  {
   "cell_type": "code",
   "execution_count": 37,
   "id": "74db1c83-4d64-4d04-b7d5-9c385de5cd4c",
   "metadata": {},
   "outputs": [],
   "source": [
    "# Q1.\n",
    "\n",
    "# Find the average score in each subject, and rename the result column as \"Average_Score\"."
   ]
  },
  {
   "cell_type": "code",
   "execution_count": 47,
   "id": "44cc0373-90bf-46bb-8d5e-bc0fbe3d788e",
   "metadata": {},
   "outputs": [],
   "source": [
    "tm = marks.groupby(\"Subject\")[\"Score\"].mean().reset_index(name=\"Average_Score\")\n"
   ]
  },
  {
   "cell_type": "code",
   "execution_count": 50,
   "id": "1109c2e1-2773-4ac9-b0e1-2d4c8b404737",
   "metadata": {},
   "outputs": [],
   "source": [
    "tm = marks.groupby(\"Subject\")[\"Score\"].agg(Average_Score=\"mean\").reset_index()\n",
    "\n"
   ]
  },
  {
   "cell_type": "code",
   "execution_count": 51,
   "id": "ab152ca3-9ca2-4939-b672-cdf8ffe1e282",
   "metadata": {},
   "outputs": [
    {
     "data": {
      "text/html": [
       "<div>\n",
       "<style scoped>\n",
       "    .dataframe tbody tr th:only-of-type {\n",
       "        vertical-align: middle;\n",
       "    }\n",
       "\n",
       "    .dataframe tbody tr th {\n",
       "        vertical-align: top;\n",
       "    }\n",
       "\n",
       "    .dataframe thead th {\n",
       "        text-align: right;\n",
       "    }\n",
       "</style>\n",
       "<table border=\"1\" class=\"dataframe\">\n",
       "  <thead>\n",
       "    <tr style=\"text-align: right;\">\n",
       "      <th></th>\n",
       "      <th>Subject</th>\n",
       "      <th>Average_Score</th>\n",
       "    </tr>\n",
       "  </thead>\n",
       "  <tbody>\n",
       "    <tr>\n",
       "      <th>0</th>\n",
       "      <td>Math</td>\n",
       "      <td>85.75</td>\n",
       "    </tr>\n",
       "    <tr>\n",
       "      <th>1</th>\n",
       "      <td>Science</td>\n",
       "      <td>87.00</td>\n",
       "    </tr>\n",
       "  </tbody>\n",
       "</table>\n",
       "</div>"
      ],
      "text/plain": [
       "   Subject  Average_Score\n",
       "0     Math          85.75\n",
       "1  Science          87.00"
      ]
     },
     "execution_count": 51,
     "metadata": {},
     "output_type": "execute_result"
    }
   ],
   "source": [
    "tm"
   ]
  },
  {
   "cell_type": "code",
   "execution_count": 52,
   "id": "ccf36392-6f43-4ecd-8bda-de10124353a1",
   "metadata": {},
   "outputs": [],
   "source": [
    "#Q2) Find the highest score in each city"
   ]
  },
  {
   "cell_type": "code",
   "execution_count": 58,
   "id": "4203d57a-07b7-470d-ab14-7ac4adb81126",
   "metadata": {},
   "outputs": [
    {
     "data": {
      "text/html": [
       "<div>\n",
       "<style scoped>\n",
       "    .dataframe tbody tr th:only-of-type {\n",
       "        vertical-align: middle;\n",
       "    }\n",
       "\n",
       "    .dataframe tbody tr th {\n",
       "        vertical-align: top;\n",
       "    }\n",
       "\n",
       "    .dataframe thead th {\n",
       "        text-align: right;\n",
       "    }\n",
       "</style>\n",
       "<table border=\"1\" class=\"dataframe\">\n",
       "  <thead>\n",
       "    <tr style=\"text-align: right;\">\n",
       "      <th></th>\n",
       "      <th>City</th>\n",
       "      <th>Max_Score</th>\n",
       "    </tr>\n",
       "  </thead>\n",
       "  <tbody>\n",
       "    <tr>\n",
       "      <th>0</th>\n",
       "      <td>Bangalore</td>\n",
       "      <td>88</td>\n",
       "    </tr>\n",
       "    <tr>\n",
       "      <th>1</th>\n",
       "      <td>Delhi</td>\n",
       "      <td>92</td>\n",
       "    </tr>\n",
       "    <tr>\n",
       "      <th>2</th>\n",
       "      <td>Mumbai</td>\n",
       "      <td>95</td>\n",
       "    </tr>\n",
       "  </tbody>\n",
       "</table>\n",
       "</div>"
      ],
      "text/plain": [
       "        City  Max_Score\n",
       "0  Bangalore         88\n",
       "1      Delhi         92\n",
       "2     Mumbai         95"
      ]
     },
     "execution_count": 58,
     "metadata": {},
     "output_type": "execute_result"
    }
   ],
   "source": [
    "sm= pd.merge(students, marks, left_on=\"ID\", right_on=\"student_id\", how= \"inner\")\n",
    "sm.groupby(\"City\")[\"Score\"].max().reset_index(name=\"Max_Score\")"
   ]
  },
  {
   "cell_type": "code",
   "execution_count": 59,
   "id": "b96f2173-e500-486a-8fb5-5e36fc02f01b",
   "metadata": {},
   "outputs": [],
   "source": [
    "#Q3) List the students how scored the minimum marks in Science"
   ]
  },
  {
   "cell_type": "code",
   "execution_count": 70,
   "id": "f6bb2e6c-e07d-4df9-864c-7d2f513fdb76",
   "metadata": {},
   "outputs": [
    {
     "data": {
      "text/plain": [
       "'Bob'"
      ]
     },
     "execution_count": 70,
     "metadata": {},
     "output_type": "execute_result"
    }
   ],
   "source": [
    "sm.loc[sm[sm[\"Subject\"] == \"Science\"][\"Score\"].idxmin(), \"Name\"]\n"
   ]
  },
  {
   "cell_type": "code",
   "execution_count": 71,
   "id": "290c4bf6-8877-4312-9ad0-cb6f4c8ac128",
   "metadata": {},
   "outputs": [
    {
     "name": "stdout",
     "output_type": "stream",
     "text": [
      "   ID Name    City  student_id  Subject  Score\n",
      "2   2  Bob  Mumbai           2  Science     78\n"
     ]
    }
   ],
   "source": [
    "# Get the student(s) with minimum score in Science\n",
    "science_min = sm[sm[\"Subject\"] == \"Science\"].nsmallest(1, \"Score\")\n",
    "print(science_min)\n"
   ]
  },
  {
   "cell_type": "code",
   "execution_count": 72,
   "id": "440b01d4-7ead-4347-a84f-5c1962b7549e",
   "metadata": {},
   "outputs": [
    {
     "name": "stdout",
     "output_type": "stream",
     "text": [
      "   ID Name    City  student_id  Subject  Score\n",
      "2   2  Bob  Mumbai           2  Science     78\n"
     ]
    }
   ],
   "source": [
    "# Filter Science students\n",
    "science = sm[sm[\"Subject\"] == \"Science\"]\n",
    "\n",
    "# Find the minimum score in Science\n",
    "min_score = science[\"Score\"].min()\n",
    "\n",
    "# Get all students with that score\n",
    "science_min_all = science[science[\"Score\"] == min_score]\n",
    "print(science_min_all)\n"
   ]
  },
  {
   "cell_type": "code",
   "execution_count": 73,
   "id": "8d720970-cdca-4eaf-ac1c-422056aba27c",
   "metadata": {},
   "outputs": [],
   "source": [
    "# Q4.\n",
    "\n",
    "# Count how many students have scored marks in more than 1 subject."
   ]
  },
  {
   "cell_type": "code",
   "execution_count": 90,
   "id": "c9cc4f1b-6ef7-4890-8ee8-3e0a46d40f2f",
   "metadata": {},
   "outputs": [
    {
     "data": {
      "text/plain": [
       "2"
      ]
     },
     "execution_count": 90,
     "metadata": {},
     "output_type": "execute_result"
    }
   ],
   "source": [
    "m1 = marks.groupby(\"student_id\")[\"Subject\"].count().reset_index(name=\"Count\")\n",
    "m1= m1[m1[\"Count\"]>1]\n",
    "len(m1)"
   ]
  },
  {
   "cell_type": "code",
   "execution_count": 91,
   "id": "0ae59854-b283-4d23-800b-49581243b5d8",
   "metadata": {},
   "outputs": [
    {
     "data": {
      "text/plain": [
       "np.int64(2)"
      ]
     },
     "execution_count": 91,
     "metadata": {},
     "output_type": "execute_result"
    }
   ],
   "source": [
    "m1 = marks[\"student_id\"].value_counts()\n",
    "m1[m1 > 1].count()\n"
   ]
  },
  {
   "cell_type": "code",
   "execution_count": 92,
   "id": "2ceab3fe-e84d-4864-b5ad-c2a731443884",
   "metadata": {},
   "outputs": [
    {
     "data": {
      "text/plain": [
       "np.int64(2)"
      ]
     },
     "execution_count": 92,
     "metadata": {},
     "output_type": "execute_result"
    }
   ],
   "source": [
    "marks.groupby(\"student_id\")[\"Subject\"].nunique().gt(1).sum()\n"
   ]
  },
  {
   "cell_type": "code",
   "execution_count": 94,
   "id": "4dd45c0b-2d9a-456b-9b61-74e528861667",
   "metadata": {},
   "outputs": [],
   "source": [
    "# Q5.\n",
    "\n",
    "# Show the top 2 scorers in each subject."
   ]
  },
  {
   "cell_type": "code",
   "execution_count": 95,
   "id": "dcdbe884-a2c7-4390-800d-031252e4079b",
   "metadata": {},
   "outputs": [
    {
     "name": "stderr",
     "output_type": "stream",
     "text": [
      "C:\\Users\\gaura\\AppData\\Local\\Temp\\ipykernel_33864\\1608239816.py:1: FutureWarning: DataFrameGroupBy.apply operated on the grouping columns. This behavior is deprecated, and in a future version of pandas the grouping columns will be excluded from the operation. Either pass `include_groups=False` to exclude the groupings or explicitly select the grouping columns after groupby to silence this warning.\n",
      "  marks.groupby(\"Subject\").apply(lambda x: x.nlargest(2, \"Score\"))\n"
     ]
    },
    {
     "data": {
      "text/html": [
       "<div>\n",
       "<style scoped>\n",
       "    .dataframe tbody tr th:only-of-type {\n",
       "        vertical-align: middle;\n",
       "    }\n",
       "\n",
       "    .dataframe tbody tr th {\n",
       "        vertical-align: top;\n",
       "    }\n",
       "\n",
       "    .dataframe thead th {\n",
       "        text-align: right;\n",
       "    }\n",
       "</style>\n",
       "<table border=\"1\" class=\"dataframe\">\n",
       "  <thead>\n",
       "    <tr style=\"text-align: right;\">\n",
       "      <th></th>\n",
       "      <th></th>\n",
       "      <th>student_id</th>\n",
       "      <th>Subject</th>\n",
       "      <th>Score</th>\n",
       "    </tr>\n",
       "    <tr>\n",
       "      <th>Subject</th>\n",
       "      <th></th>\n",
       "      <th></th>\n",
       "      <th></th>\n",
       "      <th></th>\n",
       "    </tr>\n",
       "  </thead>\n",
       "  <tbody>\n",
       "    <tr>\n",
       "      <th rowspan=\"2\" valign=\"top\">Math</th>\n",
       "      <th>3</th>\n",
       "      <td>3</td>\n",
       "      <td>Math</td>\n",
       "      <td>92</td>\n",
       "    </tr>\n",
       "    <tr>\n",
       "      <th>1</th>\n",
       "      <td>2</td>\n",
       "      <td>Math</td>\n",
       "      <td>90</td>\n",
       "    </tr>\n",
       "    <tr>\n",
       "      <th rowspan=\"2\" valign=\"top\">Science</th>\n",
       "      <th>6</th>\n",
       "      <td>5</td>\n",
       "      <td>Science</td>\n",
       "      <td>95</td>\n",
       "    </tr>\n",
       "    <tr>\n",
       "      <th>4</th>\n",
       "      <td>4</td>\n",
       "      <td>Science</td>\n",
       "      <td>88</td>\n",
       "    </tr>\n",
       "  </tbody>\n",
       "</table>\n",
       "</div>"
      ],
      "text/plain": [
       "           student_id  Subject  Score\n",
       "Subject                              \n",
       "Math    3           3     Math     92\n",
       "        1           2     Math     90\n",
       "Science 6           5  Science     95\n",
       "        4           4  Science     88"
      ]
     },
     "execution_count": 95,
     "metadata": {},
     "output_type": "execute_result"
    }
   ],
   "source": [
    "marks.groupby(\"Subject\").apply(lambda x: x.nlargest(2, \"Score\"))"
   ]
  },
  {
   "cell_type": "code",
   "execution_count": 96,
   "id": "fb2e3301-1bb7-424a-ba75-c83b4fca5865",
   "metadata": {},
   "outputs": [
    {
     "data": {
      "text/html": [
       "<div>\n",
       "<style scoped>\n",
       "    .dataframe tbody tr th:only-of-type {\n",
       "        vertical-align: middle;\n",
       "    }\n",
       "\n",
       "    .dataframe tbody tr th {\n",
       "        vertical-align: top;\n",
       "    }\n",
       "\n",
       "    .dataframe thead th {\n",
       "        text-align: right;\n",
       "    }\n",
       "</style>\n",
       "<table border=\"1\" class=\"dataframe\">\n",
       "  <thead>\n",
       "    <tr style=\"text-align: right;\">\n",
       "      <th></th>\n",
       "      <th>student_id</th>\n",
       "      <th>Subject</th>\n",
       "      <th>Score</th>\n",
       "    </tr>\n",
       "  </thead>\n",
       "  <tbody>\n",
       "    <tr>\n",
       "      <th>3</th>\n",
       "      <td>3</td>\n",
       "      <td>Math</td>\n",
       "      <td>92</td>\n",
       "    </tr>\n",
       "    <tr>\n",
       "      <th>1</th>\n",
       "      <td>2</td>\n",
       "      <td>Math</td>\n",
       "      <td>90</td>\n",
       "    </tr>\n",
       "    <tr>\n",
       "      <th>6</th>\n",
       "      <td>5</td>\n",
       "      <td>Science</td>\n",
       "      <td>95</td>\n",
       "    </tr>\n",
       "    <tr>\n",
       "      <th>4</th>\n",
       "      <td>4</td>\n",
       "      <td>Science</td>\n",
       "      <td>88</td>\n",
       "    </tr>\n",
       "  </tbody>\n",
       "</table>\n",
       "</div>"
      ],
      "text/plain": [
       "   student_id  Subject  Score\n",
       "3           3     Math     92\n",
       "1           2     Math     90\n",
       "6           5  Science     95\n",
       "4           4  Science     88"
      ]
     },
     "execution_count": 96,
     "metadata": {},
     "output_type": "execute_result"
    }
   ],
   "source": [
    "marks.sort_values([\"Subject\", \"Score\"], ascending=[True, False]) \\\n",
    "     .groupby(\"Subject\").head(2)\n"
   ]
  },
  {
   "cell_type": "code",
   "execution_count": 4,
   "id": "e93edc7b-2f85-4138-b934-9a05e1bc68c4",
   "metadata": {},
   "outputs": [
    {
     "data": {
      "text/html": [
       "<div>\n",
       "<style scoped>\n",
       "    .dataframe tbody tr th:only-of-type {\n",
       "        vertical-align: middle;\n",
       "    }\n",
       "\n",
       "    .dataframe tbody tr th {\n",
       "        vertical-align: top;\n",
       "    }\n",
       "\n",
       "    .dataframe thead th {\n",
       "        text-align: right;\n",
       "    }\n",
       "</style>\n",
       "<table border=\"1\" class=\"dataframe\">\n",
       "  <thead>\n",
       "    <tr style=\"text-align: right;\">\n",
       "      <th></th>\n",
       "      <th>avg_score</th>\n",
       "      <th>highest</th>\n",
       "      <th>lowest</th>\n",
       "    </tr>\n",
       "    <tr>\n",
       "      <th>Subject</th>\n",
       "      <th></th>\n",
       "      <th></th>\n",
       "      <th></th>\n",
       "    </tr>\n",
       "  </thead>\n",
       "  <tbody>\n",
       "    <tr>\n",
       "      <th>English</th>\n",
       "      <td>82.00</td>\n",
       "      <td>88</td>\n",
       "      <td>78</td>\n",
       "    </tr>\n",
       "    <tr>\n",
       "      <th>Math</th>\n",
       "      <td>85.75</td>\n",
       "      <td>92</td>\n",
       "      <td>76</td>\n",
       "    </tr>\n",
       "  </tbody>\n",
       "</table>\n",
       "</div>"
      ],
      "text/plain": [
       "         avg_score  highest  lowest\n",
       "Subject                            \n",
       "English      82.00       88      78\n",
       "Math         85.75       92      76"
      ]
     },
     "execution_count": 4,
     "metadata": {},
     "output_type": "execute_result"
    }
   ],
   "source": [
    "marks.groupby(\"Subject\")[\"Score\"].agg(\n",
    "    avg_score=\"mean\", \n",
    "    highest=\"max\", \n",
    "    lowest=\"min\"\n",
    ")\n"
   ]
  },
  {
   "cell_type": "code",
   "execution_count": 5,
   "id": "90f9a566-49ec-42d5-b1d2-1c988ffbef25",
   "metadata": {},
   "outputs": [
    {
     "data": {
      "text/html": [
       "<div>\n",
       "<style scoped>\n",
       "    .dataframe tbody tr th:only-of-type {\n",
       "        vertical-align: middle;\n",
       "    }\n",
       "\n",
       "    .dataframe tbody tr th {\n",
       "        vertical-align: top;\n",
       "    }\n",
       "\n",
       "    .dataframe thead th {\n",
       "        text-align: right;\n",
       "    }\n",
       "</style>\n",
       "<table border=\"1\" class=\"dataframe\">\n",
       "  <thead>\n",
       "    <tr style=\"text-align: right;\">\n",
       "      <th></th>\n",
       "      <th>avg_score</th>\n",
       "      <th>highest</th>\n",
       "      <th>lowest</th>\n",
       "      <th>student_count</th>\n",
       "    </tr>\n",
       "    <tr>\n",
       "      <th>Subject</th>\n",
       "      <th></th>\n",
       "      <th></th>\n",
       "      <th></th>\n",
       "      <th></th>\n",
       "    </tr>\n",
       "  </thead>\n",
       "  <tbody>\n",
       "    <tr>\n",
       "      <th>English</th>\n",
       "      <td>82.00</td>\n",
       "      <td>88</td>\n",
       "      <td>78</td>\n",
       "      <td>3</td>\n",
       "    </tr>\n",
       "    <tr>\n",
       "      <th>Math</th>\n",
       "      <td>85.75</td>\n",
       "      <td>92</td>\n",
       "      <td>76</td>\n",
       "      <td>4</td>\n",
       "    </tr>\n",
       "  </tbody>\n",
       "</table>\n",
       "</div>"
      ],
      "text/plain": [
       "         avg_score  highest  lowest  student_count\n",
       "Subject                                           \n",
       "English      82.00       88      78              3\n",
       "Math         85.75       92      76              4"
      ]
     },
     "execution_count": 5,
     "metadata": {},
     "output_type": "execute_result"
    }
   ],
   "source": [
    "marks.groupby(\"Subject\").agg(\n",
    "    avg_score=(\"Score\", \"mean\"),     # mean of Score\n",
    "    highest=(\"Score\", \"max\"),        # max of Score\n",
    "    lowest=(\"Score\", \"min\"),         # min of Score\n",
    "    student_count=(\"student_id\", \"count\")   # count students\n",
    ")\n"
   ]
  },
  {
   "cell_type": "code",
   "execution_count": 6,
   "id": "066333a6-4607-4112-ac89-e811577a5df1",
   "metadata": {},
   "outputs": [
    {
     "data": {
      "text/html": [
       "<div>\n",
       "<style scoped>\n",
       "    .dataframe tbody tr th:only-of-type {\n",
       "        vertical-align: middle;\n",
       "    }\n",
       "\n",
       "    .dataframe tbody tr th {\n",
       "        vertical-align: top;\n",
       "    }\n",
       "\n",
       "    .dataframe thead th {\n",
       "        text-align: right;\n",
       "    }\n",
       "</style>\n",
       "<table border=\"1\" class=\"dataframe\">\n",
       "  <thead>\n",
       "    <tr style=\"text-align: right;\">\n",
       "      <th></th>\n",
       "      <th>avg_score</th>\n",
       "      <th>highest</th>\n",
       "      <th>lowest</th>\n",
       "      <th>student_count</th>\n",
       "    </tr>\n",
       "    <tr>\n",
       "      <th>Subject</th>\n",
       "      <th></th>\n",
       "      <th></th>\n",
       "      <th></th>\n",
       "      <th></th>\n",
       "    </tr>\n",
       "  </thead>\n",
       "  <tbody>\n",
       "    <tr>\n",
       "      <th>Math</th>\n",
       "      <td>85.75</td>\n",
       "      <td>92</td>\n",
       "      <td>76</td>\n",
       "      <td>4</td>\n",
       "    </tr>\n",
       "    <tr>\n",
       "      <th>English</th>\n",
       "      <td>82.00</td>\n",
       "      <td>88</td>\n",
       "      <td>78</td>\n",
       "      <td>3</td>\n",
       "    </tr>\n",
       "  </tbody>\n",
       "</table>\n",
       "</div>"
      ],
      "text/plain": [
       "         avg_score  highest  lowest  student_count\n",
       "Subject                                           \n",
       "Math         85.75       92      76              4\n",
       "English      82.00       88      78              3"
      ]
     },
     "execution_count": 6,
     "metadata": {},
     "output_type": "execute_result"
    }
   ],
   "source": [
    "marks.groupby(\"Subject\").agg(\n",
    "    avg_score=(\"Score\",\"mean\"),\n",
    "    highest=(\"Score\",\"max\"),\n",
    "    lowest=(\"Score\",\"min\"),\n",
    "    student_count=(\"student_id\",\"count\")\n",
    ").sort_values(\"avg_score\", ascending=False)"
   ]
  },
  {
   "cell_type": "code",
   "execution_count": 7,
   "id": "d965b555-048b-4ca0-931f-e6d452de12d2",
   "metadata": {},
   "outputs": [],
   "source": [
    "# Let's merge the subject summary with the teachers table to see which teacher teaches which\n",
    "#subject along with averages."
   ]
  },
  {
   "cell_type": "code",
   "execution_count": 8,
   "id": "f2344969-b226-48ae-87d5-a3d72fe4ada7",
   "metadata": {},
   "outputs": [],
   "source": [
    "subject_summary= marks.groupby(\"Subject\").agg(\n",
    "    avg_score=(\"Score\",\"mean\"),\n",
    "    highest=(\"Score\",\"max\"),\n",
    "    lowest=(\"Score\",\"min\"),\n",
    "    student_count=(\"student_id\",\"count\")\n",
    ").reset_index()"
   ]
  },
  {
   "cell_type": "code",
   "execution_count": 9,
   "id": "5f155ed0-2632-4230-b304-e6d605204f7c",
   "metadata": {},
   "outputs": [],
   "source": [
    "subject_teacher_summary= pd.merge(subject_summary, teachers, on=\"Subject\", how=\"left\")"
   ]
  },
  {
   "cell_type": "code",
   "execution_count": 10,
   "id": "995c677e-662f-4d19-8c69-285cac480e7b",
   "metadata": {},
   "outputs": [
    {
     "data": {
      "text/html": [
       "<div>\n",
       "<style scoped>\n",
       "    .dataframe tbody tr th:only-of-type {\n",
       "        vertical-align: middle;\n",
       "    }\n",
       "\n",
       "    .dataframe tbody tr th {\n",
       "        vertical-align: top;\n",
       "    }\n",
       "\n",
       "    .dataframe thead th {\n",
       "        text-align: right;\n",
       "    }\n",
       "</style>\n",
       "<table border=\"1\" class=\"dataframe\">\n",
       "  <thead>\n",
       "    <tr style=\"text-align: right;\">\n",
       "      <th></th>\n",
       "      <th>Subject</th>\n",
       "      <th>avg_score</th>\n",
       "      <th>highest</th>\n",
       "      <th>lowest</th>\n",
       "      <th>student_count</th>\n",
       "      <th>Teacher</th>\n",
       "    </tr>\n",
       "  </thead>\n",
       "  <tbody>\n",
       "    <tr>\n",
       "      <th>0</th>\n",
       "      <td>English</td>\n",
       "      <td>82.00</td>\n",
       "      <td>88</td>\n",
       "      <td>78</td>\n",
       "      <td>3</td>\n",
       "      <td>Ms. Johnson</td>\n",
       "    </tr>\n",
       "    <tr>\n",
       "      <th>1</th>\n",
       "      <td>Math</td>\n",
       "      <td>85.75</td>\n",
       "      <td>92</td>\n",
       "      <td>76</td>\n",
       "      <td>4</td>\n",
       "      <td>Mr. Smith</td>\n",
       "    </tr>\n",
       "  </tbody>\n",
       "</table>\n",
       "</div>"
      ],
      "text/plain": [
       "   Subject  avg_score  highest  lowest  student_count      Teacher\n",
       "0  English      82.00       88      78              3  Ms. Johnson\n",
       "1     Math      85.75       92      76              4    Mr. Smith"
      ]
     },
     "execution_count": 10,
     "metadata": {},
     "output_type": "execute_result"
    }
   ],
   "source": [
    "subject_teacher_summary"
   ]
  },
  {
   "cell_type": "code",
   "execution_count": 11,
   "id": "37b9895a-50ea-4b0c-8882-42dede8500ce",
   "metadata": {},
   "outputs": [
    {
     "data": {
      "text/html": [
       "<div>\n",
       "<style scoped>\n",
       "    .dataframe tbody tr th:only-of-type {\n",
       "        vertical-align: middle;\n",
       "    }\n",
       "\n",
       "    .dataframe tbody tr th {\n",
       "        vertical-align: top;\n",
       "    }\n",
       "\n",
       "    .dataframe thead th {\n",
       "        text-align: right;\n",
       "    }\n",
       "</style>\n",
       "<table border=\"1\" class=\"dataframe\">\n",
       "  <thead>\n",
       "    <tr style=\"text-align: right;\">\n",
       "      <th></th>\n",
       "      <th>Subject</th>\n",
       "      <th>avg_score</th>\n",
       "      <th>highest</th>\n",
       "      <th>lowest</th>\n",
       "      <th>student_count</th>\n",
       "      <th>Teacher</th>\n",
       "    </tr>\n",
       "  </thead>\n",
       "  <tbody>\n",
       "    <tr>\n",
       "      <th>1</th>\n",
       "      <td>Math</td>\n",
       "      <td>85.75</td>\n",
       "      <td>92</td>\n",
       "      <td>76</td>\n",
       "      <td>4</td>\n",
       "      <td>Mr. Smith</td>\n",
       "    </tr>\n",
       "    <tr>\n",
       "      <th>0</th>\n",
       "      <td>English</td>\n",
       "      <td>82.00</td>\n",
       "      <td>88</td>\n",
       "      <td>78</td>\n",
       "      <td>3</td>\n",
       "      <td>Ms. Johnson</td>\n",
       "    </tr>\n",
       "  </tbody>\n",
       "</table>\n",
       "</div>"
      ],
      "text/plain": [
       "   Subject  avg_score  highest  lowest  student_count      Teacher\n",
       "1     Math      85.75       92      76              4    Mr. Smith\n",
       "0  English      82.00       88      78              3  Ms. Johnson"
      ]
     },
     "execution_count": 11,
     "metadata": {},
     "output_type": "execute_result"
    }
   ],
   "source": [
    "subject_teacher_summary.sort_values(\"avg_score\", ascending=False)"
   ]
  },
  {
   "cell_type": "code",
   "execution_count": 14,
   "id": "b2d4a454-a7fc-4998-ac7c-ebea8e70faf1",
   "metadata": {},
   "outputs": [],
   "source": [
    "weakest_subject = subject_teacher_summary.loc[\n",
    "    [subject_teacher_summary[\"avg_score\"].idxmin()]\n",
    "    ]"
   ]
  },
  {
   "cell_type": "code",
   "execution_count": 15,
   "id": "eca03a6c-0e74-4887-a24d-15af58a812ac",
   "metadata": {},
   "outputs": [
    {
     "data": {
      "text/html": [
       "<div>\n",
       "<style scoped>\n",
       "    .dataframe tbody tr th:only-of-type {\n",
       "        vertical-align: middle;\n",
       "    }\n",
       "\n",
       "    .dataframe tbody tr th {\n",
       "        vertical-align: top;\n",
       "    }\n",
       "\n",
       "    .dataframe thead th {\n",
       "        text-align: right;\n",
       "    }\n",
       "</style>\n",
       "<table border=\"1\" class=\"dataframe\">\n",
       "  <thead>\n",
       "    <tr style=\"text-align: right;\">\n",
       "      <th></th>\n",
       "      <th>Subject</th>\n",
       "      <th>avg_score</th>\n",
       "      <th>highest</th>\n",
       "      <th>lowest</th>\n",
       "      <th>student_count</th>\n",
       "      <th>Teacher</th>\n",
       "    </tr>\n",
       "  </thead>\n",
       "  <tbody>\n",
       "    <tr>\n",
       "      <th>0</th>\n",
       "      <td>English</td>\n",
       "      <td>82.0</td>\n",
       "      <td>88</td>\n",
       "      <td>78</td>\n",
       "      <td>3</td>\n",
       "      <td>Ms. Johnson</td>\n",
       "    </tr>\n",
       "  </tbody>\n",
       "</table>\n",
       "</div>"
      ],
      "text/plain": [
       "   Subject  avg_score  highest  lowest  student_count      Teacher\n",
       "0  English       82.0       88      78              3  Ms. Johnson"
      ]
     },
     "execution_count": 15,
     "metadata": {},
     "output_type": "execute_result"
    }
   ],
   "source": [
    "weakest_subject"
   ]
  },
  {
   "cell_type": "code",
   "execution_count": 16,
   "id": "387ca450-4247-4a21-bd17-48751b4fb9f0",
   "metadata": {},
   "outputs": [],
   "source": [
    "#How to join this with the students table to list all students who scored below the subject\n",
    "# average?"
   ]
  },
  {
   "cell_type": "code",
   "execution_count": 17,
   "id": "86677b03-d885-43d3-a723-fc38488df62f",
   "metadata": {},
   "outputs": [],
   "source": [
    "# #Steps\n",
    "# 1) Find weakest_subject + its average\n",
    "# 2) Extract the subject name and avg\n",
    "# 3) Filter marks for that subject and below avg\n",
    "# 4) Join Students to get names\n"
   ]
  },
  {
   "cell_type": "code",
   "execution_count": 18,
   "id": "be8f5a15-69eb-4b6c-ab53-97c45f6620cb",
   "metadata": {},
   "outputs": [
    {
     "data": {
      "text/html": [
       "<div>\n",
       "<style scoped>\n",
       "    .dataframe tbody tr th:only-of-type {\n",
       "        vertical-align: middle;\n",
       "    }\n",
       "\n",
       "    .dataframe tbody tr th {\n",
       "        vertical-align: top;\n",
       "    }\n",
       "\n",
       "    .dataframe thead th {\n",
       "        text-align: right;\n",
       "    }\n",
       "</style>\n",
       "<table border=\"1\" class=\"dataframe\">\n",
       "  <thead>\n",
       "    <tr style=\"text-align: right;\">\n",
       "      <th></th>\n",
       "      <th>Subject</th>\n",
       "      <th>avg_score</th>\n",
       "      <th>highest</th>\n",
       "      <th>lowest</th>\n",
       "      <th>student_count</th>\n",
       "      <th>Teacher</th>\n",
       "    </tr>\n",
       "  </thead>\n",
       "  <tbody>\n",
       "    <tr>\n",
       "      <th>0</th>\n",
       "      <td>English</td>\n",
       "      <td>82.0</td>\n",
       "      <td>88</td>\n",
       "      <td>78</td>\n",
       "      <td>3</td>\n",
       "      <td>Ms. Johnson</td>\n",
       "    </tr>\n",
       "  </tbody>\n",
       "</table>\n",
       "</div>"
      ],
      "text/plain": [
       "   Subject  avg_score  highest  lowest  student_count      Teacher\n",
       "0  English       82.0       88      78              3  Ms. Johnson"
      ]
     },
     "execution_count": 18,
     "metadata": {},
     "output_type": "execute_result"
    }
   ],
   "source": [
    "weakest_subject = subject_teacher_summary.loc[\n",
    "    [subject_teacher_summary[\"avg_score\"].idxmin()]\n",
    "]\n",
    "\n",
    "weakest_subject\n"
   ]
  },
  {
   "cell_type": "code",
   "execution_count": 26,
   "id": "0ed1e807-532d-4568-8f65-35db10f93ea6",
   "metadata": {},
   "outputs": [],
   "source": [
    "sub= weakest_subject[\"Subject\"].iloc[0]\n",
    "avg= weakest_subject[\"avg_score\"].iloc[0]"
   ]
  },
  {
   "cell_type": "code",
   "execution_count": 29,
   "id": "0a78f720-b894-4cc8-b8e6-931ec47c38c5",
   "metadata": {},
   "outputs": [],
   "source": [
    "weak_scores= marks[(marks[\"Subject\"] == sub) & (marks[\"Score\"] < avg)]\n"
   ]
  },
  {
   "cell_type": "code",
   "execution_count": 30,
   "id": "4d130bad-c6a8-48d7-ae57-30b3a00faf0b",
   "metadata": {},
   "outputs": [
    {
     "data": {
      "text/html": [
       "<div>\n",
       "<style scoped>\n",
       "    .dataframe tbody tr th:only-of-type {\n",
       "        vertical-align: middle;\n",
       "    }\n",
       "\n",
       "    .dataframe tbody tr th {\n",
       "        vertical-align: top;\n",
       "    }\n",
       "\n",
       "    .dataframe thead th {\n",
       "        text-align: right;\n",
       "    }\n",
       "</style>\n",
       "<table border=\"1\" class=\"dataframe\">\n",
       "  <thead>\n",
       "    <tr style=\"text-align: right;\">\n",
       "      <th></th>\n",
       "      <th>student_id</th>\n",
       "      <th>Subject</th>\n",
       "      <th>Score</th>\n",
       "    </tr>\n",
       "  </thead>\n",
       "  <tbody>\n",
       "    <tr>\n",
       "      <th>2</th>\n",
       "      <td>2</td>\n",
       "      <td>English</td>\n",
       "      <td>78</td>\n",
       "    </tr>\n",
       "    <tr>\n",
       "      <th>6</th>\n",
       "      <td>5</td>\n",
       "      <td>English</td>\n",
       "      <td>80</td>\n",
       "    </tr>\n",
       "  </tbody>\n",
       "</table>\n",
       "</div>"
      ],
      "text/plain": [
       "   student_id  Subject  Score\n",
       "2           2  English     78\n",
       "6           5  English     80"
      ]
     },
     "execution_count": 30,
     "metadata": {},
     "output_type": "execute_result"
    }
   ],
   "source": [
    "weak_scores"
   ]
  },
  {
   "cell_type": "code",
   "execution_count": 35,
   "id": "d0872f52-490d-45c7-8abb-b3900981d4d1",
   "metadata": {},
   "outputs": [
    {
     "data": {
      "text/html": [
       "<div>\n",
       "<style scoped>\n",
       "    .dataframe tbody tr th:only-of-type {\n",
       "        vertical-align: middle;\n",
       "    }\n",
       "\n",
       "    .dataframe tbody tr th {\n",
       "        vertical-align: top;\n",
       "    }\n",
       "\n",
       "    .dataframe thead th {\n",
       "        text-align: right;\n",
       "    }\n",
       "</style>\n",
       "<table border=\"1\" class=\"dataframe\">\n",
       "  <thead>\n",
       "    <tr style=\"text-align: right;\">\n",
       "      <th></th>\n",
       "      <th>student_id</th>\n",
       "      <th>Subject</th>\n",
       "      <th>Score</th>\n",
       "      <th>ID</th>\n",
       "      <th>Name</th>\n",
       "    </tr>\n",
       "  </thead>\n",
       "  <tbody>\n",
       "    <tr>\n",
       "      <th>0</th>\n",
       "      <td>2</td>\n",
       "      <td>English</td>\n",
       "      <td>78</td>\n",
       "      <td>2</td>\n",
       "      <td>Bob</td>\n",
       "    </tr>\n",
       "    <tr>\n",
       "      <th>1</th>\n",
       "      <td>5</td>\n",
       "      <td>English</td>\n",
       "      <td>80</td>\n",
       "      <td>5</td>\n",
       "      <td>Eva</td>\n",
       "    </tr>\n",
       "  </tbody>\n",
       "</table>\n",
       "</div>"
      ],
      "text/plain": [
       "   student_id  Subject  Score  ID Name\n",
       "0           2  English     78   2  Bob\n",
       "1           5  English     80   5  Eva"
      ]
     },
     "execution_count": 35,
     "metadata": {},
     "output_type": "execute_result"
    }
   ],
   "source": [
    "weak_students= pd.merge(weak_scores, students, left_on=\"student_id\", right_on=\"ID\")\n",
    "weak_students"
   ]
  },
  {
   "cell_type": "code",
   "execution_count": 36,
   "id": "2e83c8b9-28fb-4086-8465-b54456075e50",
   "metadata": {},
   "outputs": [],
   "source": [
    "weak_students = weak_students[[\"ID\", \"Subject\", \"Score\", \"Name\"]]"
   ]
  },
  {
   "cell_type": "code",
   "execution_count": 38,
   "id": "d58d3786-983a-417b-b6fb-e088b9bfefb0",
   "metadata": {},
   "outputs": [
    {
     "data": {
      "text/html": [
       "<div>\n",
       "<style scoped>\n",
       "    .dataframe tbody tr th:only-of-type {\n",
       "        vertical-align: middle;\n",
       "    }\n",
       "\n",
       "    .dataframe tbody tr th {\n",
       "        vertical-align: top;\n",
       "    }\n",
       "\n",
       "    .dataframe thead th {\n",
       "        text-align: right;\n",
       "    }\n",
       "</style>\n",
       "<table border=\"1\" class=\"dataframe\">\n",
       "  <thead>\n",
       "    <tr style=\"text-align: right;\">\n",
       "      <th></th>\n",
       "      <th>ID</th>\n",
       "      <th>Subject</th>\n",
       "      <th>Score</th>\n",
       "      <th>Name</th>\n",
       "    </tr>\n",
       "  </thead>\n",
       "  <tbody>\n",
       "    <tr>\n",
       "      <th>0</th>\n",
       "      <td>2</td>\n",
       "      <td>English</td>\n",
       "      <td>78</td>\n",
       "      <td>Bob</td>\n",
       "    </tr>\n",
       "    <tr>\n",
       "      <th>1</th>\n",
       "      <td>5</td>\n",
       "      <td>English</td>\n",
       "      <td>80</td>\n",
       "      <td>Eva</td>\n",
       "    </tr>\n",
       "  </tbody>\n",
       "</table>\n",
       "</div>"
      ],
      "text/plain": [
       "   ID  Subject  Score Name\n",
       "0   2  English     78  Bob\n",
       "1   5  English     80  Eva"
      ]
     },
     "execution_count": 38,
     "metadata": {},
     "output_type": "execute_result"
    }
   ],
   "source": [
    "weak_students"
   ]
  },
  {
   "cell_type": "code",
   "execution_count": 40,
   "id": "027b5e02-4053-4e0d-ae6f-964e06bdf423",
   "metadata": {},
   "outputs": [
    {
     "data": {
      "text/html": [
       "<div>\n",
       "<style scoped>\n",
       "    .dataframe tbody tr th:only-of-type {\n",
       "        vertical-align: middle;\n",
       "    }\n",
       "\n",
       "    .dataframe tbody tr th {\n",
       "        vertical-align: top;\n",
       "    }\n",
       "\n",
       "    .dataframe thead th {\n",
       "        text-align: right;\n",
       "    }\n",
       "</style>\n",
       "<table border=\"1\" class=\"dataframe\">\n",
       "  <thead>\n",
       "    <tr style=\"text-align: right;\">\n",
       "      <th></th>\n",
       "      <th>student_id</th>\n",
       "      <th>Subject</th>\n",
       "      <th>Score</th>\n",
       "    </tr>\n",
       "  </thead>\n",
       "  <tbody>\n",
       "    <tr>\n",
       "      <th>0</th>\n",
       "      <td>1</td>\n",
       "      <td>Math</td>\n",
       "      <td>85</td>\n",
       "    </tr>\n",
       "    <tr>\n",
       "      <th>1</th>\n",
       "      <td>2</td>\n",
       "      <td>Math</td>\n",
       "      <td>90</td>\n",
       "    </tr>\n",
       "    <tr>\n",
       "      <th>2</th>\n",
       "      <td>2</td>\n",
       "      <td>English</td>\n",
       "      <td>78</td>\n",
       "    </tr>\n",
       "    <tr>\n",
       "      <th>3</th>\n",
       "      <td>3</td>\n",
       "      <td>Math</td>\n",
       "      <td>92</td>\n",
       "    </tr>\n",
       "    <tr>\n",
       "      <th>4</th>\n",
       "      <td>4</td>\n",
       "      <td>English</td>\n",
       "      <td>88</td>\n",
       "    </tr>\n",
       "    <tr>\n",
       "      <th>5</th>\n",
       "      <td>5</td>\n",
       "      <td>Math</td>\n",
       "      <td>76</td>\n",
       "    </tr>\n",
       "    <tr>\n",
       "      <th>6</th>\n",
       "      <td>5</td>\n",
       "      <td>English</td>\n",
       "      <td>80</td>\n",
       "    </tr>\n",
       "  </tbody>\n",
       "</table>\n",
       "</div>"
      ],
      "text/plain": [
       "   student_id  Subject  Score\n",
       "0           1     Math     85\n",
       "1           2     Math     90\n",
       "2           2  English     78\n",
       "3           3     Math     92\n",
       "4           4  English     88\n",
       "5           5     Math     76\n",
       "6           5  English     80"
      ]
     },
     "execution_count": 40,
     "metadata": {},
     "output_type": "execute_result"
    }
   ],
   "source": [
    "marks.groupby(\"Subject\")[\"Score\"].rank(method=\"dense\", ascending=False)\n",
    "marks\n"
   ]
  },
  {
   "cell_type": "code",
   "execution_count": 44,
   "id": "dd0cfeb0-caa8-4028-8f89-ee0edf48f592",
   "metadata": {},
   "outputs": [],
   "source": [
    "marks[\"Rank\"] = marks.groupby(\"Subject\")[\"Score\"].rank(method=\"dense\", ascending=False)"
   ]
  },
  {
   "cell_type": "code",
   "execution_count": 42,
   "id": "470f77a4-5ec5-42ea-8264-24f5442dc7a4",
   "metadata": {},
   "outputs": [
    {
     "data": {
      "text/html": [
       "<div>\n",
       "<style scoped>\n",
       "    .dataframe tbody tr th:only-of-type {\n",
       "        vertical-align: middle;\n",
       "    }\n",
       "\n",
       "    .dataframe tbody tr th {\n",
       "        vertical-align: top;\n",
       "    }\n",
       "\n",
       "    .dataframe thead th {\n",
       "        text-align: right;\n",
       "    }\n",
       "</style>\n",
       "<table border=\"1\" class=\"dataframe\">\n",
       "  <thead>\n",
       "    <tr style=\"text-align: right;\">\n",
       "      <th></th>\n",
       "      <th>student_id</th>\n",
       "      <th>Subject</th>\n",
       "      <th>Score</th>\n",
       "      <th>Rank</th>\n",
       "    </tr>\n",
       "  </thead>\n",
       "  <tbody>\n",
       "    <tr>\n",
       "      <th>0</th>\n",
       "      <td>1</td>\n",
       "      <td>Math</td>\n",
       "      <td>85</td>\n",
       "      <td>3.0</td>\n",
       "    </tr>\n",
       "    <tr>\n",
       "      <th>1</th>\n",
       "      <td>2</td>\n",
       "      <td>Math</td>\n",
       "      <td>90</td>\n",
       "      <td>2.0</td>\n",
       "    </tr>\n",
       "    <tr>\n",
       "      <th>2</th>\n",
       "      <td>2</td>\n",
       "      <td>English</td>\n",
       "      <td>78</td>\n",
       "      <td>3.0</td>\n",
       "    </tr>\n",
       "    <tr>\n",
       "      <th>3</th>\n",
       "      <td>3</td>\n",
       "      <td>Math</td>\n",
       "      <td>92</td>\n",
       "      <td>1.0</td>\n",
       "    </tr>\n",
       "    <tr>\n",
       "      <th>4</th>\n",
       "      <td>4</td>\n",
       "      <td>English</td>\n",
       "      <td>88</td>\n",
       "      <td>1.0</td>\n",
       "    </tr>\n",
       "    <tr>\n",
       "      <th>5</th>\n",
       "      <td>5</td>\n",
       "      <td>Math</td>\n",
       "      <td>76</td>\n",
       "      <td>4.0</td>\n",
       "    </tr>\n",
       "    <tr>\n",
       "      <th>6</th>\n",
       "      <td>5</td>\n",
       "      <td>English</td>\n",
       "      <td>80</td>\n",
       "      <td>2.0</td>\n",
       "    </tr>\n",
       "  </tbody>\n",
       "</table>\n",
       "</div>"
      ],
      "text/plain": [
       "   student_id  Subject  Score  Rank\n",
       "0           1     Math     85   3.0\n",
       "1           2     Math     90   2.0\n",
       "2           2  English     78   3.0\n",
       "3           3     Math     92   1.0\n",
       "4           4  English     88   1.0\n",
       "5           5     Math     76   4.0\n",
       "6           5  English     80   2.0"
      ]
     },
     "execution_count": 42,
     "metadata": {},
     "output_type": "execute_result"
    }
   ],
   "source": [
    "marks"
   ]
  },
  {
   "cell_type": "code",
   "execution_count": 45,
   "id": "d109e7ec-1a01-4045-8e41-bd2a58ce1bb3",
   "metadata": {},
   "outputs": [
    {
     "name": "stdout",
     "output_type": "stream",
     "text": [
      "     Name  Score\n",
      "0    Amit     95\n",
      "1    Bina     87\n",
      "2  Chetan     95\n",
      "3   Divya     76\n",
      "4    Esha     87\n",
      "5  Farhan     92\n"
     ]
    }
   ],
   "source": [
    "import pandas as pd\n",
    "\n",
    "data = {\n",
    "    \"Name\": [\"Amit\", \"Bina\", \"Chetan\", \"Divya\", \"Esha\", \"Farhan\"],\n",
    "    \"Score\": [95, 87, 95, 76, 87, 92]\n",
    "}\n",
    "df = pd.DataFrame(data)\n",
    "print(df)"
   ]
  },
  {
   "cell_type": "code",
   "execution_count": 54,
   "id": "86392d54-7e82-48fb-a9f0-250354828562",
   "metadata": {},
   "outputs": [
    {
     "data": {
      "text/html": [
       "<div>\n",
       "<style scoped>\n",
       "    .dataframe tbody tr th:only-of-type {\n",
       "        vertical-align: middle;\n",
       "    }\n",
       "\n",
       "    .dataframe tbody tr th {\n",
       "        vertical-align: top;\n",
       "    }\n",
       "\n",
       "    .dataframe thead th {\n",
       "        text-align: right;\n",
       "    }\n",
       "</style>\n",
       "<table border=\"1\" class=\"dataframe\">\n",
       "  <thead>\n",
       "    <tr style=\"text-align: right;\">\n",
       "      <th></th>\n",
       "      <th>Name</th>\n",
       "      <th>Score</th>\n",
       "      <th>Rank</th>\n",
       "    </tr>\n",
       "  </thead>\n",
       "  <tbody>\n",
       "    <tr>\n",
       "      <th>0</th>\n",
       "      <td>Amit</td>\n",
       "      <td>95</td>\n",
       "      <td>1.0</td>\n",
       "    </tr>\n",
       "    <tr>\n",
       "      <th>2</th>\n",
       "      <td>Chetan</td>\n",
       "      <td>95</td>\n",
       "      <td>1.0</td>\n",
       "    </tr>\n",
       "    <tr>\n",
       "      <th>5</th>\n",
       "      <td>Farhan</td>\n",
       "      <td>92</td>\n",
       "      <td>2.0</td>\n",
       "    </tr>\n",
       "    <tr>\n",
       "      <th>1</th>\n",
       "      <td>Bina</td>\n",
       "      <td>87</td>\n",
       "      <td>3.0</td>\n",
       "    </tr>\n",
       "    <tr>\n",
       "      <th>4</th>\n",
       "      <td>Esha</td>\n",
       "      <td>87</td>\n",
       "      <td>3.0</td>\n",
       "    </tr>\n",
       "    <tr>\n",
       "      <th>3</th>\n",
       "      <td>Divya</td>\n",
       "      <td>76</td>\n",
       "      <td>4.0</td>\n",
       "    </tr>\n",
       "  </tbody>\n",
       "</table>\n",
       "</div>"
      ],
      "text/plain": [
       "     Name  Score  Rank\n",
       "0    Amit     95   1.0\n",
       "2  Chetan     95   1.0\n",
       "5  Farhan     92   2.0\n",
       "1    Bina     87   3.0\n",
       "4    Esha     87   3.0\n",
       "3   Divya     76   4.0"
      ]
     },
     "execution_count": 54,
     "metadata": {},
     "output_type": "execute_result"
    }
   ],
   "source": [
    "df[\"Rank\"] = df[\"Score\"].rank(method=\"dense\", ascending=False)\n",
    "df.sort_values(\"Rank\",ascending=True)"
   ]
  },
  {
   "cell_type": "code",
   "execution_count": 55,
   "id": "645d255e-ab21-498c-89ca-1543dad1ad92",
   "metadata": {},
   "outputs": [],
   "source": [
    "df[\"Rank\"] = df[\"Score\"].rank(ascending=False)\n"
   ]
  },
  {
   "cell_type": "code",
   "execution_count": 56,
   "id": "e195396d-be5e-40db-b28a-9bbcd1969dea",
   "metadata": {},
   "outputs": [
    {
     "data": {
      "text/html": [
       "<div>\n",
       "<style scoped>\n",
       "    .dataframe tbody tr th:only-of-type {\n",
       "        vertical-align: middle;\n",
       "    }\n",
       "\n",
       "    .dataframe tbody tr th {\n",
       "        vertical-align: top;\n",
       "    }\n",
       "\n",
       "    .dataframe thead th {\n",
       "        text-align: right;\n",
       "    }\n",
       "</style>\n",
       "<table border=\"1\" class=\"dataframe\">\n",
       "  <thead>\n",
       "    <tr style=\"text-align: right;\">\n",
       "      <th></th>\n",
       "      <th>Name</th>\n",
       "      <th>Score</th>\n",
       "      <th>Rank</th>\n",
       "    </tr>\n",
       "  </thead>\n",
       "  <tbody>\n",
       "    <tr>\n",
       "      <th>0</th>\n",
       "      <td>Amit</td>\n",
       "      <td>95</td>\n",
       "      <td>1.5</td>\n",
       "    </tr>\n",
       "    <tr>\n",
       "      <th>1</th>\n",
       "      <td>Bina</td>\n",
       "      <td>87</td>\n",
       "      <td>4.5</td>\n",
       "    </tr>\n",
       "    <tr>\n",
       "      <th>2</th>\n",
       "      <td>Chetan</td>\n",
       "      <td>95</td>\n",
       "      <td>1.5</td>\n",
       "    </tr>\n",
       "    <tr>\n",
       "      <th>3</th>\n",
       "      <td>Divya</td>\n",
       "      <td>76</td>\n",
       "      <td>6.0</td>\n",
       "    </tr>\n",
       "    <tr>\n",
       "      <th>4</th>\n",
       "      <td>Esha</td>\n",
       "      <td>87</td>\n",
       "      <td>4.5</td>\n",
       "    </tr>\n",
       "    <tr>\n",
       "      <th>5</th>\n",
       "      <td>Farhan</td>\n",
       "      <td>92</td>\n",
       "      <td>3.0</td>\n",
       "    </tr>\n",
       "  </tbody>\n",
       "</table>\n",
       "</div>"
      ],
      "text/plain": [
       "     Name  Score  Rank\n",
       "0    Amit     95   1.5\n",
       "1    Bina     87   4.5\n",
       "2  Chetan     95   1.5\n",
       "3   Divya     76   6.0\n",
       "4    Esha     87   4.5\n",
       "5  Farhan     92   3.0"
      ]
     },
     "execution_count": 56,
     "metadata": {},
     "output_type": "execute_result"
    }
   ],
   "source": [
    "df"
   ]
  },
  {
   "cell_type": "code",
   "execution_count": 57,
   "id": "2728a4db-d766-409d-a70c-e5e86fd5eb2a",
   "metadata": {},
   "outputs": [],
   "source": [
    "# Rank the student using method=\"first\"\n"
   ]
  },
  {
   "cell_type": "code",
   "execution_count": 60,
   "id": "e45d7639-b5e4-454f-ac4f-4f3c97ac9c68",
   "metadata": {},
   "outputs": [
    {
     "data": {
      "text/html": [
       "<div>\n",
       "<style scoped>\n",
       "    .dataframe tbody tr th:only-of-type {\n",
       "        vertical-align: middle;\n",
       "    }\n",
       "\n",
       "    .dataframe tbody tr th {\n",
       "        vertical-align: top;\n",
       "    }\n",
       "\n",
       "    .dataframe thead th {\n",
       "        text-align: right;\n",
       "    }\n",
       "</style>\n",
       "<table border=\"1\" class=\"dataframe\">\n",
       "  <thead>\n",
       "    <tr style=\"text-align: right;\">\n",
       "      <th></th>\n",
       "      <th>Name</th>\n",
       "      <th>Score</th>\n",
       "      <th>Rank</th>\n",
       "    </tr>\n",
       "  </thead>\n",
       "  <tbody>\n",
       "    <tr>\n",
       "      <th>0</th>\n",
       "      <td>Amit</td>\n",
       "      <td>95</td>\n",
       "      <td>1.0</td>\n",
       "    </tr>\n",
       "    <tr>\n",
       "      <th>1</th>\n",
       "      <td>Bina</td>\n",
       "      <td>87</td>\n",
       "      <td>4.0</td>\n",
       "    </tr>\n",
       "    <tr>\n",
       "      <th>2</th>\n",
       "      <td>Chetan</td>\n",
       "      <td>95</td>\n",
       "      <td>1.0</td>\n",
       "    </tr>\n",
       "    <tr>\n",
       "      <th>3</th>\n",
       "      <td>Divya</td>\n",
       "      <td>76</td>\n",
       "      <td>6.0</td>\n",
       "    </tr>\n",
       "    <tr>\n",
       "      <th>4</th>\n",
       "      <td>Esha</td>\n",
       "      <td>87</td>\n",
       "      <td>4.0</td>\n",
       "    </tr>\n",
       "    <tr>\n",
       "      <th>5</th>\n",
       "      <td>Farhan</td>\n",
       "      <td>92</td>\n",
       "      <td>3.0</td>\n",
       "    </tr>\n",
       "  </tbody>\n",
       "</table>\n",
       "</div>"
      ],
      "text/plain": [
       "     Name  Score  Rank\n",
       "0    Amit     95   1.0\n",
       "1    Bina     87   4.0\n",
       "2  Chetan     95   1.0\n",
       "3   Divya     76   6.0\n",
       "4    Esha     87   4.0\n",
       "5  Farhan     92   3.0"
      ]
     },
     "execution_count": 60,
     "metadata": {},
     "output_type": "execute_result"
    }
   ],
   "source": [
    "df[\"Rank\"] = df[\"Score\"].rank(method=\"min\", ascending=False)\n",
    "df\n"
   ]
  },
  {
   "cell_type": "code",
   "execution_count": 65,
   "id": "39ca37f3-cd4f-4359-859b-325dbd2117b2",
   "metadata": {},
   "outputs": [
    {
     "name": "stdout",
     "output_type": "stream",
     "text": [
      "     Name  Score  Rank\n",
      "0    Amit     95   2.0\n",
      "1    Bina     87   5.0\n",
      "2  Chetan     95   2.0\n",
      "3   Divya     76   6.0\n",
      "4    Esha     87   5.0\n",
      "5  Farhan     92   3.0\n"
     ]
    }
   ],
   "source": [
    "df[\"Rank\"] = df[\"Score\"].rank(method=\"max\", ascending=False)\n",
    "print(df)"
   ]
  },
  {
   "cell_type": "code",
   "execution_count": null,
   "id": "466a4c64-bc33-42f5-a5e9-f3a292727820",
   "metadata": {},
   "outputs": [],
   "source": []
  },
  {
   "cell_type": "code",
   "execution_count": null,
   "id": "44af4e15-8aa7-425f-9c44-63b0100794e1",
   "metadata": {},
   "outputs": [],
   "source": []
  }
 ],
 "metadata": {
  "kernelspec": {
   "display_name": "Python 3 (ipykernel)",
   "language": "python",
   "name": "python3"
  },
  "language_info": {
   "codemirror_mode": {
    "name": "ipython",
    "version": 3
   },
   "file_extension": ".py",
   "mimetype": "text/x-python",
   "name": "python",
   "nbconvert_exporter": "python",
   "pygments_lexer": "ipython3",
   "version": "3.13.6"
  }
 },
 "nbformat": 4,
 "nbformat_minor": 5
}
