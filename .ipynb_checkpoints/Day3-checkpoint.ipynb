{
 "cells": [
  {
   "cell_type": "code",
   "execution_count": 1,
   "id": "d333f9ce-50c0-47c5-9910-982a6ac75318",
   "metadata": {},
   "outputs": [],
   "source": [
    "# Day3: Pandas Basics\n"
   ]
  },
  {
   "cell_type": "code",
   "execution_count": 2,
   "id": "458a4f44-ace6-4524-be83-fb732361bb5d",
   "metadata": {},
   "outputs": [
    {
     "name": "stdout",
     "output_type": "stream",
     "text": [
      "      Name  Age      Role\n",
      "0    Alice   24   Analyst\n",
      "1      Bob   27  Engineer\n",
      "2  Charlie   22   Manager\n"
     ]
    }
   ],
   "source": [
    "import pandas as pd\n",
    "\n",
    "data = {\n",
    "    \"Name\": [\"Alice\", \"Bob\", \"Charlie\"],\n",
    "    \"Age\": [24, 27, 22],\n",
    "    \"Role\": [\"Analyst\", \"Engineer\", \"Manager\"]\n",
    "}\n",
    "\n",
    "df = pd.DataFrame(data)\n",
    "print(df)\n"
   ]
  },
  {
   "cell_type": "code",
   "execution_count": 5,
   "id": "4c64755a-dfbd-4312-a3f5-ebb92acdb225",
   "metadata": {},
   "outputs": [
    {
     "data": {
      "text/html": [
       "<div>\n",
       "<style scoped>\n",
       "    .dataframe tbody tr th:only-of-type {\n",
       "        vertical-align: middle;\n",
       "    }\n",
       "\n",
       "    .dataframe tbody tr th {\n",
       "        vertical-align: top;\n",
       "    }\n",
       "\n",
       "    .dataframe thead th {\n",
       "        text-align: right;\n",
       "    }\n",
       "</style>\n",
       "<table border=\"1\" class=\"dataframe\">\n",
       "  <thead>\n",
       "    <tr style=\"text-align: right;\">\n",
       "      <th></th>\n",
       "      <th>Name</th>\n",
       "      <th>Age</th>\n",
       "      <th>Role</th>\n",
       "    </tr>\n",
       "  </thead>\n",
       "  <tbody>\n",
       "    <tr>\n",
       "      <th>0</th>\n",
       "      <td>Alice</td>\n",
       "      <td>24</td>\n",
       "      <td>Analyst</td>\n",
       "    </tr>\n",
       "    <tr>\n",
       "      <th>1</th>\n",
       "      <td>Bob</td>\n",
       "      <td>27</td>\n",
       "      <td>Engineer</td>\n",
       "    </tr>\n",
       "    <tr>\n",
       "      <th>2</th>\n",
       "      <td>Charlie</td>\n",
       "      <td>22</td>\n",
       "      <td>Manager</td>\n",
       "    </tr>\n",
       "  </tbody>\n",
       "</table>\n",
       "</div>"
      ],
      "text/plain": [
       "      Name  Age      Role\n",
       "0    Alice   24   Analyst\n",
       "1      Bob   27  Engineer\n",
       "2  Charlie   22   Manager"
      ]
     },
     "execution_count": 5,
     "metadata": {},
     "output_type": "execute_result"
    }
   ],
   "source": [
    "df.head() # First Rows"
   ]
  },
  {
   "cell_type": "code",
   "execution_count": 6,
   "id": "6aea1398-d10e-43e4-ba24-db7e44ae3754",
   "metadata": {},
   "outputs": [
    {
     "name": "stdout",
     "output_type": "stream",
     "text": [
      "<class 'pandas.core.frame.DataFrame'>\n",
      "RangeIndex: 3 entries, 0 to 2\n",
      "Data columns (total 3 columns):\n",
      " #   Column  Non-Null Count  Dtype \n",
      "---  ------  --------------  ----- \n",
      " 0   Name    3 non-null      object\n",
      " 1   Age     3 non-null      int64 \n",
      " 2   Role    3 non-null      object\n",
      "dtypes: int64(1), object(2)\n",
      "memory usage: 204.0+ bytes\n"
     ]
    }
   ],
   "source": [
    "df.info()  # column info"
   ]
  },
  {
   "cell_type": "code",
   "execution_count": 9,
   "id": "9c5d8185-a1c2-463c-99a1-d75fd21b0398",
   "metadata": {},
   "outputs": [
    {
     "data": {
      "text/plain": [
       "0      Alice\n",
       "1        Bob\n",
       "2    Charlie\n",
       "Name: Name, dtype: object"
      ]
     },
     "execution_count": 9,
     "metadata": {},
     "output_type": "execute_result"
    }
   ],
   "source": [
    "df[\"Name\"] # Select one column"
   ]
  },
  {
   "cell_type": "code",
   "execution_count": 11,
   "id": "b1742bf1-5977-43dd-bfc9-ad195f37da1d",
   "metadata": {},
   "outputs": [
    {
     "data": {
      "text/plain": [
       "Name    Charlie\n",
       "Age          22\n",
       "Role    Manager\n",
       "Name: 2, dtype: object"
      ]
     },
     "execution_count": 11,
     "metadata": {},
     "output_type": "execute_result"
    }
   ],
   "source": [
    "df.loc[2] # Access by label"
   ]
  },
  {
   "cell_type": "code",
   "execution_count": 12,
   "id": "fca25cef-f639-4637-8d80-cb02b290e16a",
   "metadata": {},
   "outputs": [
    {
     "data": {
      "text/plain": [
       "Name    Charlie\n",
       "Age          22\n",
       "Role    Manager\n",
       "Name: 2, dtype: object"
      ]
     },
     "execution_count": 12,
     "metadata": {},
     "output_type": "execute_result"
    }
   ],
   "source": [
    "df.iloc[2]"
   ]
  },
  {
   "cell_type": "code",
   "execution_count": 13,
   "id": "9ac2157a-9103-4a9e-8201-efa0fb09daf4",
   "metadata": {},
   "outputs": [],
   "source": [
    "# Create a dataframe with 3 colums:\"Student\",\"maths\",\"Science\"\n",
    "# Add atleast four rows of data.\n"
   ]
  },
  {
   "cell_type": "code",
   "execution_count": 14,
   "id": "5448b8bc-5b3b-498a-b950-812c658257dd",
   "metadata": {},
   "outputs": [],
   "source": [
    "data={\n",
    "    \"Student\": [\"Greek\",\"Polo\",\"Zeus\",\"Assassian\"],\n",
    "    \"Maths\" : [\"90\",\"80\",\"70\",\"60\"],\n",
    "    \"Science\":[\"60\",\"70\",\"80\",\"90\"]\n",
    "}"
   ]
  },
  {
   "cell_type": "code",
   "execution_count": 16,
   "id": "2084b7c8-6203-45e2-976b-e496636d5625",
   "metadata": {},
   "outputs": [
    {
     "name": "stdout",
     "output_type": "stream",
     "text": [
      "{'Student': ['Greek', 'Polo', 'Zeus', 'Assassian'], 'Maths': ['90', '80', '70', '60'], 'Science': ['60', '70', '80', '90']}\n"
     ]
    }
   ],
   "source": [
    "print(data)"
   ]
  },
  {
   "cell_type": "code",
   "execution_count": 18,
   "id": "be7a452e-b0b7-4e97-9160-f0be9098570e",
   "metadata": {},
   "outputs": [
    {
     "name": "stdout",
     "output_type": "stream",
     "text": [
      "     Student Maths Science\n",
      "0      Greek    90      60\n",
      "1       Polo    80      70\n",
      "2       Zeus    70      80\n",
      "3  Assassian    60      90\n"
     ]
    }
   ],
   "source": [
    "df= pd.DataFrame(data)\n",
    "print(df)"
   ]
  },
  {
   "cell_type": "code",
   "execution_count": 24,
   "id": "aef04b6f-861c-42b2-92e3-c559cb80de41",
   "metadata": {},
   "outputs": [
    {
     "data": {
      "text/plain": [
       "0    90\n",
       "1    80\n",
       "2    70\n",
       "3    60\n",
       "Name: Maths, dtype: object"
      ]
     },
     "execution_count": 24,
     "metadata": {},
     "output_type": "execute_result"
    }
   ],
   "source": [
    "df[\"Maths\"]"
   ]
  },
  {
   "cell_type": "code",
   "execution_count": 25,
   "id": "b600de98-8586-4339-9c73-967253ef8ad3",
   "metadata": {},
   "outputs": [
    {
     "data": {
      "text/plain": [
       "Student    Zeus\n",
       "Maths        70\n",
       "Science      80\n",
       "Name: 2, dtype: object"
      ]
     },
     "execution_count": 25,
     "metadata": {},
     "output_type": "execute_result"
    }
   ],
   "source": [
    "df.loc[2]"
   ]
  },
  {
   "cell_type": "code",
   "execution_count": 26,
   "id": "ed207e5c-d877-4638-8225-42cd9be98a19",
   "metadata": {},
   "outputs": [
    {
     "data": {
      "text/plain": [
       "Student    Zeus\n",
       "Maths        70\n",
       "Science      80\n",
       "Name: 2, dtype: object"
      ]
     },
     "execution_count": 26,
     "metadata": {},
     "output_type": "execute_result"
    }
   ],
   "source": [
    "df.iloc[2]"
   ]
  },
  {
   "cell_type": "code",
   "execution_count": 30,
   "id": "0081e342-da9c-4abe-a046-3636ddce0184",
   "metadata": {},
   "outputs": [
    {
     "name": "stdout",
     "output_type": "stream",
     "text": [
      "object\n",
      "0    60\n",
      "1    70\n",
      "2    80\n",
      "3    90\n",
      "Name: Science, dtype: object\n"
     ]
    }
   ],
   "source": [
    "print(df[\"Science\"].dtype)\n",
    "print(df[\"Science\"].head())\n",
    "df[\"Science\"] = pd.to_numeric(df[\"Science\"], errors=\"coerce\")\n"
   ]
  },
  {
   "cell_type": "code",
   "execution_count": 31,
   "id": "8c1397d1-3e79-4f93-93a7-2c456a3ff033",
   "metadata": {},
   "outputs": [
    {
     "name": "stdout",
     "output_type": "stream",
     "text": [
      "75.0\n"
     ]
    }
   ],
   "source": [
    "avg = np.average(df[\"Science\"])\n",
    "print(avg)\n"
   ]
  },
  {
   "cell_type": "code",
   "execution_count": 32,
   "id": "9804c409-8ac0-48b3-bafc-a77e5321c054",
   "metadata": {},
   "outputs": [
    {
     "name": "stdout",
     "output_type": "stream",
     "text": [
      "0    60\n",
      "1    70\n",
      "2    80\n",
      "3    90\n",
      "Name: Science, dtype: int64\n"
     ]
    }
   ],
   "source": [
    "## When you work with real ML data, columns often look numeric but are actually text\n",
    "print(df[\"Science\"].head())"
   ]
  },
  {
   "cell_type": "code",
   "execution_count": 33,
   "id": "68f94281-1a48-49a9-8ad3-227d74403ef8",
   "metadata": {},
   "outputs": [
    {
     "name": "stdout",
     "output_type": "stream",
     "text": [
      "int64\n"
     ]
    }
   ],
   "source": [
    "print(df[\"Science\"].dtype)"
   ]
  },
  {
   "cell_type": "code",
   "execution_count": 34,
   "id": "edb27f0b-8d0f-422b-be01-cd94cdc998bf",
   "metadata": {},
   "outputs": [
    {
     "name": "stdout",
     "output_type": "stream",
     "text": [
      "[60 70 80 90]\n"
     ]
    }
   ],
   "source": [
    "print(df[\"Science\"].unique())"
   ]
  },
  {
   "cell_type": "code",
   "execution_count": 35,
   "id": "26b7a113-e4b6-4f4f-b213-c8df9e0ab561",
   "metadata": {},
   "outputs": [
    {
     "name": "stdout",
     "output_type": "stream",
     "text": [
      "Average = 75.0\n"
     ]
    }
   ],
   "source": [
    "def safe_average(series):\n",
    "    try:\n",
    "        numeric_series = pd.to_numeric(series, errors=\"coerce\")\n",
    "        if numeric_series.isna().any():\n",
    "            print(\"⚠️ Warning: Some values could not be converted and became NaN\")\n",
    "        return np.average(numeric_series.dropna())\n",
    "    except Exception as e:\n",
    "        print(\"Error while computing average:\", e)\n",
    "        return None\n",
    "\n",
    "avg = safe_average(df[\"Science\"])\n",
    "print(\"Average =\", avg)\n"
   ]
  },
  {
   "cell_type": "code",
   "execution_count": 36,
   "id": "e0236828-31c7-4615-8f77-9ded4f8ed389",
   "metadata": {},
   "outputs": [
    {
     "name": "stdout",
     "output_type": "stream",
     "text": [
      "   Science\n",
      "0       60\n",
      "1       70\n",
      "2        0\n",
      "3       90\n"
     ]
    }
   ],
   "source": [
    "import pandas as pd\n",
    "\n",
    "# Suppose your DataFrame looks like this:\n",
    "df = pd.DataFrame({\n",
    "    \"Science\": [\"60\", \"70\", \"absent\", \"90\"]\n",
    "})\n",
    "\n",
    "# Replace \"absent\" with 0 and convert everything to numeric\n",
    "df[\"Science\"] = df[\"Science\"].replace(\"absent\", 0).astype(int)\n",
    "\n",
    "print(df)\n"
   ]
  },
  {
   "cell_type": "code",
   "execution_count": 37,
   "id": "197ee10f-db1a-4d18-9716-c1464aa2bc1b",
   "metadata": {},
   "outputs": [
    {
     "name": "stdout",
     "output_type": "stream",
     "text": [
      "Average: 55.0\n"
     ]
    }
   ],
   "source": [
    "print(\"Average:\", df[\"Science\"].mean())\n"
   ]
  },
  {
   "cell_type": "code",
   "execution_count": 38,
   "id": "752c4918-fbd2-486c-95d9-3d64b7523436",
   "metadata": {},
   "outputs": [
    {
     "name": "stdout",
     "output_type": "stream",
     "text": [
      "   Science\n",
      "0       60\n",
      "1       70\n",
      "2        0\n",
      "3       90\n"
     ]
    }
   ],
   "source": [
    "import pandas as pd\n",
    "\n",
    "df = pd.DataFrame({\n",
    "    \"Science\": [60, 70, 0, 90]\n",
    "})\n",
    "print(df)\n"
   ]
  },
  {
   "cell_type": "markdown",
   "id": "6ef00e8a-627a-46ed-a501-58101be0e0c0",
   "metadata": {},
   "source": [
    "Task 1: Rename the column\n",
    "\n",
    "Rename \"Science\" → \"Science Marks\""
   ]
  },
  {
   "cell_type": "code",
   "execution_count": 41,
   "id": "7b962c7e-a886-4f12-8d05-4926d705e378",
   "metadata": {},
   "outputs": [],
   "source": [
    "df.columns=[\"Science Marks\"]"
   ]
  },
  {
   "cell_type": "code",
   "execution_count": 42,
   "id": "450eccee-d857-4006-af84-62b0ad866286",
   "metadata": {},
   "outputs": [
    {
     "data": {
      "text/html": [
       "<div>\n",
       "<style scoped>\n",
       "    .dataframe tbody tr th:only-of-type {\n",
       "        vertical-align: middle;\n",
       "    }\n",
       "\n",
       "    .dataframe tbody tr th {\n",
       "        vertical-align: top;\n",
       "    }\n",
       "\n",
       "    .dataframe thead th {\n",
       "        text-align: right;\n",
       "    }\n",
       "</style>\n",
       "<table border=\"1\" class=\"dataframe\">\n",
       "  <thead>\n",
       "    <tr style=\"text-align: right;\">\n",
       "      <th></th>\n",
       "      <th>Science Marks</th>\n",
       "    </tr>\n",
       "  </thead>\n",
       "  <tbody>\n",
       "    <tr>\n",
       "      <th>0</th>\n",
       "      <td>60</td>\n",
       "    </tr>\n",
       "    <tr>\n",
       "      <th>1</th>\n",
       "      <td>70</td>\n",
       "    </tr>\n",
       "    <tr>\n",
       "      <th>2</th>\n",
       "      <td>0</td>\n",
       "    </tr>\n",
       "    <tr>\n",
       "      <th>3</th>\n",
       "      <td>90</td>\n",
       "    </tr>\n",
       "  </tbody>\n",
       "</table>\n",
       "</div>"
      ],
      "text/plain": [
       "   Science Marks\n",
       "0             60\n",
       "1             70\n",
       "2              0\n",
       "3             90"
      ]
     },
     "execution_count": 42,
     "metadata": {},
     "output_type": "execute_result"
    }
   ],
   "source": [
    "df"
   ]
  },
  {
   "cell_type": "code",
   "execution_count": 43,
   "id": "467a444a-7566-454e-8172-7e289391cae4",
   "metadata": {},
   "outputs": [],
   "source": [
    "df[\"Maths\"]=[50, 65, 80, 75]"
   ]
  },
  {
   "cell_type": "code",
   "execution_count": 44,
   "id": "dff1dabf-328c-406b-8179-d7a5167a4aa2",
   "metadata": {},
   "outputs": [
    {
     "data": {
      "text/html": [
       "<div>\n",
       "<style scoped>\n",
       "    .dataframe tbody tr th:only-of-type {\n",
       "        vertical-align: middle;\n",
       "    }\n",
       "\n",
       "    .dataframe tbody tr th {\n",
       "        vertical-align: top;\n",
       "    }\n",
       "\n",
       "    .dataframe thead th {\n",
       "        text-align: right;\n",
       "    }\n",
       "</style>\n",
       "<table border=\"1\" class=\"dataframe\">\n",
       "  <thead>\n",
       "    <tr style=\"text-align: right;\">\n",
       "      <th></th>\n",
       "      <th>Science Marks</th>\n",
       "      <th>Maths</th>\n",
       "    </tr>\n",
       "  </thead>\n",
       "  <tbody>\n",
       "    <tr>\n",
       "      <th>0</th>\n",
       "      <td>60</td>\n",
       "      <td>50</td>\n",
       "    </tr>\n",
       "    <tr>\n",
       "      <th>1</th>\n",
       "      <td>70</td>\n",
       "      <td>65</td>\n",
       "    </tr>\n",
       "    <tr>\n",
       "      <th>2</th>\n",
       "      <td>0</td>\n",
       "      <td>80</td>\n",
       "    </tr>\n",
       "    <tr>\n",
       "      <th>3</th>\n",
       "      <td>90</td>\n",
       "      <td>75</td>\n",
       "    </tr>\n",
       "  </tbody>\n",
       "</table>\n",
       "</div>"
      ],
      "text/plain": [
       "   Science Marks  Maths\n",
       "0             60     50\n",
       "1             70     65\n",
       "2              0     80\n",
       "3             90     75"
      ]
     },
     "execution_count": 44,
     "metadata": {},
     "output_type": "execute_result"
    }
   ],
   "source": [
    "df"
   ]
  },
  {
   "cell_type": "code",
   "execution_count": 45,
   "id": "f3a231d4-9ee3-4ba0-9119-fadadc94d687",
   "metadata": {},
   "outputs": [],
   "source": [
    "filterdf=df[df['Maths']>70]"
   ]
  },
  {
   "cell_type": "code",
   "execution_count": 46,
   "id": "4387c887-bfa9-414c-afa6-a5cf843ffe83",
   "metadata": {},
   "outputs": [
    {
     "data": {
      "text/html": [
       "<div>\n",
       "<style scoped>\n",
       "    .dataframe tbody tr th:only-of-type {\n",
       "        vertical-align: middle;\n",
       "    }\n",
       "\n",
       "    .dataframe tbody tr th {\n",
       "        vertical-align: top;\n",
       "    }\n",
       "\n",
       "    .dataframe thead th {\n",
       "        text-align: right;\n",
       "    }\n",
       "</style>\n",
       "<table border=\"1\" class=\"dataframe\">\n",
       "  <thead>\n",
       "    <tr style=\"text-align: right;\">\n",
       "      <th></th>\n",
       "      <th>Science Marks</th>\n",
       "      <th>Maths</th>\n",
       "    </tr>\n",
       "  </thead>\n",
       "  <tbody>\n",
       "    <tr>\n",
       "      <th>2</th>\n",
       "      <td>0</td>\n",
       "      <td>80</td>\n",
       "    </tr>\n",
       "    <tr>\n",
       "      <th>3</th>\n",
       "      <td>90</td>\n",
       "      <td>75</td>\n",
       "    </tr>\n",
       "  </tbody>\n",
       "</table>\n",
       "</div>"
      ],
      "text/plain": [
       "   Science Marks  Maths\n",
       "2              0     80\n",
       "3             90     75"
      ]
     },
     "execution_count": 46,
     "metadata": {},
     "output_type": "execute_result"
    }
   ],
   "source": [
    "filterdf"
   ]
  },
  {
   "cell_type": "code",
   "execution_count": 47,
   "id": "90bd44a0-e6db-4ab1-8149-4e7e7dbf8b3f",
   "metadata": {},
   "outputs": [
    {
     "data": {
      "text/html": [
       "<div>\n",
       "<style scoped>\n",
       "    .dataframe tbody tr th:only-of-type {\n",
       "        vertical-align: middle;\n",
       "    }\n",
       "\n",
       "    .dataframe tbody tr th {\n",
       "        vertical-align: top;\n",
       "    }\n",
       "\n",
       "    .dataframe thead th {\n",
       "        text-align: right;\n",
       "    }\n",
       "</style>\n",
       "<table border=\"1\" class=\"dataframe\">\n",
       "  <thead>\n",
       "    <tr style=\"text-align: right;\">\n",
       "      <th></th>\n",
       "      <th>Science Marks</th>\n",
       "      <th>Maths</th>\n",
       "    </tr>\n",
       "  </thead>\n",
       "  <tbody>\n",
       "    <tr>\n",
       "      <th>0</th>\n",
       "      <td>60</td>\n",
       "      <td>50</td>\n",
       "    </tr>\n",
       "    <tr>\n",
       "      <th>1</th>\n",
       "      <td>70</td>\n",
       "      <td>65</td>\n",
       "    </tr>\n",
       "    <tr>\n",
       "      <th>2</th>\n",
       "      <td>0</td>\n",
       "      <td>80</td>\n",
       "    </tr>\n",
       "    <tr>\n",
       "      <th>3</th>\n",
       "      <td>90</td>\n",
       "      <td>75</td>\n",
       "    </tr>\n",
       "  </tbody>\n",
       "</table>\n",
       "</div>"
      ],
      "text/plain": [
       "   Science Marks  Maths\n",
       "0             60     50\n",
       "1             70     65\n",
       "2              0     80\n",
       "3             90     75"
      ]
     },
     "execution_count": 47,
     "metadata": {},
     "output_type": "execute_result"
    }
   ],
   "source": [
    "df"
   ]
  },
  {
   "cell_type": "code",
   "execution_count": 48,
   "id": "a7323856-2aec-44a8-9d7c-3e9a08964f69",
   "metadata": {},
   "outputs": [],
   "source": [
    "dftemp=df"
   ]
  },
  {
   "cell_type": "code",
   "execution_count": 49,
   "id": "91cae13e-6b8e-49ce-9bb2-cc07d9363a8e",
   "metadata": {},
   "outputs": [
    {
     "data": {
      "text/html": [
       "<div>\n",
       "<style scoped>\n",
       "    .dataframe tbody tr th:only-of-type {\n",
       "        vertical-align: middle;\n",
       "    }\n",
       "\n",
       "    .dataframe tbody tr th {\n",
       "        vertical-align: top;\n",
       "    }\n",
       "\n",
       "    .dataframe thead th {\n",
       "        text-align: right;\n",
       "    }\n",
       "</style>\n",
       "<table border=\"1\" class=\"dataframe\">\n",
       "  <thead>\n",
       "    <tr style=\"text-align: right;\">\n",
       "      <th></th>\n",
       "      <th>Science Marks</th>\n",
       "      <th>Maths</th>\n",
       "    </tr>\n",
       "  </thead>\n",
       "  <tbody>\n",
       "    <tr>\n",
       "      <th>0</th>\n",
       "      <td>60</td>\n",
       "      <td>50</td>\n",
       "    </tr>\n",
       "    <tr>\n",
       "      <th>1</th>\n",
       "      <td>70</td>\n",
       "      <td>65</td>\n",
       "    </tr>\n",
       "    <tr>\n",
       "      <th>2</th>\n",
       "      <td>0</td>\n",
       "      <td>80</td>\n",
       "    </tr>\n",
       "    <tr>\n",
       "      <th>3</th>\n",
       "      <td>90</td>\n",
       "      <td>75</td>\n",
       "    </tr>\n",
       "  </tbody>\n",
       "</table>\n",
       "</div>"
      ],
      "text/plain": [
       "   Science Marks  Maths\n",
       "0             60     50\n",
       "1             70     65\n",
       "2              0     80\n",
       "3             90     75"
      ]
     },
     "execution_count": 49,
     "metadata": {},
     "output_type": "execute_result"
    }
   ],
   "source": [
    "dftemp"
   ]
  },
  {
   "cell_type": "code",
   "execution_count": 52,
   "id": "de87318d-2a8d-4fba-8fa4-40628b1953bc",
   "metadata": {},
   "outputs": [],
   "source": [
    "dftemp[\"Science Marks\"]= df[\"Science Marks\"].replace(0,np.nan)"
   ]
  },
  {
   "cell_type": "code",
   "execution_count": 53,
   "id": "2ac5e3df-5ed0-422e-8384-1bdae136b69f",
   "metadata": {},
   "outputs": [
    {
     "data": {
      "text/html": [
       "<div>\n",
       "<style scoped>\n",
       "    .dataframe tbody tr th:only-of-type {\n",
       "        vertical-align: middle;\n",
       "    }\n",
       "\n",
       "    .dataframe tbody tr th {\n",
       "        vertical-align: top;\n",
       "    }\n",
       "\n",
       "    .dataframe thead th {\n",
       "        text-align: right;\n",
       "    }\n",
       "</style>\n",
       "<table border=\"1\" class=\"dataframe\">\n",
       "  <thead>\n",
       "    <tr style=\"text-align: right;\">\n",
       "      <th></th>\n",
       "      <th>Science Marks</th>\n",
       "      <th>Maths</th>\n",
       "    </tr>\n",
       "  </thead>\n",
       "  <tbody>\n",
       "    <tr>\n",
       "      <th>0</th>\n",
       "      <td>60.0</td>\n",
       "      <td>50</td>\n",
       "    </tr>\n",
       "    <tr>\n",
       "      <th>1</th>\n",
       "      <td>70.0</td>\n",
       "      <td>65</td>\n",
       "    </tr>\n",
       "    <tr>\n",
       "      <th>2</th>\n",
       "      <td>NaN</td>\n",
       "      <td>80</td>\n",
       "    </tr>\n",
       "    <tr>\n",
       "      <th>3</th>\n",
       "      <td>90.0</td>\n",
       "      <td>75</td>\n",
       "    </tr>\n",
       "  </tbody>\n",
       "</table>\n",
       "</div>"
      ],
      "text/plain": [
       "   Science Marks  Maths\n",
       "0           60.0     50\n",
       "1           70.0     65\n",
       "2            NaN     80\n",
       "3           90.0     75"
      ]
     },
     "execution_count": 53,
     "metadata": {},
     "output_type": "execute_result"
    }
   ],
   "source": [
    "dftemp"
   ]
  },
  {
   "cell_type": "code",
   "execution_count": 54,
   "id": "b2c27989-dbb0-4cbb-af23-634ab98c4275",
   "metadata": {},
   "outputs": [
    {
     "data": {
      "text/html": [
       "<div>\n",
       "<style scoped>\n",
       "    .dataframe tbody tr th:only-of-type {\n",
       "        vertical-align: middle;\n",
       "    }\n",
       "\n",
       "    .dataframe tbody tr th {\n",
       "        vertical-align: top;\n",
       "    }\n",
       "\n",
       "    .dataframe thead th {\n",
       "        text-align: right;\n",
       "    }\n",
       "</style>\n",
       "<table border=\"1\" class=\"dataframe\">\n",
       "  <thead>\n",
       "    <tr style=\"text-align: right;\">\n",
       "      <th></th>\n",
       "      <th>Science Marks</th>\n",
       "      <th>Maths</th>\n",
       "    </tr>\n",
       "  </thead>\n",
       "  <tbody>\n",
       "    <tr>\n",
       "      <th>0</th>\n",
       "      <td>60.0</td>\n",
       "      <td>50</td>\n",
       "    </tr>\n",
       "    <tr>\n",
       "      <th>1</th>\n",
       "      <td>70.0</td>\n",
       "      <td>65</td>\n",
       "    </tr>\n",
       "    <tr>\n",
       "      <th>2</th>\n",
       "      <td>NaN</td>\n",
       "      <td>80</td>\n",
       "    </tr>\n",
       "    <tr>\n",
       "      <th>3</th>\n",
       "      <td>90.0</td>\n",
       "      <td>75</td>\n",
       "    </tr>\n",
       "  </tbody>\n",
       "</table>\n",
       "</div>"
      ],
      "text/plain": [
       "   Science Marks  Maths\n",
       "0           60.0     50\n",
       "1           70.0     65\n",
       "2            NaN     80\n",
       "3           90.0     75"
      ]
     },
     "execution_count": 54,
     "metadata": {},
     "output_type": "execute_result"
    }
   ],
   "source": [
    "df"
   ]
  },
  {
   "cell_type": "code",
   "execution_count": 58,
   "id": "1c6cd20f-fa8d-4a76-b192-e774273a8bae",
   "metadata": {},
   "outputs": [],
   "source": [
    "average_ScienceMarks = df[\"Science Marks\"].mean()"
   ]
  },
  {
   "cell_type": "code",
   "execution_count": 59,
   "id": "1afb36cd-fdc4-4d17-9aad-a0f66ea963d0",
   "metadata": {},
   "outputs": [
    {
     "name": "stdout",
     "output_type": "stream",
     "text": [
      "73.33333333333333\n"
     ]
    }
   ],
   "source": [
    "print (average_ScienceMarks)"
   ]
  },
  {
   "cell_type": "code",
   "execution_count": 60,
   "id": "f5c8655c-8fc1-424c-b020-514b04fa2ff0",
   "metadata": {},
   "outputs": [],
   "source": [
    "import pandas as pd\n",
    "import numpy as np\n",
    "\n",
    "df = pd.DataFrame({\n",
    "    \"Science Marks\": [60, 70, np.nan, 90, 50, np.nan],\n",
    "    \"Maths\": [50, 65, 80, 75, 85, 40]\n",
    "})\n"
   ]
  },
  {
   "cell_type": "code",
   "execution_count": 61,
   "id": "a38e266a-8ae8-4974-a2fb-72115b3b35f3",
   "metadata": {},
   "outputs": [
    {
     "data": {
      "text/html": [
       "<div>\n",
       "<style scoped>\n",
       "    .dataframe tbody tr th:only-of-type {\n",
       "        vertical-align: middle;\n",
       "    }\n",
       "\n",
       "    .dataframe tbody tr th {\n",
       "        vertical-align: top;\n",
       "    }\n",
       "\n",
       "    .dataframe thead th {\n",
       "        text-align: right;\n",
       "    }\n",
       "</style>\n",
       "<table border=\"1\" class=\"dataframe\">\n",
       "  <thead>\n",
       "    <tr style=\"text-align: right;\">\n",
       "      <th></th>\n",
       "      <th>Science Marks</th>\n",
       "      <th>Maths</th>\n",
       "    </tr>\n",
       "  </thead>\n",
       "  <tbody>\n",
       "    <tr>\n",
       "      <th>0</th>\n",
       "      <td>60.0</td>\n",
       "      <td>50</td>\n",
       "    </tr>\n",
       "    <tr>\n",
       "      <th>1</th>\n",
       "      <td>70.0</td>\n",
       "      <td>65</td>\n",
       "    </tr>\n",
       "    <tr>\n",
       "      <th>2</th>\n",
       "      <td>NaN</td>\n",
       "      <td>80</td>\n",
       "    </tr>\n",
       "    <tr>\n",
       "      <th>3</th>\n",
       "      <td>90.0</td>\n",
       "      <td>75</td>\n",
       "    </tr>\n",
       "    <tr>\n",
       "      <th>4</th>\n",
       "      <td>50.0</td>\n",
       "      <td>85</td>\n",
       "    </tr>\n",
       "    <tr>\n",
       "      <th>5</th>\n",
       "      <td>NaN</td>\n",
       "      <td>40</td>\n",
       "    </tr>\n",
       "  </tbody>\n",
       "</table>\n",
       "</div>"
      ],
      "text/plain": [
       "   Science Marks  Maths\n",
       "0           60.0     50\n",
       "1           70.0     65\n",
       "2            NaN     80\n",
       "3           90.0     75\n",
       "4           50.0     85\n",
       "5            NaN     40"
      ]
     },
     "execution_count": 61,
     "metadata": {},
     "output_type": "execute_result"
    }
   ],
   "source": [
    "df"
   ]
  },
  {
   "cell_type": "code",
   "execution_count": 62,
   "id": "2095191f-2267-451e-89cd-7cdf078011b8",
   "metadata": {},
   "outputs": [],
   "source": [
    "asm=df[\"Science Marks\"].mean()"
   ]
  },
  {
   "cell_type": "code",
   "execution_count": 63,
   "id": "f0e125ee-4f41-45bf-9458-7a1330749244",
   "metadata": {},
   "outputs": [
    {
     "data": {
      "text/plain": [
       "np.float64(67.5)"
      ]
     },
     "execution_count": 63,
     "metadata": {},
     "output_type": "execute_result"
    }
   ],
   "source": [
    "asm"
   ]
  },
  {
   "cell_type": "code",
   "execution_count": 64,
   "id": "ed17c1bf-3089-4e7b-bae6-6a50a21633dd",
   "metadata": {},
   "outputs": [],
   "source": [
    "df[\"Science Marks\"]=df[\"Science Marks\"].replace(np.nan,asm)"
   ]
  },
  {
   "cell_type": "code",
   "execution_count": 65,
   "id": "5f676dc9-8ea3-4024-9344-2597c08d7e05",
   "metadata": {},
   "outputs": [
    {
     "data": {
      "text/html": [
       "<div>\n",
       "<style scoped>\n",
       "    .dataframe tbody tr th:only-of-type {\n",
       "        vertical-align: middle;\n",
       "    }\n",
       "\n",
       "    .dataframe tbody tr th {\n",
       "        vertical-align: top;\n",
       "    }\n",
       "\n",
       "    .dataframe thead th {\n",
       "        text-align: right;\n",
       "    }\n",
       "</style>\n",
       "<table border=\"1\" class=\"dataframe\">\n",
       "  <thead>\n",
       "    <tr style=\"text-align: right;\">\n",
       "      <th></th>\n",
       "      <th>Science Marks</th>\n",
       "      <th>Maths</th>\n",
       "    </tr>\n",
       "  </thead>\n",
       "  <tbody>\n",
       "    <tr>\n",
       "      <th>0</th>\n",
       "      <td>60.0</td>\n",
       "      <td>50</td>\n",
       "    </tr>\n",
       "    <tr>\n",
       "      <th>1</th>\n",
       "      <td>70.0</td>\n",
       "      <td>65</td>\n",
       "    </tr>\n",
       "    <tr>\n",
       "      <th>2</th>\n",
       "      <td>67.5</td>\n",
       "      <td>80</td>\n",
       "    </tr>\n",
       "    <tr>\n",
       "      <th>3</th>\n",
       "      <td>90.0</td>\n",
       "      <td>75</td>\n",
       "    </tr>\n",
       "    <tr>\n",
       "      <th>4</th>\n",
       "      <td>50.0</td>\n",
       "      <td>85</td>\n",
       "    </tr>\n",
       "    <tr>\n",
       "      <th>5</th>\n",
       "      <td>67.5</td>\n",
       "      <td>40</td>\n",
       "    </tr>\n",
       "  </tbody>\n",
       "</table>\n",
       "</div>"
      ],
      "text/plain": [
       "   Science Marks  Maths\n",
       "0           60.0     50\n",
       "1           70.0     65\n",
       "2           67.5     80\n",
       "3           90.0     75\n",
       "4           50.0     85\n",
       "5           67.5     40"
      ]
     },
     "execution_count": 65,
     "metadata": {},
     "output_type": "execute_result"
    }
   ],
   "source": [
    "df"
   ]
  },
  {
   "cell_type": "code",
   "execution_count": 66,
   "id": "af0b01d5-a6bc-425e-b05f-3a3ee43ef2a0",
   "metadata": {},
   "outputs": [],
   "source": [
    "high_scorers=df.copy()"
   ]
  },
  {
   "cell_type": "code",
   "execution_count": 71,
   "id": "aaaafeaa-64c9-4468-aab3-e946d28b00d2",
   "metadata": {},
   "outputs": [],
   "source": [
    "high_scorers=high_scorers[(high_scorers[\"Science Marks\"]>65) & (high_scorers[\"Maths\"]>70) ]"
   ]
  },
  {
   "cell_type": "code",
   "execution_count": 72,
   "id": "23fe4e0e-41d9-419e-8d5d-0f6ae43f6b07",
   "metadata": {},
   "outputs": [
    {
     "data": {
      "text/html": [
       "<div>\n",
       "<style scoped>\n",
       "    .dataframe tbody tr th:only-of-type {\n",
       "        vertical-align: middle;\n",
       "    }\n",
       "\n",
       "    .dataframe tbody tr th {\n",
       "        vertical-align: top;\n",
       "    }\n",
       "\n",
       "    .dataframe thead th {\n",
       "        text-align: right;\n",
       "    }\n",
       "</style>\n",
       "<table border=\"1\" class=\"dataframe\">\n",
       "  <thead>\n",
       "    <tr style=\"text-align: right;\">\n",
       "      <th></th>\n",
       "      <th>Science Marks</th>\n",
       "      <th>Maths</th>\n",
       "    </tr>\n",
       "  </thead>\n",
       "  <tbody>\n",
       "    <tr>\n",
       "      <th>2</th>\n",
       "      <td>67.5</td>\n",
       "      <td>80</td>\n",
       "    </tr>\n",
       "    <tr>\n",
       "      <th>3</th>\n",
       "      <td>90.0</td>\n",
       "      <td>75</td>\n",
       "    </tr>\n",
       "  </tbody>\n",
       "</table>\n",
       "</div>"
      ],
      "text/plain": [
       "   Science Marks  Maths\n",
       "2           67.5     80\n",
       "3           90.0     75"
      ]
     },
     "execution_count": 72,
     "metadata": {},
     "output_type": "execute_result"
    }
   ],
   "source": [
    "high_scorers"
   ]
  },
  {
   "cell_type": "code",
   "execution_count": 73,
   "id": "09535cd0-31af-4c34-abd7-5f5daf672adc",
   "metadata": {},
   "outputs": [],
   "source": [
    "df[\"Average\"]=(df[\"Science Marks\"] + df[\"Maths\"])/2"
   ]
  },
  {
   "cell_type": "code",
   "execution_count": 74,
   "id": "8be58cbc-d075-4586-9983-58c8f3a0c72c",
   "metadata": {},
   "outputs": [
    {
     "data": {
      "text/html": [
       "<div>\n",
       "<style scoped>\n",
       "    .dataframe tbody tr th:only-of-type {\n",
       "        vertical-align: middle;\n",
       "    }\n",
       "\n",
       "    .dataframe tbody tr th {\n",
       "        vertical-align: top;\n",
       "    }\n",
       "\n",
       "    .dataframe thead th {\n",
       "        text-align: right;\n",
       "    }\n",
       "</style>\n",
       "<table border=\"1\" class=\"dataframe\">\n",
       "  <thead>\n",
       "    <tr style=\"text-align: right;\">\n",
       "      <th></th>\n",
       "      <th>Science Marks</th>\n",
       "      <th>Maths</th>\n",
       "      <th>Average</th>\n",
       "    </tr>\n",
       "  </thead>\n",
       "  <tbody>\n",
       "    <tr>\n",
       "      <th>0</th>\n",
       "      <td>60.0</td>\n",
       "      <td>50</td>\n",
       "      <td>55.00</td>\n",
       "    </tr>\n",
       "    <tr>\n",
       "      <th>1</th>\n",
       "      <td>70.0</td>\n",
       "      <td>65</td>\n",
       "      <td>67.50</td>\n",
       "    </tr>\n",
       "    <tr>\n",
       "      <th>2</th>\n",
       "      <td>67.5</td>\n",
       "      <td>80</td>\n",
       "      <td>73.75</td>\n",
       "    </tr>\n",
       "    <tr>\n",
       "      <th>3</th>\n",
       "      <td>90.0</td>\n",
       "      <td>75</td>\n",
       "      <td>82.50</td>\n",
       "    </tr>\n",
       "    <tr>\n",
       "      <th>4</th>\n",
       "      <td>50.0</td>\n",
       "      <td>85</td>\n",
       "      <td>67.50</td>\n",
       "    </tr>\n",
       "    <tr>\n",
       "      <th>5</th>\n",
       "      <td>67.5</td>\n",
       "      <td>40</td>\n",
       "      <td>53.75</td>\n",
       "    </tr>\n",
       "  </tbody>\n",
       "</table>\n",
       "</div>"
      ],
      "text/plain": [
       "   Science Marks  Maths  Average\n",
       "0           60.0     50    55.00\n",
       "1           70.0     65    67.50\n",
       "2           67.5     80    73.75\n",
       "3           90.0     75    82.50\n",
       "4           50.0     85    67.50\n",
       "5           67.5     40    53.75"
      ]
     },
     "execution_count": 74,
     "metadata": {},
     "output_type": "execute_result"
    }
   ],
   "source": [
    "df"
   ]
  },
  {
   "cell_type": "code",
   "execution_count": 78,
   "id": "3ab077f5-4885-4647-a645-a7a97228c059",
   "metadata": {},
   "outputs": [],
   "source": [
    "def assign_grade(avg):\n",
    "    if avg>85:\n",
    "        return \"A\"\n",
    "    elif avg>70:\n",
    "        return \"B\"\n",
    "    elif avg>50:\n",
    "        return \"C\"\n",
    "    else:\n",
    "        return \"D\"\n"
   ]
  },
  {
   "cell_type": "code",
   "execution_count": 81,
   "id": "30fb7a89-94a7-4b10-9eff-ff87bf3a7319",
   "metadata": {},
   "outputs": [],
   "source": [
    "df[\"Grade\"]=df[\"Average\"].apply(assign_grade)"
   ]
  },
  {
   "cell_type": "code",
   "execution_count": 82,
   "id": "c97b6cc3-aef0-42f7-afe7-abd4f7c4a4f6",
   "metadata": {},
   "outputs": [
    {
     "data": {
      "text/html": [
       "<div>\n",
       "<style scoped>\n",
       "    .dataframe tbody tr th:only-of-type {\n",
       "        vertical-align: middle;\n",
       "    }\n",
       "\n",
       "    .dataframe tbody tr th {\n",
       "        vertical-align: top;\n",
       "    }\n",
       "\n",
       "    .dataframe thead th {\n",
       "        text-align: right;\n",
       "    }\n",
       "</style>\n",
       "<table border=\"1\" class=\"dataframe\">\n",
       "  <thead>\n",
       "    <tr style=\"text-align: right;\">\n",
       "      <th></th>\n",
       "      <th>Science Marks</th>\n",
       "      <th>Maths</th>\n",
       "      <th>Average</th>\n",
       "      <th>Grade</th>\n",
       "    </tr>\n",
       "  </thead>\n",
       "  <tbody>\n",
       "    <tr>\n",
       "      <th>0</th>\n",
       "      <td>60.0</td>\n",
       "      <td>50</td>\n",
       "      <td>55.00</td>\n",
       "      <td>C</td>\n",
       "    </tr>\n",
       "    <tr>\n",
       "      <th>1</th>\n",
       "      <td>70.0</td>\n",
       "      <td>65</td>\n",
       "      <td>67.50</td>\n",
       "      <td>C</td>\n",
       "    </tr>\n",
       "    <tr>\n",
       "      <th>2</th>\n",
       "      <td>67.5</td>\n",
       "      <td>80</td>\n",
       "      <td>73.75</td>\n",
       "      <td>B</td>\n",
       "    </tr>\n",
       "    <tr>\n",
       "      <th>3</th>\n",
       "      <td>90.0</td>\n",
       "      <td>75</td>\n",
       "      <td>82.50</td>\n",
       "      <td>B</td>\n",
       "    </tr>\n",
       "    <tr>\n",
       "      <th>4</th>\n",
       "      <td>50.0</td>\n",
       "      <td>85</td>\n",
       "      <td>67.50</td>\n",
       "      <td>C</td>\n",
       "    </tr>\n",
       "    <tr>\n",
       "      <th>5</th>\n",
       "      <td>67.5</td>\n",
       "      <td>40</td>\n",
       "      <td>53.75</td>\n",
       "      <td>C</td>\n",
       "    </tr>\n",
       "  </tbody>\n",
       "</table>\n",
       "</div>"
      ],
      "text/plain": [
       "   Science Marks  Maths  Average Grade\n",
       "0           60.0     50    55.00     C\n",
       "1           70.0     65    67.50     C\n",
       "2           67.5     80    73.75     B\n",
       "3           90.0     75    82.50     B\n",
       "4           50.0     85    67.50     C\n",
       "5           67.5     40    53.75     C"
      ]
     },
     "execution_count": 82,
     "metadata": {},
     "output_type": "execute_result"
    }
   ],
   "source": [
    "df"
   ]
  },
  {
   "cell_type": "code",
   "execution_count": 83,
   "id": "3218641b-b8a8-422b-b597-9e1c05289cb2",
   "metadata": {},
   "outputs": [],
   "source": [
    "top_students= df[df[\"Grade\"].isin([\"A\",\"B\"])]"
   ]
  },
  {
   "cell_type": "code",
   "execution_count": 84,
   "id": "0aaef89e-e21e-43fc-afc5-ddd42744d799",
   "metadata": {},
   "outputs": [
    {
     "data": {
      "text/html": [
       "<div>\n",
       "<style scoped>\n",
       "    .dataframe tbody tr th:only-of-type {\n",
       "        vertical-align: middle;\n",
       "    }\n",
       "\n",
       "    .dataframe tbody tr th {\n",
       "        vertical-align: top;\n",
       "    }\n",
       "\n",
       "    .dataframe thead th {\n",
       "        text-align: right;\n",
       "    }\n",
       "</style>\n",
       "<table border=\"1\" class=\"dataframe\">\n",
       "  <thead>\n",
       "    <tr style=\"text-align: right;\">\n",
       "      <th></th>\n",
       "      <th>Science Marks</th>\n",
       "      <th>Maths</th>\n",
       "      <th>Average</th>\n",
       "      <th>Grade</th>\n",
       "    </tr>\n",
       "  </thead>\n",
       "  <tbody>\n",
       "    <tr>\n",
       "      <th>2</th>\n",
       "      <td>67.5</td>\n",
       "      <td>80</td>\n",
       "      <td>73.75</td>\n",
       "      <td>B</td>\n",
       "    </tr>\n",
       "    <tr>\n",
       "      <th>3</th>\n",
       "      <td>90.0</td>\n",
       "      <td>75</td>\n",
       "      <td>82.50</td>\n",
       "      <td>B</td>\n",
       "    </tr>\n",
       "  </tbody>\n",
       "</table>\n",
       "</div>"
      ],
      "text/plain": [
       "   Science Marks  Maths  Average Grade\n",
       "2           67.5     80    73.75     B\n",
       "3           90.0     75    82.50     B"
      ]
     },
     "execution_count": 84,
     "metadata": {},
     "output_type": "execute_result"
    }
   ],
   "source": [
    "top_students"
   ]
  },
  {
   "cell_type": "code",
   "execution_count": 85,
   "id": "85992842-eb8f-49a4-a440-e0cc12a6714e",
   "metadata": {},
   "outputs": [
    {
     "name": "stdout",
     "output_type": "stream",
     "text": [
      "       Science Marks  Maths  Student Count\n",
      "Grade                                     \n",
      "B             78.750   77.5              2\n",
      "C             61.875   60.0              4\n"
     ]
    }
   ],
   "source": [
    "# Group by Grade\n",
    "grade_stats = df.groupby(\"Grade\").agg({\n",
    "    \"Science Marks\": \"mean\",   # average science marks\n",
    "    \"Maths\": \"mean\",           # average maths marks\n",
    "    \"Grade\": \"count\"           # count of students\n",
    "})\n",
    "\n",
    "# Rename the 'Grade' count column\n",
    "grade_stats = grade_stats.rename(columns={\"Grade\": \"Student Count\"})\n",
    "\n",
    "print(grade_stats)\n"
   ]
  },
  {
   "cell_type": "code",
   "execution_count": 100,
   "id": "26120ab8-34bb-4b82-9f82-10b3e89eefa5",
   "metadata": {},
   "outputs": [],
   "source": [
    "grade_stats=grade_stats.sort_values(by='Science Marks',ascending=False).reset_index()"
   ]
  },
  {
   "cell_type": "code",
   "execution_count": 101,
   "id": "8be07f40-f97e-4e04-bdf9-e157569afa3f",
   "metadata": {},
   "outputs": [
    {
     "data": {
      "text/html": [
       "<div>\n",
       "<style scoped>\n",
       "    .dataframe tbody tr th:only-of-type {\n",
       "        vertical-align: middle;\n",
       "    }\n",
       "\n",
       "    .dataframe tbody tr th {\n",
       "        vertical-align: top;\n",
       "    }\n",
       "\n",
       "    .dataframe thead th {\n",
       "        text-align: right;\n",
       "    }\n",
       "</style>\n",
       "<table border=\"1\" class=\"dataframe\">\n",
       "  <thead>\n",
       "    <tr style=\"text-align: right;\">\n",
       "      <th></th>\n",
       "      <th>Grade</th>\n",
       "      <th>Science Marks</th>\n",
       "      <th>Maths</th>\n",
       "      <th>Student Count</th>\n",
       "    </tr>\n",
       "  </thead>\n",
       "  <tbody>\n",
       "    <tr>\n",
       "      <th>0</th>\n",
       "      <td>B</td>\n",
       "      <td>78.750</td>\n",
       "      <td>77.5</td>\n",
       "      <td>2</td>\n",
       "    </tr>\n",
       "    <tr>\n",
       "      <th>1</th>\n",
       "      <td>C</td>\n",
       "      <td>61.875</td>\n",
       "      <td>60.0</td>\n",
       "      <td>4</td>\n",
       "    </tr>\n",
       "  </tbody>\n",
       "</table>\n",
       "</div>"
      ],
      "text/plain": [
       "  Grade  Science Marks  Maths  Student Count\n",
       "0     B         78.750   77.5              2\n",
       "1     C         61.875   60.0              4"
      ]
     },
     "execution_count": 101,
     "metadata": {},
     "output_type": "execute_result"
    }
   ],
   "source": [
    "grade_stats"
   ]
  },
  {
   "cell_type": "markdown",
   "id": "9207eeed-711b-4ddf-a28a-432577da302c",
   "metadata": {},
   "source": [
    "df"
   ]
  },
  {
   "cell_type": "code",
   "execution_count": 107,
   "id": "5cab1366-8c94-4479-ac40-bfdff5455a58",
   "metadata": {},
   "outputs": [],
   "source": [
    "df[\"Passed\"]=np.where((df[\"Science Marks\"]>=40) & (df[\"Maths\"]>=40),\"Pass\",\"Fail\")"
   ]
  },
  {
   "cell_type": "code",
   "execution_count": 108,
   "id": "e464c2ff-4580-4467-98a9-6a54a17ecfcc",
   "metadata": {},
   "outputs": [
    {
     "data": {
      "text/html": [
       "<div>\n",
       "<style scoped>\n",
       "    .dataframe tbody tr th:only-of-type {\n",
       "        vertical-align: middle;\n",
       "    }\n",
       "\n",
       "    .dataframe tbody tr th {\n",
       "        vertical-align: top;\n",
       "    }\n",
       "\n",
       "    .dataframe thead th {\n",
       "        text-align: right;\n",
       "    }\n",
       "</style>\n",
       "<table border=\"1\" class=\"dataframe\">\n",
       "  <thead>\n",
       "    <tr style=\"text-align: right;\">\n",
       "      <th></th>\n",
       "      <th>Science Marks</th>\n",
       "      <th>Maths</th>\n",
       "      <th>Average</th>\n",
       "      <th>Grade</th>\n",
       "      <th>Passed</th>\n",
       "    </tr>\n",
       "  </thead>\n",
       "  <tbody>\n",
       "    <tr>\n",
       "      <th>0</th>\n",
       "      <td>60.0</td>\n",
       "      <td>50</td>\n",
       "      <td>55.00</td>\n",
       "      <td>C</td>\n",
       "      <td>Pass</td>\n",
       "    </tr>\n",
       "    <tr>\n",
       "      <th>1</th>\n",
       "      <td>70.0</td>\n",
       "      <td>65</td>\n",
       "      <td>67.50</td>\n",
       "      <td>C</td>\n",
       "      <td>Pass</td>\n",
       "    </tr>\n",
       "    <tr>\n",
       "      <th>2</th>\n",
       "      <td>67.5</td>\n",
       "      <td>80</td>\n",
       "      <td>73.75</td>\n",
       "      <td>B</td>\n",
       "      <td>Pass</td>\n",
       "    </tr>\n",
       "    <tr>\n",
       "      <th>3</th>\n",
       "      <td>90.0</td>\n",
       "      <td>75</td>\n",
       "      <td>82.50</td>\n",
       "      <td>B</td>\n",
       "      <td>Pass</td>\n",
       "    </tr>\n",
       "    <tr>\n",
       "      <th>4</th>\n",
       "      <td>50.0</td>\n",
       "      <td>85</td>\n",
       "      <td>67.50</td>\n",
       "      <td>C</td>\n",
       "      <td>Pass</td>\n",
       "    </tr>\n",
       "    <tr>\n",
       "      <th>5</th>\n",
       "      <td>67.5</td>\n",
       "      <td>40</td>\n",
       "      <td>53.75</td>\n",
       "      <td>C</td>\n",
       "      <td>Pass</td>\n",
       "    </tr>\n",
       "  </tbody>\n",
       "</table>\n",
       "</div>"
      ],
      "text/plain": [
       "   Science Marks  Maths  Average Grade Passed\n",
       "0           60.0     50    55.00     C   Pass\n",
       "1           70.0     65    67.50     C   Pass\n",
       "2           67.5     80    73.75     B   Pass\n",
       "3           90.0     75    82.50     B   Pass\n",
       "4           50.0     85    67.50     C   Pass\n",
       "5           67.5     40    53.75     C   Pass"
      ]
     },
     "execution_count": 108,
     "metadata": {},
     "output_type": "execute_result"
    }
   ],
   "source": [
    "df"
   ]
  },
  {
   "cell_type": "code",
   "execution_count": 109,
   "id": "11dbdfd5-b47f-4311-a2db-7518e9d5b0c3",
   "metadata": {},
   "outputs": [
    {
     "name": "stdout",
     "output_type": "stream",
     "text": [
      "   Science Marks  Maths  Average Grade Passed\n",
      "0           60.0   50.0    55.00     C   Pass\n",
      "1           70.0   65.0    67.50     B   Pass\n",
      "2           67.5   80.0    73.75     B   Pass\n",
      "3           90.0   75.0    82.50     A   Pass\n",
      "4           50.0   85.0    67.50     B   Pass\n",
      "5           67.5   40.0    53.75     C   Pass\n",
      "6           35.0   60.0    47.50     C   Fail\n"
     ]
    }
   ],
   "source": [
    "# Add a new row (student with Science=35, Maths=60)\n",
    "df.loc[len(df)] = [35, 60, None, None, None]   # placeholders for Average, Grade, Passed\n",
    "\n",
    "# Recalculate Average, Grade, and Passed for this row\n",
    "df[\"Average\"] = (df[\"Science Marks\"] + df[\"Maths\"]) / 2\n",
    "df[\"Grade\"] = np.where(df[\"Average\"] >= 80, \"A\",\n",
    "              np.where(df[\"Average\"] >= 60, \"B\", \"C\"))\n",
    "df[\"Passed\"] = np.where((df[\"Science Marks\"] >= 40) & (df[\"Maths\"] >= 40), \"Pass\", \"Fail\")\n",
    "\n",
    "print(df)\n"
   ]
  },
  {
   "cell_type": "markdown",
   "id": "9ba2a7c0-72d9-42e6-b169-b476b3256e3a",
   "metadata": {},
   "source": [
    "Larger dataset (more rows + variety).\n",
    "\n",
    "GroupBy operations (like pivot tables in Excel).\n",
    "\n",
    "Aggregation (mean, sum, count).\n",
    "\n",
    "Sorting & filtering after grouping."
   ]
  },
  {
   "cell_type": "code",
   "execution_count": 110,
   "id": "406ec217-b473-4c82-b4dc-9e6e54f79597",
   "metadata": {},
   "outputs": [
    {
     "name": "stdout",
     "output_type": "stream",
     "text": [
      "  Student Section  Maths  Science  English\n",
      "0    Amit       A     80       78       85\n",
      "1    Neha       A     65       55       70\n",
      "2     Raj       B     70       68       75\n",
      "3  Simran       B     85       82       90\n",
      "4   Arjun       A     60       49       65\n",
      "5   Priya       B     55       60       58\n",
      "6   Kiran       A     90       88       92\n",
      "7   Meena       B     75       72       80\n"
     ]
    }
   ],
   "source": [
    "import pandas as pd\n",
    "\n",
    "data = {\n",
    "    \"Student\": [\"Amit\", \"Neha\", \"Raj\", \"Simran\", \"Arjun\", \"Priya\", \"Kiran\", \"Meena\"],\n",
    "    \"Section\": [\"A\", \"A\", \"B\", \"B\", \"A\", \"B\", \"A\", \"B\"],\n",
    "    \"Maths\": [80, 65, 70, 85, 60, 55, 90, 75],\n",
    "    \"Science\": [78, 55, 68, 82, 49, 60, 88, 72],\n",
    "    \"English\": [85, 70, 75, 90, 65, 58, 92, 80]\n",
    "}\n",
    "\n",
    "df = pd.DataFrame(data)\n",
    "print(df)\n"
   ]
  },
  {
   "cell_type": "code",
   "execution_count": 150,
   "id": "6c219d42-f1fc-4be6-aec0-134e4b0cdfbc",
   "metadata": {},
   "outputs": [],
   "source": [
    "secdf=df.copy()"
   ]
  },
  {
   "cell_type": "code",
   "execution_count": 151,
   "id": "98af423f-d517-4db5-b39a-7c40b55db4ae",
   "metadata": {},
   "outputs": [
    {
     "data": {
      "text/html": [
       "<div>\n",
       "<style scoped>\n",
       "    .dataframe tbody tr th:only-of-type {\n",
       "        vertical-align: middle;\n",
       "    }\n",
       "\n",
       "    .dataframe tbody tr th {\n",
       "        vertical-align: top;\n",
       "    }\n",
       "\n",
       "    .dataframe thead th {\n",
       "        text-align: right;\n",
       "    }\n",
       "</style>\n",
       "<table border=\"1\" class=\"dataframe\">\n",
       "  <thead>\n",
       "    <tr style=\"text-align: right;\">\n",
       "      <th></th>\n",
       "      <th>Student</th>\n",
       "      <th>Section</th>\n",
       "      <th>Maths</th>\n",
       "      <th>Science</th>\n",
       "      <th>English</th>\n",
       "    </tr>\n",
       "  </thead>\n",
       "  <tbody>\n",
       "    <tr>\n",
       "      <th>0</th>\n",
       "      <td>Amit</td>\n",
       "      <td>A</td>\n",
       "      <td>80</td>\n",
       "      <td>78</td>\n",
       "      <td>85</td>\n",
       "    </tr>\n",
       "    <tr>\n",
       "      <th>1</th>\n",
       "      <td>Neha</td>\n",
       "      <td>A</td>\n",
       "      <td>65</td>\n",
       "      <td>55</td>\n",
       "      <td>70</td>\n",
       "    </tr>\n",
       "    <tr>\n",
       "      <th>2</th>\n",
       "      <td>Raj</td>\n",
       "      <td>B</td>\n",
       "      <td>70</td>\n",
       "      <td>68</td>\n",
       "      <td>75</td>\n",
       "    </tr>\n",
       "    <tr>\n",
       "      <th>3</th>\n",
       "      <td>Simran</td>\n",
       "      <td>B</td>\n",
       "      <td>85</td>\n",
       "      <td>82</td>\n",
       "      <td>90</td>\n",
       "    </tr>\n",
       "    <tr>\n",
       "      <th>4</th>\n",
       "      <td>Arjun</td>\n",
       "      <td>A</td>\n",
       "      <td>60</td>\n",
       "      <td>49</td>\n",
       "      <td>65</td>\n",
       "    </tr>\n",
       "    <tr>\n",
       "      <th>5</th>\n",
       "      <td>Priya</td>\n",
       "      <td>B</td>\n",
       "      <td>55</td>\n",
       "      <td>60</td>\n",
       "      <td>58</td>\n",
       "    </tr>\n",
       "    <tr>\n",
       "      <th>6</th>\n",
       "      <td>Kiran</td>\n",
       "      <td>A</td>\n",
       "      <td>90</td>\n",
       "      <td>88</td>\n",
       "      <td>92</td>\n",
       "    </tr>\n",
       "    <tr>\n",
       "      <th>7</th>\n",
       "      <td>Meena</td>\n",
       "      <td>B</td>\n",
       "      <td>75</td>\n",
       "      <td>72</td>\n",
       "      <td>80</td>\n",
       "    </tr>\n",
       "  </tbody>\n",
       "</table>\n",
       "</div>"
      ],
      "text/plain": [
       "  Student Section  Maths  Science  English\n",
       "0    Amit       A     80       78       85\n",
       "1    Neha       A     65       55       70\n",
       "2     Raj       B     70       68       75\n",
       "3  Simran       B     85       82       90\n",
       "4   Arjun       A     60       49       65\n",
       "5   Priya       B     55       60       58\n",
       "6   Kiran       A     90       88       92\n",
       "7   Meena       B     75       72       80"
      ]
     },
     "execution_count": 151,
     "metadata": {},
     "output_type": "execute_result"
    }
   ],
   "source": [
    "secdf"
   ]
  },
  {
   "cell_type": "code",
   "execution_count": 152,
   "id": "8392d413-e34b-4a09-9b74-a03b6d3de2bf",
   "metadata": {},
   "outputs": [],
   "source": [
    "secdf= secdf.groupby(\"Section\").agg(\n",
    "    Student_count=(\"Student\",\"count\"),\n",
    "    Maths_Avg=(\"Maths\",\"mean\"),\n",
    "    Science_Avg=(\"Science\",\"mean\"),\n",
    "    English_Mean=(\"English\",\"mean\")\n",
    ")"
   ]
  },
  {
   "cell_type": "code",
   "execution_count": 153,
   "id": "3edb876b-e16c-441c-acc0-ed62834d0d1b",
   "metadata": {},
   "outputs": [
    {
     "data": {
      "text/html": [
       "<div>\n",
       "<style scoped>\n",
       "    .dataframe tbody tr th:only-of-type {\n",
       "        vertical-align: middle;\n",
       "    }\n",
       "\n",
       "    .dataframe tbody tr th {\n",
       "        vertical-align: top;\n",
       "    }\n",
       "\n",
       "    .dataframe thead th {\n",
       "        text-align: right;\n",
       "    }\n",
       "</style>\n",
       "<table border=\"1\" class=\"dataframe\">\n",
       "  <thead>\n",
       "    <tr style=\"text-align: right;\">\n",
       "      <th></th>\n",
       "      <th>Section</th>\n",
       "      <th>Student_count</th>\n",
       "      <th>Maths_Avg</th>\n",
       "      <th>Science_Avg</th>\n",
       "      <th>English_Mean</th>\n",
       "    </tr>\n",
       "  </thead>\n",
       "  <tbody>\n",
       "    <tr>\n",
       "      <th>0</th>\n",
       "      <td>A</td>\n",
       "      <td>4</td>\n",
       "      <td>73.75</td>\n",
       "      <td>67.5</td>\n",
       "      <td>78.00</td>\n",
       "    </tr>\n",
       "    <tr>\n",
       "      <th>1</th>\n",
       "      <td>B</td>\n",
       "      <td>4</td>\n",
       "      <td>71.25</td>\n",
       "      <td>70.5</td>\n",
       "      <td>75.75</td>\n",
       "    </tr>\n",
       "  </tbody>\n",
       "</table>\n",
       "</div>"
      ],
      "text/plain": [
       "  Section  Student_count  Maths_Avg  Science_Avg  English_Mean\n",
       "0       A              4      73.75         67.5         78.00\n",
       "1       B              4      71.25         70.5         75.75"
      ]
     },
     "execution_count": 153,
     "metadata": {},
     "output_type": "execute_result"
    }
   ],
   "source": [
    "secdf.reset_index()"
   ]
  },
  {
   "cell_type": "code",
   "execution_count": 164,
   "id": "3d459359-1dda-45d2-8d1a-e8ce9c1ca35c",
   "metadata": {},
   "outputs": [],
   "source": [
    "secdf[\"Overall_Avg\"]=(secdf[\"Maths_Avg\"]+secdf[\"Science_Avg\"]+secdf[\"English_Mean\"])/3"
   ]
  },
  {
   "cell_type": "code",
   "execution_count": 165,
   "id": "76eb9f47-84c3-4cdd-98bb-8b700e50aae5",
   "metadata": {},
   "outputs": [
    {
     "data": {
      "text/plain": [
       "'A'"
      ]
     },
     "execution_count": 165,
     "metadata": {},
     "output_type": "execute_result"
    }
   ],
   "source": [
    "secdf[\"Overall_Avg\"].idxmax()"
   ]
  },
  {
   "cell_type": "code",
   "execution_count": 166,
   "id": "604e59e8-1e00-411f-b11a-661253b3db40",
   "metadata": {},
   "outputs": [
    {
     "name": "stdout",
     "output_type": "stream",
     "text": [
      "Top Section: B\n",
      "Overall Average: 73.08333333333333\n"
     ]
    }
   ],
   "source": [
    "top_section = secdf[\"Overall_Avg\"].idxmin()   # Section with highest avg\n",
    "top_avg = secdf[\"Overall_Avg\"].max()         # The highest avg value\n",
    "\n",
    "print(\"Top Section:\", top_section)\n",
    "print(\"Overall Average:\", top_avg)\n"
   ]
  },
  {
   "cell_type": "code",
   "execution_count": 167,
   "id": "d22a216c-c1af-4812-9ce5-604facf500a0",
   "metadata": {},
   "outputs": [
    {
     "name": "stdout",
     "output_type": "stream",
     "text": [
      "Student_count     4.00\n",
      "Maths_Avg        71.25\n",
      "Science_Avg      70.50\n",
      "English_Mean     75.75\n",
      "Overall_Avg      72.50\n",
      "Name: B, dtype: float64\n"
     ]
    }
   ],
   "source": [
    "bottom_section_row = secdf.loc[secdf[\"Overall_Avg\"].idxmin()]\n",
    "print(bottom_section_row)\n"
   ]
  },
  {
   "cell_type": "code",
   "execution_count": 168,
   "id": "d1b04630-43be-48f7-a140-8ec47241cc44",
   "metadata": {},
   "outputs": [],
   "source": [
    "top_section_row = secdf.loc[secdf[\"Overall_Avg\"].idxmax()]\n",
    "bottom_section_row = secdf.loc[secdf[\"Overall_Avg\"].idxmin()]\n"
   ]
  },
  {
   "cell_type": "code",
   "execution_count": 174,
   "id": "bea780a5-3f1f-4517-b184-f8e53de873e8",
   "metadata": {},
   "outputs": [],
   "source": [
    "summarydf = pd.DataFrame([top_section_row, bottom_section_row],\n",
    "                         index=[\"Top Section\", \"Bottom Section\"])\n"
   ]
  },
  {
   "cell_type": "code",
   "execution_count": 175,
   "id": "567eb73c-69ce-4717-aaf4-f15a4013178f",
   "metadata": {},
   "outputs": [
    {
     "data": {
      "text/html": [
       "<div>\n",
       "<style scoped>\n",
       "    .dataframe tbody tr th:only-of-type {\n",
       "        vertical-align: middle;\n",
       "    }\n",
       "\n",
       "    .dataframe tbody tr th {\n",
       "        vertical-align: top;\n",
       "    }\n",
       "\n",
       "    .dataframe thead th {\n",
       "        text-align: right;\n",
       "    }\n",
       "</style>\n",
       "<table border=\"1\" class=\"dataframe\">\n",
       "  <thead>\n",
       "    <tr style=\"text-align: right;\">\n",
       "      <th></th>\n",
       "      <th>Student_count</th>\n",
       "      <th>Maths_Avg</th>\n",
       "      <th>Science_Avg</th>\n",
       "      <th>English_Mean</th>\n",
       "      <th>Overall_Avg</th>\n",
       "    </tr>\n",
       "  </thead>\n",
       "  <tbody>\n",
       "    <tr>\n",
       "      <th>Top Section</th>\n",
       "      <td>4.0</td>\n",
       "      <td>73.75</td>\n",
       "      <td>67.5</td>\n",
       "      <td>78.00</td>\n",
       "      <td>73.083333</td>\n",
       "    </tr>\n",
       "    <tr>\n",
       "      <th>Bottom Section</th>\n",
       "      <td>4.0</td>\n",
       "      <td>71.25</td>\n",
       "      <td>70.5</td>\n",
       "      <td>75.75</td>\n",
       "      <td>72.500000</td>\n",
       "    </tr>\n",
       "  </tbody>\n",
       "</table>\n",
       "</div>"
      ],
      "text/plain": [
       "                Student_count  Maths_Avg  Science_Avg  English_Mean  \\\n",
       "Top Section               4.0      73.75         67.5         78.00   \n",
       "Bottom Section            4.0      71.25         70.5         75.75   \n",
       "\n",
       "                Overall_Avg  \n",
       "Top Section       73.083333  \n",
       "Bottom Section    72.500000  "
      ]
     },
     "execution_count": 175,
     "metadata": {},
     "output_type": "execute_result"
    }
   ],
   "source": [
    "summarydf"
   ]
  },
  {
   "cell_type": "code",
   "execution_count": 177,
   "id": "1ad2c576-a695-4e76-9e57-89a6369fda94",
   "metadata": {},
   "outputs": [],
   "source": [
    "summarydf = pd.DataFrame(\n",
    "    [top_section_row[[\"Student_count\", \"Overall_Avg\"]],\n",
    "     bottom_section_row[[\"Student_count\", \"Overall_Avg\"]]],\n",
    "    index=[\"Top Section\", \"Bottom Section\"]\n",
    ")\n"
   ]
  },
  {
   "cell_type": "code",
   "execution_count": 178,
   "id": "f22d50e5-b58d-4c97-a5ce-096a0f3bf03d",
   "metadata": {},
   "outputs": [
    {
     "data": {
      "text/html": [
       "<div>\n",
       "<style scoped>\n",
       "    .dataframe tbody tr th:only-of-type {\n",
       "        vertical-align: middle;\n",
       "    }\n",
       "\n",
       "    .dataframe tbody tr th {\n",
       "        vertical-align: top;\n",
       "    }\n",
       "\n",
       "    .dataframe thead th {\n",
       "        text-align: right;\n",
       "    }\n",
       "</style>\n",
       "<table border=\"1\" class=\"dataframe\">\n",
       "  <thead>\n",
       "    <tr style=\"text-align: right;\">\n",
       "      <th></th>\n",
       "      <th>Student_count</th>\n",
       "      <th>Overall_Avg</th>\n",
       "    </tr>\n",
       "  </thead>\n",
       "  <tbody>\n",
       "    <tr>\n",
       "      <th>Top Section</th>\n",
       "      <td>4.0</td>\n",
       "      <td>73.083333</td>\n",
       "    </tr>\n",
       "    <tr>\n",
       "      <th>Bottom Section</th>\n",
       "      <td>4.0</td>\n",
       "      <td>72.500000</td>\n",
       "    </tr>\n",
       "  </tbody>\n",
       "</table>\n",
       "</div>"
      ],
      "text/plain": [
       "                Student_count  Overall_Avg\n",
       "Top Section               4.0    73.083333\n",
       "Bottom Section            4.0    72.500000"
      ]
     },
     "execution_count": 178,
     "metadata": {},
     "output_type": "execute_result"
    }
   ],
   "source": [
    "summarydf"
   ]
  },
  {
   "cell_type": "code",
   "execution_count": 179,
   "id": "e8b4fbb8-22dd-4fee-bb14-34b0ccd546d7",
   "metadata": {},
   "outputs": [],
   "source": [
    "summarydf = pd.DataFrame({\n",
    "    \"Section\": [top_section_row.name, bottom_section_row.name],\n",
    "    \"Student\": [top_section_row[\"Student_count\"], bottom_section_row[\"Student_count\"]],\n",
    "    \"Overall_Avg\": [top_section_row[\"Overall_Avg\"], bottom_section_row[\"Overall_Avg\"]]\n",
    "}, index=[\"Top Section\", \"Bottom Section\"])\n"
   ]
  },
  {
   "cell_type": "code",
   "execution_count": 180,
   "id": "31601e0f-a4e0-41d6-a06e-2fd1c5bda2d2",
   "metadata": {},
   "outputs": [
    {
     "data": {
      "text/html": [
       "<div>\n",
       "<style scoped>\n",
       "    .dataframe tbody tr th:only-of-type {\n",
       "        vertical-align: middle;\n",
       "    }\n",
       "\n",
       "    .dataframe tbody tr th {\n",
       "        vertical-align: top;\n",
       "    }\n",
       "\n",
       "    .dataframe thead th {\n",
       "        text-align: right;\n",
       "    }\n",
       "</style>\n",
       "<table border=\"1\" class=\"dataframe\">\n",
       "  <thead>\n",
       "    <tr style=\"text-align: right;\">\n",
       "      <th></th>\n",
       "      <th>Section</th>\n",
       "      <th>Student</th>\n",
       "      <th>Overall_Avg</th>\n",
       "    </tr>\n",
       "  </thead>\n",
       "  <tbody>\n",
       "    <tr>\n",
       "      <th>Top Section</th>\n",
       "      <td>A</td>\n",
       "      <td>4.0</td>\n",
       "      <td>73.083333</td>\n",
       "    </tr>\n",
       "    <tr>\n",
       "      <th>Bottom Section</th>\n",
       "      <td>B</td>\n",
       "      <td>4.0</td>\n",
       "      <td>72.500000</td>\n",
       "    </tr>\n",
       "  </tbody>\n",
       "</table>\n",
       "</div>"
      ],
      "text/plain": [
       "               Section  Student  Overall_Avg\n",
       "Top Section          A      4.0    73.083333\n",
       "Bottom Section       B      4.0    72.500000"
      ]
     },
     "execution_count": 180,
     "metadata": {},
     "output_type": "execute_result"
    }
   ],
   "source": [
    "summarydf"
   ]
  },
  {
   "cell_type": "code",
   "execution_count": 181,
   "id": "ffc218d1-a993-430b-822f-b9d28532df6a",
   "metadata": {},
   "outputs": [
    {
     "data": {
      "text/html": [
       "<style type=\"text/css\">\n",
       "#T_6c8de_row0_col0, #T_6c8de_row0_col1, #T_6c8de_row0_col2 {\n",
       "  background-color: lightgreen;\n",
       "}\n",
       "#T_6c8de_row1_col0, #T_6c8de_row1_col1, #T_6c8de_row1_col2 {\n",
       "  background-color: lightcoral;\n",
       "}\n",
       "</style>\n",
       "<table id=\"T_6c8de\">\n",
       "  <thead>\n",
       "    <tr>\n",
       "      <th class=\"blank level0\" >&nbsp;</th>\n",
       "      <th id=\"T_6c8de_level0_col0\" class=\"col_heading level0 col0\" >Section</th>\n",
       "      <th id=\"T_6c8de_level0_col1\" class=\"col_heading level0 col1\" >Student</th>\n",
       "      <th id=\"T_6c8de_level0_col2\" class=\"col_heading level0 col2\" >Overall_Avg</th>\n",
       "    </tr>\n",
       "  </thead>\n",
       "  <tbody>\n",
       "    <tr>\n",
       "      <th id=\"T_6c8de_level0_row0\" class=\"row_heading level0 row0\" >Top Section</th>\n",
       "      <td id=\"T_6c8de_row0_col0\" class=\"data row0 col0\" >A</td>\n",
       "      <td id=\"T_6c8de_row0_col1\" class=\"data row0 col1\" >4.000000</td>\n",
       "      <td id=\"T_6c8de_row0_col2\" class=\"data row0 col2\" >73.083333</td>\n",
       "    </tr>\n",
       "    <tr>\n",
       "      <th id=\"T_6c8de_level0_row1\" class=\"row_heading level0 row1\" >Bottom Section</th>\n",
       "      <td id=\"T_6c8de_row1_col0\" class=\"data row1 col0\" >B</td>\n",
       "      <td id=\"T_6c8de_row1_col1\" class=\"data row1 col1\" >4.000000</td>\n",
       "      <td id=\"T_6c8de_row1_col2\" class=\"data row1 col2\" >72.500000</td>\n",
       "    </tr>\n",
       "  </tbody>\n",
       "</table>\n"
      ],
      "text/plain": [
       "<pandas.io.formats.style.Styler at 0x2270bc88ec0>"
      ]
     },
     "execution_count": 181,
     "metadata": {},
     "output_type": "execute_result"
    }
   ],
   "source": [
    "def highlight_rows(row):\n",
    "    if row.name == \"Top Section\":\n",
    "        return ['background-color: lightgreen'] * len(row)\n",
    "    elif row.name == \"Bottom Section\":\n",
    "        return ['background-color: lightcoral'] * len(row)\n",
    "    else:\n",
    "        return [''] * len(row)\n",
    "\n",
    "styled_summary = summarydf.style.apply(highlight_rows, axis=1)\n",
    "styled_summary\n"
   ]
  },
  {
   "cell_type": "code",
   "execution_count": null,
   "id": "806857fa-5ce7-4787-82bc-2bb26cf4e1f4",
   "metadata": {},
   "outputs": [],
   "source": []
  }
 ],
 "metadata": {
  "kernelspec": {
   "display_name": "Python 3 (ipykernel)",
   "language": "python",
   "name": "python3"
  },
  "language_info": {
   "codemirror_mode": {
    "name": "ipython",
    "version": 3
   },
   "file_extension": ".py",
   "mimetype": "text/x-python",
   "name": "python",
   "nbconvert_exporter": "python",
   "pygments_lexer": "ipython3",
   "version": "3.13.6"
  }
 },
 "nbformat": 4,
 "nbformat_minor": 5
}
