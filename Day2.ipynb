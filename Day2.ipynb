{
 "cells": [
  {
   "cell_type": "markdown",
   "id": "ba2b12ed-420c-46ac-b799-6f8dd76acbf4",
   "metadata": {},
   "source": [
    "Mini Recap: Numpy Array"
   ]
  },
  {
   "cell_type": "code",
   "execution_count": 1,
   "id": "b2bb4b26-2a1e-4ead-af8c-0050436564a4",
   "metadata": {},
   "outputs": [
    {
     "name": "stdout",
     "output_type": "stream",
     "text": [
      "[1 2 3 4 5]\n",
      "(5,)\n"
     ]
    }
   ],
   "source": [
    "import numpy as np\n",
    "arr= np.array([1,2,3,4,5])\n",
    "print(arr)\n",
    "print(arr.shape)"
   ]
  },
  {
   "cell_type": "markdown",
   "id": "88c9b13d-b86b-4a08-8de4-4ce1833be6cf",
   "metadata": {},
   "source": [
    "Practice Questions"
   ]
  },
  {
   "cell_type": "markdown",
   "id": "1f9b8561-35a8-4c03-9ba0-a0e33a299dae",
   "metadata": {},
   "source": [
    "Q1) Create a Numpy array containing numbers from 10 to 20"
   ]
  },
  {
   "cell_type": "code",
   "execution_count": 10,
   "id": "fc16159d-a44d-48e3-8d88-45c288ef4878",
   "metadata": {},
   "outputs": [
    {
     "name": "stdout",
     "output_type": "stream",
     "text": [
      "[10 11 12 13 14 15 16 17 18 19 20]\n"
     ]
    }
   ],
   "source": [
    "import numpy as np\n",
    "arr= np.array([10,11,12,13,14,15,16,17,18,19,20])\n",
    "print(arr)"
   ]
  },
  {
   "cell_type": "markdown",
   "id": "cf871528-d1f3-48b5-9cbd-f0bc53975a9f",
   "metadata": {},
   "source": [
    "This can also be done using Numpy's arange"
   ]
  },
  {
   "cell_type": "code",
   "execution_count": 13,
   "id": "f3d8062c-7a6a-4bbf-a55b-31bf7895649c",
   "metadata": {},
   "outputs": [
    {
     "name": "stdout",
     "output_type": "stream",
     "text": [
      "[10 11 12 13 14 15 16 17 18 19 20]\n"
     ]
    }
   ],
   "source": [
    "import numpy as np\n",
    "arr=np.arange(10,21)\n",
    "print(arr)\n"
   ]
  },
  {
   "cell_type": "markdown",
   "id": "0c6fd3b1-00d0-4b01-a4a9-4f29097434eb",
   "metadata": {},
   "source": [
    "Q2) Array Operations\n",
    "\n",
    "If \n",
    "a = np.array([1,2,3])\n",
    "b= np.array([4,5,6])\n",
    "\n",
    "What will be the result of a+b, a*b"
   ]
  },
  {
   "cell_type": "code",
   "execution_count": 18,
   "id": "9703039d-b43d-46b7-9f0f-5d4770b1f739",
   "metadata": {},
   "outputs": [
    {
     "name": "stdout",
     "output_type": "stream",
     "text": [
      "[5 7 9]\n",
      "[ 4 10 18]\n",
      "[1, 2, 3, 4, 5, 6]\n"
     ]
    }
   ],
   "source": [
    "a=np.array([1,2,3])\n",
    "b=np.array([4,5,6])\n",
    "print(a+b)\n",
    "print(a*b)\n",
    "c=[1,2,3]\n",
    "d=[4,5,6]\n",
    "print(c+d)\n",
    "# print(c*d) # TypeError: can't multiply sequence by non-int of type 'list'"
   ]
  },
  {
   "cell_type": "markdown",
   "id": "ceb45fe1-78d5-4971-8b94-c4f7d25c7bf9",
   "metadata": {},
   "source": [
    "Unlike Normal Python lists where a*2 would repeat the list, Numpy does the actual Math"
   ]
  },
  {
   "cell_type": "code",
   "execution_count": 19,
   "id": "d87e2e2a-c9e7-4cab-bde8-1aa1a21560eb",
   "metadata": {},
   "outputs": [],
   "source": [
    "#Q3. Slicing\n",
    "\n",
    "arr = np.array([10, 20, 30, 40, 50])"
   ]
  },
  {
   "cell_type": "code",
   "execution_count": 24,
   "id": "07f8badb-9532-40bb-9332-4d9cc2a5e99e",
   "metadata": {},
   "outputs": [
    {
     "name": "stdout",
     "output_type": "stream",
     "text": [
      "[20 30 40]\n"
     ]
    }
   ],
   "source": [
    "# How do you extract the middle three numbers [20, 30, 40]?\n",
    "slicearr= arr[1:4]\n",
    "print(slicearr)"
   ]
  },
  {
   "cell_type": "code",
   "execution_count": 27,
   "id": "03116e91-de15-4bcf-9595-4a5a473a4bbc",
   "metadata": {},
   "outputs": [],
   "source": [
    "#Q4)) (3×3 matrix with numbers 1–9, then extract the 2nd row).\n",
    "matr=np.array([[1,2,3],[4,5,6],[7,8,9]])"
   ]
  },
  {
   "cell_type": "code",
   "execution_count": 28,
   "id": "bab31b4e-790e-44d4-bac8-fa18b847bb37",
   "metadata": {},
   "outputs": [
    {
     "name": "stdout",
     "output_type": "stream",
     "text": [
      "[[1 2 3]\n",
      " [4 5 6]\n",
      " [7 8 9]]\n"
     ]
    }
   ],
   "source": [
    "print(matr)"
   ]
  },
  {
   "cell_type": "code",
   "execution_count": 29,
   "id": "3fd6debe-1b1c-431b-82aa-fbd6fce46c25",
   "metadata": {},
   "outputs": [
    {
     "name": "stdout",
     "output_type": "stream",
     "text": [
      "[4 5 6]\n"
     ]
    }
   ],
   "source": [
    "print(matr[1]) # to fetch the second row"
   ]
  },
  {
   "cell_type": "code",
   "execution_count": 30,
   "id": "55a05db0-f194-4702-8527-8c9b8615aaaf",
   "metadata": {},
   "outputs": [
    {
     "name": "stdout",
     "output_type": "stream",
     "text": [
      "[[1 2 3]\n",
      " [4 5 6]\n",
      " [7 8 9]]\n"
     ]
    }
   ],
   "source": [
    "# This array can also be generated without typing the nnumbers manually\n",
    "matrix= np.arange(1,10).reshape(3,3)\n",
    "print(matrix)"
   ]
  }
 ],
 "metadata": {
  "kernelspec": {
   "display_name": "Python 3 (ipykernel)",
   "language": "python",
   "name": "python3"
  },
  "language_info": {
   "codemirror_mode": {
    "name": "ipython",
    "version": 3
   },
   "file_extension": ".py",
   "mimetype": "text/x-python",
   "name": "python",
   "nbconvert_exporter": "python",
   "pygments_lexer": "ipython3",
   "version": "3.13.6"
  }
 },
 "nbformat": 4,
 "nbformat_minor": 5
}
